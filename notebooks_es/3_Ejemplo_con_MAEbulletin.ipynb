{
 "cells": [
  {
   "cell_type": "markdown",
   "metadata": {},
   "source": [
    "###### Contenido bajo licencia Creative Commons Attribution CC-BY 4.0, código bajo licencia BSD 3-Clause © 2017 L.A. Barba, N.C. Clementi"
   ]
  },
  {
   "cell_type": "markdown",
   "metadata": {},
   "source": [
    "# Cadenas y listas en acción\n",
    "\n",
    "Después de completar [Lección 1](http://nbviewer.jupyter.org/github/engineersCode/EngComp1_offtheground/blob/master/notebooks_en/1_Interacting_with_Python.ipynb) y [Lesson 2](http://nbviewer.jupyter.org/github) /engineersCode/EngComp1_offtheground/blob/master/notebooks_en/2_Jupyter_strings_and_lists.ipynb) de este curso en _\"Engineering Computations_,\"\n",
    "aquí tenemos un ejemplo completo usando todo lo que has aprendido.\n",
    "\n",
    "Quizás te estés preguntando por qué estamos dedicando las primeras lecciones del curso a jugar con cadenas y listas. _\"¡Los cálculos de ingeniería implican números, fórmulas y ecuaciones!\"_, Puede estar pensando. La razón es que este curso no asume ninguna experiencia de programación, por lo que queremos que todos estén acostumbrados a Python primero, sin agregar la complejidad adicional de la generación de números. La idea es familiarizarse primero con los constructos de programación, aplicándolos a situaciones que no implican matemáticas ... ¡por ahora!"
   ]
  },
  {
   "cell_type": "markdown",
   "metadata": {},
   "source": [
    "## Juega con el boletín MAE\n",
    "\n",
    "Vamos a jugar con el texto de un archivo que contiene una copia del [MAE Bulletin](http://bulletin.gwu.edu/engineering-applied-science/mechanical-aerospace-engineering/#coursestext) para 2017-2018. Crearemos diferentes listas para permitirnos ubicar el título, los créditos y la descripción de un curso en función del código del curso.\n",
    "\n",
    "El archivo de datos para este ejemplo debe ubicarse en una carpeta llamada `datos`, dos niveles por encima de la ubicación de esta lección, si copió los materiales del curso tal como fueron almacenados. Si tiene los datos en otro lugar, debe editar la ruta completa a continuación.\n",
    "\n",
    "Comenzaremos leyendo el archivo de datos en el cuaderno Jupyter, luego limpiaremos un poco los datos y finalmente resolveremos las formas de jugar con él."
   ]
  },
  {
   "cell_type": "markdown",
   "metadata": {},
   "source": [
    "### Leer datos de un archivo\n",
    "\n",
    "Sabemos que tenemos un archivo de datos y nos gustaría leer su contenido en el cuaderno de Jupyter. Por lo general, es una buena idea echar un vistazo primero al archivo, para ver cómo se ve su contenido. Esto también nos da la oportunidad de enseñarle un truco muy bueno.\n",
    "\n",
    "Recuerde que las celdas de código en una computadora portátil Jupyter pueden manejar cualquier declaración válida ** IPython **. Bueno, IPython es capaz de hacer algo más que solo Python: también puede ejecutar cualquier [comando del sistema](https://ipython.org/ipython-doc/3/interactive/reference.html#system-shell-access) . Si conoce un poco de Unix, esto puede ser muy útil; por ejemplo, podría enumerar todos los archivos en el directorio de trabajo (su ubicación en el sistema de archivos de la computadora).\n",
    "\n",
    "Para ejecutar un comando de sistema (a.k.a., shell), antepone `!` -a \"bang\". El comando que necesitamos es `head`: imprime las primeras líneas de un archivo.\n",
    "\n",
    "Nuestra carpeta de datos se encuentra dos directorios arriba de las lecciones (este cuaderno Jupyter): en Unix, ir _a_ un directorio está indicado por dos puntos; así que necesitamos tener `../../ data /` antes del nombre del archivo, `mae_bulletin.txt`, como parte de la ruta.\n",
    "\n",
    "Llamemos `head` con un golpe:"
   ]
  },
  {
   "cell_type": "code",
   "execution_count": 1,
   "metadata": {},
   "outputs": [
    {
     "name": "stdout",
     "output_type": "stream",
     "text": [
      "MAE 1004. Engineering Drawing and Computer Graphics. 0-3 Credits.\r\n",
      "\r\n",
      "Introduction to technical drawing, including use of instruments, lettering, geometric construction, sketching, orthographic projection, section view, dimensioning, tolerancing, and pictorial drawing. Introduction to computer graphics, including topics covered in manual drawing and computer-aided drafting.   (Fall and spring).\r\n",
      "\r\n",
      "MAE 2117. Engineering Computations. 3 Credits.\r\n",
      "\r\n",
      "Numerical methods for engineering applications. Round-off errors and discretization errors. Methods for solving systems of linear equations, root finding, curve fitting, numerical Fourier transform, and data approximation. Numerical differentiation and integration and numerical solution of differential equations. Computer applications. Prerequisite: MATH 1232. (Fall, Every Year).\r\n",
      "\r\n",
      "MAE 2124. Linear Systems Analysis for Robotics. 3 Credits.\r\n",
      "\r\n"
     ]
    }
   ],
   "source": [
    "!head ../data/mae_bulletin.txt"
   ]
  },
  {
   "cell_type": "markdown",
   "metadata": {},
   "source": [
    "¡Eso se ve bien! El siguiente paso es abrir el archivo y guardar sus contenidos en una variable de Python que podamos usar.\n",
    "\n",
    "La función ** `open ()` ** con el nombre del archivo como un argumento _string_ (tenga en cuenta las comillas) devuelve un objeto de archivo Python. Tenemos varias opciones a continuación, y definitivamente debe leer la [documentación](https://docs.python.org/2/tutorial/inputoutput.html#reading-and-writing-files) sobre cómo leer y escribir archivos.\n",
    "\n",
    "Si usa el método de archivo ** `read ()` **, obtiene una cadena (grande) con todos los contenidos del archivo. Si utiliza el método ** `readlines ()` **, obtendrá una lista de cadenas, donde cada cadena contiene una línea en el archivo. Otra opción es usar la función ** `list ()` ** para crear una lista de líneas a partir del contenido del archivo."
   ]
  },
  {
   "cell_type": "code",
   "execution_count": 2,
   "metadata": {
    "collapsed": true
   },
   "outputs": [],
   "source": [
    "mae_bulletin_file = open('../data/mae_bulletin.txt')"
   ]
  },
  {
   "cell_type": "code",
   "execution_count": 3,
   "metadata": {
    "collapsed": true
   },
   "outputs": [],
   "source": [
    "mae_bulletin_text = mae_bulletin_file.readlines()"
   ]
  },
  {
   "cell_type": "code",
   "execution_count": 4,
   "metadata": {},
   "outputs": [
    {
     "data": {
      "text/plain": [
       "list"
      ]
     },
     "execution_count": 4,
     "metadata": {},
     "output_type": "execute_result"
    }
   ],
   "source": [
    "type(mae_bulletin_text)"
   ]
  },
  {
   "cell_type": "code",
   "execution_count": 5,
   "metadata": {},
   "outputs": [
    {
     "data": {
      "text/plain": [
       "431"
      ]
     },
     "execution_count": 5,
     "metadata": {},
     "output_type": "execute_result"
    }
   ],
   "source": [
    "len(mae_bulletin_text)"
   ]
  },
  {
   "cell_type": "markdown",
   "metadata": {},
   "source": [
    "### Limpieza y organización de datos de texto\n",
    "\n",
    "Al manipular datos de texto, una de las acciones típicas es deshacerse de líneas y espacios en blanco adicionales. Aquí, eliminaremos los espacios al principio y al final de cada línea.\n",
    "\n",
    "Tenga en cuenta que también hay algunas líneas en blanco: las omitiremos. El objetivo es obtener dos listas nuevas: una con la línea de identificación del curso y otra con las descripciones de los cursos.\n",
    "\n",
    "Estudia el siguiente bloque de código:"
   ]
  },
  {
   "cell_type": "code",
   "execution_count": 6,
   "metadata": {
    "collapsed": true
   },
   "outputs": [],
   "source": [
    "courses = []\n",
    "descriptions = []\n",
    "\n",
    "for line in mae_bulletin_text:\n",
    "    line = line.strip()            #Remove white spaces\n",
    "    if line == '':                 #Skip the empty lines \n",
    "        continue\n",
    "    elif line.startswith('MAE'): \n",
    "        courses.append(line)       #Save lines that start with MAE in list\n",
    "    else:\n",
    "        descriptions.append(line)  #Save descriptions in other list"
   ]
  },
  {
   "cell_type": "markdown",
   "metadata": {},
   "source": [
    "Asegúrese de visitar también la [documentación](https://docs.python.org/3/library/stdtypes.html#string-methods) para conocer los métodos de cadena, ¡para tener una idea de todas las cosas que puede hacer con Python! Aquí, usamos el método ** `strip ()` ** para deshacernos de los espacios iniciales y finales, y también usamos ** `startswith ()` ** para identificar las líneas de identificación del curso.\n",
    "\n",
    "Comprobemos con qué terminamos imprimiendo algunos artículos en cada lista:"
   ]
  },
  {
   "cell_type": "code",
   "execution_count": 7,
   "metadata": {},
   "outputs": [
    {
     "name": "stdout",
     "output_type": "stream",
     "text": [
      "['MAE 1004. Engineering Drawing and Computer Graphics. 0-3 Credits.', 'MAE 2117. Engineering Computations. 3 Credits.', 'MAE 2124. Linear Systems Analysis for Robotics. 3 Credits.', 'MAE 2131. Thermodynamics. 3 Credits.', 'MAE 2170. History and Impact of the US Patent System. 3 Credits.']\n"
     ]
    }
   ],
   "source": [
    "#print first 5 elements of courses\n",
    "print(courses[0:5])"
   ]
  },
  {
   "cell_type": "code",
   "execution_count": 8,
   "metadata": {},
   "outputs": [
    {
     "name": "stdout",
     "output_type": "stream",
     "text": [
      "['Introduction to technical drawing, including use of instruments, lettering, geometric construction, sketching, orthographic projection, section view, dimensioning, tolerancing, and pictorial drawing. Introduction to computer graphics, including topics covered in manual drawing and computer-aided drafting.   (Fall and spring).', 'Numerical methods for engineering applications. Round-off errors and discretization errors. Methods for solving systems of linear equations, root finding, curve fitting, numerical Fourier transform, and data approximation. Numerical differentiation and integration and numerical solution of differential equations. Computer applications. Prerequisite: MATH 1232. (Fall, Every Year).', 'Properties of linear systems. Mathematical modeling of dynamic systems. State space, state variables, and their selection. Linearization of non-linear behavior. Matrix functions. Solution of state equations in the time domain and using transformations. System stability and frequency response.']\n"
     ]
    }
   ],
   "source": [
    "#print first 3 elements of descriptions\n",
    "print(descriptions[0:3])"
   ]
  },
  {
   "cell_type": "markdown",
   "metadata": {},
   "source": [
    "¡También deberíamos verificar que ambas listas tengan la misma longitud!"
   ]
  },
  {
   "cell_type": "code",
   "execution_count": 9,
   "metadata": {},
   "outputs": [
    {
     "name": "stdout",
     "output_type": "stream",
     "text": [
      "108\n",
      "108\n"
     ]
    }
   ],
   "source": [
    "print(len(courses))\n",
    "print(len(descriptions))"
   ]
  },
  {
   "cell_type": "markdown",
   "metadata": {},
   "source": [
    "### Separa la lista de \"cursos\" en la identificación del curso, título y créditos\n",
    "\n",
    "Es posible que deseemos tener la información de la identificación, título y créditos del curso en listas separadas. Así es como podríamos hacer eso:"
   ]
  },
  {
   "cell_type": "code",
   "execution_count": 10,
   "metadata": {
    "collapsed": true
   },
   "outputs": [],
   "source": [
    "course_id = []\n",
    "course_title = []\n",
    "course_credits = []\n",
    "\n",
    "for course in courses:\n",
    "    course_info = course.split('. ') \n",
    "    course_id.append(course_info[0])\n",
    "    course_title.append(course_info[1])\n",
    "    course_credits.append(course_info[2])"
   ]
  },
  {
   "cell_type": "markdown",
   "metadata": {},
   "source": [
    "Tenga en cuenta que dividimos usando la cadena `'. '' (período + espacio) para evitar tener un espacio en blanco adicional al comienzo de cada cadena en las listas de títulos y créditos del curso.\n",
    "\n",
    "Vamos a imprimir los primeros elementos de las nuevas listas."
   ]
  },
  {
   "cell_type": "code",
   "execution_count": 11,
   "metadata": {},
   "outputs": [
    {
     "name": "stdout",
     "output_type": "stream",
     "text": [
      "['MAE 1004', 'MAE 2117', 'MAE 2124', 'MAE 2131', 'MAE 2170']\n"
     ]
    }
   ],
   "source": [
    "print(course_id[0:5])"
   ]
  },
  {
   "cell_type": "code",
   "execution_count": 12,
   "metadata": {},
   "outputs": [
    {
     "name": "stdout",
     "output_type": "stream",
     "text": [
      "['Engineering Drawing and Computer Graphics', 'Engineering Computations', 'Linear Systems Analysis for Robotics', 'Thermodynamics', 'History and Impact of the US Patent System']\n"
     ]
    }
   ],
   "source": [
    "print(course_title[0:5])"
   ]
  },
  {
   "cell_type": "code",
   "execution_count": 13,
   "metadata": {},
   "outputs": [
    {
     "name": "stdout",
     "output_type": "stream",
     "text": [
      "['0-3 Credits.', '3 Credits.', '3 Credits.', '3 Credits.', '3 Credits.']\n"
     ]
    }
   ],
   "source": [
    "print(course_credits[0:5])"
   ]
  },
  {
   "cell_type": "markdown",
   "metadata": {},
   "source": [
    "### Información del curso de seguimiento\n",
    "\n",
    "Las listas que hemos creado están alineadas: es decir, cada elemento en la misma ubicación de índice corresponde al mismo curso. Entonces, al encontrar la ubicación de una identificación de curso, podemos acceder a toda la otra información.\n",
    "\n",
    "Usamos el método `index ()` para encontrar el índice de la identificación del curso y rastrear el resto de la información. ¡Pruébalo!"
   ]
  },
  {
   "cell_type": "code",
   "execution_count": 14,
   "metadata": {},
   "outputs": [
    {
     "data": {
      "text/plain": [
       "17"
      ]
     },
     "execution_count": 14,
     "metadata": {},
     "output_type": "execute_result"
    }
   ],
   "source": [
    "course_id.index('MAE 3190')"
   ]
  },
  {
   "cell_type": "code",
   "execution_count": 15,
   "metadata": {},
   "outputs": [
    {
     "name": "stdout",
     "output_type": "stream",
     "text": [
      "MAE 3190\n",
      "Analysis and Synthesis of Mechanisms\n",
      "3 Credits.\n",
      "Kinematics and dynamics of mechanisms. Displacements, velocities, and accelerations in linkage, cam, and gear systems by analytical, graphical, and computer methods. Synthesis of linkages to meet prescribed performance requirements. Prerequisite: APSC 2058.  (Fall).\n"
     ]
    }
   ],
   "source": [
    "print(course_id[17])\n",
    "print(course_title[17])\n",
    "print(course_credits[17])\n",
    "print(descriptions[17])"
   ]
  },
  {
   "cell_type": "markdown",
   "metadata": {},
   "source": [
    "### ¿Cuántos cursos tienen prerrequisitos?\n",
    "\n",
    "Aquí hay una idea: podemos buscar todos los cursos que tengan requisitos previos usando una declaración `for`. En este caso, iteraremos sobre el _index_ de los elementos en la lista `descriptions`.\n",
    "\n",
    "Nos da la oportunidad de presentarle un objeto Python muy útil: ** `range` **: crea una secuencia de números en la progresión aritmética para iterar. Con un único argumento, `range (N)` creará una secuencia de longitud `N` comenzando en cero:` 0, 1, 2, ..., N-1`."
   ]
  },
  {
   "cell_type": "code",
   "execution_count": 16,
   "metadata": {},
   "outputs": [
    {
     "name": "stdout",
     "output_type": "stream",
     "text": [
      "0\n",
      "1\n",
      "2\n",
      "3\n"
     ]
    }
   ],
   "source": [
    "for i in range(4):\n",
    "    print(i)"
   ]
  },
  {
   "cell_type": "markdown",
   "metadata": {},
   "source": [
    "Lo gracioso con `range` es que se crea sobre la marcha, al iterar sobre él. Entonces, no es realmente una lista, aunque para la mayoría de los propósitos prácticos, se comporta como tal.\n",
    "\n",
    "Una forma típica de usarlo es con un argumento que sale de la función `len ()`. Estudia este bloque de código:"
   ]
  },
  {
   "cell_type": "code",
   "execution_count": 17,
   "metadata": {
    "collapsed": true
   },
   "outputs": [],
   "source": [
    "course_with_pre = []\n",
    "\n",
    "for i in range(len(descriptions)):\n",
    "    if 'Prerequisite' in descriptions[i]:\n",
    "        course_with_pre.append(course_id[i])"
   ]
  },
  {
   "cell_type": "markdown",
   "metadata": {},
   "source": [
    "Ahora tenemos una lista llamada `course_with_pre` que contiene el id de todos los cursos que tienen requisitos previos."
   ]
  },
  {
   "cell_type": "code",
   "execution_count": 18,
   "metadata": {},
   "outputs": [
    {
     "name": "stdout",
     "output_type": "stream",
     "text": [
      "['MAE 2117', 'MAE 2131', 'MAE 3120', 'MAE 3126', 'MAE 3128', 'MAE 3134', 'MAE 3145', 'MAE 3155', 'MAE 3162', 'MAE 3166W', 'MAE 3167W', 'MAE 3187', 'MAE 3190', 'MAE 3191', 'MAE 3192', 'MAE 3193', 'MAE 3195', 'MAE 3197', 'MAE 4129', 'MAE 4149', 'MAE 4157', 'MAE 4163', 'MAE 4168', 'MAE 4172', 'MAE 4182', 'MAE 4193', 'MAE 4194', 'MAE 4198', 'MAE 4199', 'MAE 6201', 'MAE 6207', 'MAE 6220', 'MAE 6221', 'MAE 6222', 'MAE 6223', 'MAE 6224', 'MAE 6225', 'MAE 6226', 'MAE 6227', 'MAE 6228', 'MAE 6229', 'MAE 6230', 'MAE 6231', 'MAE 6232', 'MAE 6233', 'MAE 6234', 'MAE 6237', 'MAE 6238', 'MAE 6239', 'MAE 6240', 'MAE 6241', 'MAE 6243', 'MAE 6244', 'MAE 6245', 'MAE 6246', 'MAE 6247', 'MAE 6249', 'MAE 6251', 'MAE 6252', 'MAE 6253', 'MAE 6254', 'MAE 6255', 'MAE 6257', 'MAE 6258', 'MAE 6260', 'MAE 6261', 'MAE 6262', 'MAE 6270', 'MAE 6271', 'MAE 6274', 'MAE 6276', 'MAE 6280', 'MAE 6281', 'MAE 6282', 'MAE 6283', 'MAE 6284', 'MAE 6286', 'MAE 6287', 'MAE 6288', 'MAE 6290', 'MAE 6291', 'MAE 6292', 'MAE 8350', 'MAE 8351', 'MAE 8352']\n"
     ]
    }
   ],
   "source": [
    "print(course_with_pre)"
   ]
  },
  {
   "cell_type": "markdown",
   "metadata": {},
   "source": [
    "##### Ejercicio:\n",
    "\n",
    "1. Guarde en una nueva lista llamada `course_with_cor` todos los cursos que tengan un correquisito e imprima la lista.\n",
    "2. Utilizando una declaración `for` y declaraciones` if-elif-else`, separe los cursos que se ofrecen en el semestre de otoño, los ofrecidos en el semestre de primavera, los que se ofrecen en ambos semestres y los que no especifican un semestre. Crea 4 listas: `fall_and_spring`,` fall`, `spring` y` not_spec`."
   ]
  },
  {
   "cell_type": "markdown",
   "metadata": {},
   "source": [
    "Para comprobar sus respuestas, elimine el comentario de las siguientes líneas eliminando el símbolo # y ejecutando la celda. Si no hay salida, ¡lo hiciste bien!"
   ]
  },
  {
   "cell_type": "code",
   "execution_count": 19,
   "metadata": {
    "collapsed": true
   },
   "outputs": [],
   "source": [
    "#course_with_cor_ans = ['MAE 3184', 'MAE 4183', 'MAE 4195', 'MAE 6194', 'MAE 6195']\n",
    "#fall_and_spring_ans = []\n",
    "#fall_ans = ['MAE 1004', 'MAE 2117', 'MAE 3126', 'MAE 3145', 'MAE 3162', 'MAE 3166W', 'MAE 3190', 'MAE 3191', 'MAE 4157', 'MAE 4163', 'MAE 4193', 'MAE 4199', 'MAE 6210', 'MAE 6275']\n",
    "#spring_ans = ['MAE 3128', 'MAE 3167W', 'MAE 3193', 'MAE 6194', 'MAE 6195', 'MAE 6229', 'MAE 6235', 'MAE 6242', 'MAE 6247', 'MAE 6249', 'MAE 6258']\n",
    "#not_spec_ans = ['MAE 2124', 'MAE 2131', 'MAE 2170', 'MAE 3120', 'MAE 3134', 'MAE 3155', 'MAE 3171', 'MAE 3184', 'MAE 3187', 'MAE 3192', 'MAE 3195', 'MAE 3196', 'MAE 3197', 'MAE 4129', 'MAE 4149', 'MAE 4168', 'MAE 4172', 'MAE 4182', 'MAE 4183', 'MAE 4194', 'MAE 4195', 'MAE 4198', 'MAE 6201', 'MAE 6203', 'MAE 6204', 'MAE 6207', 'MAE 6220', 'MAE 6221', 'MAE 6222', 'MAE 6223', 'MAE 6224', 'MAE 6225', 'MAE 6226', 'MAE 6227', 'MAE 6228', 'MAE 6230', 'MAE 6231', 'MAE 6232', 'MAE 6233', 'MAE 6234', 'MAE 6237', 'MAE 6238', 'MAE 6239', 'MAE 6240', 'MAE 6241', 'MAE 6243', 'MAE 6244', 'MAE 6245', 'MAE 6246', 'MAE 6251', 'MAE 6252', 'MAE 6253', 'MAE 6254', 'MAE 6255', 'MAE 6257', 'MAE 6260', 'MAE 6261', 'MAE 6262', 'MAE 6263', 'MAE 6270', 'MAE 6271', 'MAE 6274', 'MAE 6276', 'MAE 6277', 'MAE 6280', 'MAE 6281', 'MAE 6282', 'MAE 6283', 'MAE 6284', 'MAE 6286', 'MAE 6287', 'MAE 6288', 'MAE 6290', 'MAE 6291', 'MAE 6292', 'MAE 6298', 'MAE 6998', 'MAE 6999', 'MAE 8350', 'MAE 8351', 'MAE 8352', 'MAE 8998', 'MAE 8999']\n",
    "\n",
    "#assert course_with_cor == course_with_cor_ans\n",
    "#assert fall_and_spring == fall_and_spring_ans \n",
    "#assert fall == fall_ans\n",
    "#assert spring == spring_ans\n",
    "#assert not_spec == not_spec_ans"
   ]
  },
  {
   "cell_type": "markdown",
   "metadata": {},
   "source": [
    "## Lo que hemos aprendido\n",
    "\n",
    "* Los comandos del sistema en una celda de código comienzan con un bang (`!`).\n",
    "* Abrir un archivo de texto y guardar su contenido en una cadena o lista de variables.\n",
    "* Limpiando datos de texto usando métodos de cadena.\n",
    "* Manipulando texto en listas."
   ]
  },
  {
   "cell_type": "code",
   "execution_count": 20,
   "metadata": {},
   "outputs": [
    {
     "data": {
      "text/html": [
       "<link href=\"https://fonts.googleapis.com/css?family=Merriweather:300,300i,400,400i,700,700i,900,900i\" rel=\"stylesheet\">\n",
       "<link href=\"https://fonts.googleapis.com/css?family=Source+Sans+Pro:300,300i,400,400i,700,700i\" rel=\"stylesheet\">\n",
       "<link href='http://fonts.googleapis.com/css?family=Source+Code+Pro:300,400' rel='stylesheet' type='text/css'>\n",
       "<style>\n",
       "\n",
       "@font-face {\n",
       "    font-family: \"Computer Modern\";\n",
       "    src: url('http://mirrors.ctan.org/fonts/cm-unicode/fonts/otf/cmunss.otf');\n",
       "}\n",
       "\n",
       "\n",
       "#notebook_panel { /* main background */\n",
       "    background: rgb(245,245,245);\n",
       "}\n",
       "\n",
       "div.cell { /* set cell width */\n",
       "    width: 800px;\n",
       "}\n",
       "\n",
       "div #notebook { /* centre the content */\n",
       "    background: #fff; /* white background for content */\n",
       "    width: 1000px;\n",
       "    margin: auto;\n",
       "    padding-left: 0em;\n",
       "}\n",
       "\n",
       "#notebook li { /* More space between bullet points */\n",
       "margin-top:0.8em;\n",
       "}\n",
       "\n",
       "/* draw border around running cells */\n",
       "div.cell.border-box-sizing.code_cell.running { \n",
       "    border: 1px solid #111;\n",
       "}\n",
       "\n",
       "/* Put a solid color box around each cell and its output, visually linking them*/\n",
       "div.cell.code_cell {\n",
       "    background-color: rgb(256,256,256); \n",
       "    border-radius: 0px; \n",
       "    padding: 0.5em;\n",
       "    margin-left:1em;\n",
       "    margin-top: 1em;\n",
       "}\n",
       "\n",
       "\n",
       "div.text_cell_render{\n",
       "    font-family: 'Source Sans Pro', sans-serif;\n",
       "    line-height: 140%;\n",
       "    font-size: 110%;\n",
       "    width:680px;\n",
       "    margin-left:auto;\n",
       "    margin-right:auto;\n",
       "}\n",
       "\n",
       "/* Formatting for header cells */\n",
       ".text_cell_render h1 {\n",
       "    font-family: 'Merriweather', serif;\n",
       "    font-style:regular;\n",
       "    font-weight: bold;    \n",
       "    font-size: 250%;\n",
       "    line-height: 100%;\n",
       "    color: #004065;\n",
       "    margin-bottom: 1em;\n",
       "    margin-top: 0.5em;\n",
       "    display: block;\n",
       "}\t\n",
       ".text_cell_render h2 {\n",
       "    font-family: 'Merriweather', serif;\n",
       "    font-weight: bold; \n",
       "    font-size: 180%;\n",
       "    line-height: 100%;\n",
       "    color: #0096d6;\n",
       "    margin-bottom: 0.5em;\n",
       "    margin-top: 0.5em;\n",
       "    display: block;\n",
       "}\t\n",
       "\n",
       ".text_cell_render h3 {\n",
       "    font-family: 'Merriweather', serif;\n",
       "\tfont-size: 150%;\n",
       "    margin-top:12px;\n",
       "    margin-bottom: 3px;\n",
       "    font-style: regular;\n",
       "    color: #008367;\n",
       "}\n",
       "\n",
       ".text_cell_render h4 {    /*Use this for captions*/\n",
       "    font-family: 'Merriweather', serif;\n",
       "    font-weight: 300; \n",
       "    font-size: 100%;\n",
       "    line-height: 120%;\n",
       "    text-align: center;\n",
       "    margin-top: 1em;\n",
       "    margin-bottom: 2em;\n",
       "    font-style: regular;\n",
       "}\n",
       "\n",
       ".text_cell_render h5 {  /*Use this for small titles*/\n",
       "    font-family: 'Source Sans Pro', sans-serif;\n",
       "    font-weight: regular;\n",
       "    font-size: 130%;\n",
       "    color: #e31937;\n",
       "    font-style: italic;\n",
       "    margin-bottom: .5em;\n",
       "    margin-top: 1em;\n",
       "    display: block;\n",
       "}\n",
       "\n",
       ".text_cell_render h6 { /*use this for copyright note*/\n",
       "    font-family: 'Source Code Pro', sans-serif;\n",
       "    font-weight: 300;\n",
       "    font-size: 9pt;\n",
       "    line-height: 100%;\n",
       "    color: grey;\n",
       "    margin-bottom: 1px;\n",
       "    margin-top: 1px;\n",
       "}\n",
       "\n",
       "    .CodeMirror{\n",
       "            font-family: \"Source Code Pro\";\n",
       "\t\t\tfont-size: 90%;\n",
       "    }\n",
       "/*    .prompt{\n",
       "        display: None;\n",
       "    }*/\n",
       "\t\n",
       "    \n",
       "    .warning{\n",
       "        color: rgb( 240, 20, 20 )\n",
       "        }  \n",
       "</style>\n",
       "<script>\n",
       "    MathJax.Hub.Config({\n",
       "                        TeX: {\n",
       "                           extensions: [\"AMSmath.js\"], \n",
       "                           equationNumbers: { autoNumber: \"AMS\", useLabelIds: true}\n",
       "                           },\n",
       "                tex2jax: {\n",
       "                    inlineMath: [ ['$','$'], [\"\\\\(\",\"\\\\)\"] ],\n",
       "                    displayMath: [ ['$$','$$'], [\"\\\\[\",\"\\\\]\"] ]\n",
       "                },\n",
       "                displayAlign: 'center', // Change this to 'center' to center equations.\n",
       "                \"HTML-CSS\": {\n",
       "                    styles: {'.MathJax_Display': {\"margin\": 4}}\n",
       "                }\n",
       "        });\n",
       "</script>\n"
      ],
      "text/plain": [
       "<IPython.core.display.HTML object>"
      ]
     },
     "execution_count": 20,
     "metadata": {},
     "output_type": "execute_result"
    }
   ],
   "source": [
    "# Execute this cell to load the notebook's style sheet, then ignore it\n",
    "from IPython.core.display import HTML\n",
    "css_file = '../style/custom.css'\n",
    "HTML(open(css_file, \"r\").read())"
   ]
  }
 ],
 "metadata": {
  "kernelspec": {
   "display_name": "Python 3",
   "language": "python",
   "name": "python3"
  },
  "language_info": {
   "codemirror_mode": {
    "name": "ipython",
    "version": 3
   },
   "file_extension": ".py",
   "mimetype": "text/x-python",
   "name": "python",
   "nbconvert_exporter": "python",
   "pygments_lexer": "ipython3",
   "version": "3.6.4"
  },
  "widgets": {
   "state": {},
   "version": "1.1.2"
  }
 },
 "nbformat": 4,
 "nbformat_minor": 2
}
