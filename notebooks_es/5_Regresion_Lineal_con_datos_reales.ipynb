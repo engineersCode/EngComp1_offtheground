{
 "cells": [
  {
   "cell_type": "markdown",
   "metadata": {},
   "source": [
    "###### Contenido bajo licencia Creative Commons Attribution CC-BY 4.0, código bajo licencia BSD 3-Clause © 2017 L.A. Barba, N.C. Clementi"
   ]
  },
  {
   "cell_type": "markdown",
   "metadata": {},
   "source": [
    "# Regresión lineal con datos reales\n",
    "\n",
    "## La temperatura de la tierra variando en el tiempo\n",
    "\n",
    "En esta lección, aplicaremos todo lo que hemos aprendido (y más) para analizar datos reales de la temperatura de la Tierra a lo largo del tiempo.\n",
    "\n",
    "¿Está aumentando la temperatura global? ¿Cuánto? ¡Esta es una cuestión de gran importancia en el mundo de hoy!\n",
    "\n",
    "Los datos sobre las temperaturas globales están disponibles en varias fuentes: NASA, el Centro Nacional de Datos Climáticos (NCDC) y la Universidad de East Anglia en el Reino Unido. Consulta la [Corporación Universitaria de Investigación Atmosférica](https://www2.ucar.edu/climate/faq/how-much-has-global-temperature-risen-last-100-years) (UCAR) para un discusión profunda.\n",
    "\n",
    "El [Centro Goddard de Vuelos Espaciales de la NASA](http://svs.gsfc.nasa.gov/goto?3901) es una de estas fuentes de datos climáticos globales. Ellos produjeron el siguiente video que muestra un mapa de colores de las cambiantes **anomalías de temperatura de la superficie** de 1880 a 2015.\n",
    "\n",
    "El término [anomalía de temperatura global](https://www.ncdc.noaa.gov/monitoring-references/faq/anomalies.php) se aplica a la diferencia de temperatura con respecto a un valor de referencia o un promedio a largo plazo. Es una forma muy útil de ver el problema y, en muchos sentidos, mejor que la temperatura absoluta. Por ejemplo, un mes de invierno puede ser más frío que el promedio en Washington DC, y también en Miami, pero las temperaturas absolutas serán diferentes en ambos lugares."
   ]
  },
  {
   "cell_type": "code",
   "execution_count": null,
   "metadata": {},
   "outputs": [],
   "source": [
    "from IPython.display import YouTubeVideo\n",
    "YouTubeVideo('gGOzHVUQCw0')"
   ]
  },
  {
   "cell_type": "markdown",
   "metadata": {},
   "source": [
    "¿Cómo podríamos entender las _tendencias_ de los datos de la temperatura global?\n",
    "\n",
    "El primer paso para analizar datos desconocidos es generar algunos gráficos simples utilizando **Matplotlib**. Vamos a ver el historial de anomalías de temperatura, contenido en un archivo, y hacemos nuestro primer diagrama para explorar estos datos.\n",
    "\n",
    "Vamos a suavizar los datos y luego ajustaremos una línea para encontrar una tendencia, graficando para ver cómo se ve todo.\n",
    "\n",
    "¡Empecemos!"
   ]
  },
  {
   "cell_type": "markdown",
   "metadata": {},
   "source": [
    "## Paso 1: leyendo un archivo de datos\n",
    "\n",
    "Tomamos los datos de la página web [NOAA](https://www.ncdc.noaa.gov/cag/) (National Oceanic and Atmospheric Administration - Administración Nacional Oceánica y Atmosférica). Siéntete libre de jugar con la página web y analizar datos por tu cuenta, pero por ahora, buscaremos asegurarnos que trabajaremos con el mismo conjunto de datos.\n",
    "\n",
    "Tenemos un archivo llamado `land_global_temperature_anomaly-1880-2016.csv` en nuestra carpeta `data`. Este archivo contiene el año en la primera columna y los promedios de la anomalía de la temperatura terrestre enumerados secuencialmente en la segunda columna, desde el año 1880 hasta 2016. Cargaremos el archivo y luego haremos una gráfica inicial para ver cómo se ven estos datos.\n",
    "\n",
    "##### Nota:\n",
    "\n",
    "Si descargó este notebook por separado en lugar de la colección completa de este curso, es posible que no tenga el archivo de datos en la ubicación que suponemos a continuación. En ese caso, puede descargar los datos si agrega una celda de código y ejecuta el siguiente código en ella:\n",
    "\n",
    "```Python\n",
    "from urllib.request import urlretrieve\n",
    "URL = 'http://go.gwu.edu/engcomp1data5?accessType=DOWNLOAD'\n",
    "urlretrieve (URL, 'land_global_temperature_anomaly-1880-2016.csv')\n",
    "```\n",
    "\n",
    "El archivo de datos se descargará a su directorio de trabajo, y luego tendrá que eliminar la información de ruta, es decir, la cadena `'../data /'`, de la definición de la variable `fname` a continuación.\n",
    "\n",
    "Comencemos importando NumPy."
   ]
  },
  {
   "cell_type": "code",
   "execution_count": null,
   "metadata": {},
   "outputs": [],
   "source": [
    "import numpy"
   ]
  },
  {
   "cell_type": "markdown",
   "metadata": {},
   "source": [
    "Para cargar nuestros datos desde el archivo, utilizaremos la función [`numpy.loadtxt()`](https://docs.scipy.org/doc/numpy/reference/generated/numpy.loadtxt.html), que nos permite guardar inmediatamente los datos en arrays de NumPy. (Le recomendamos que lea la documentación para obtener detalles sobre cómo funciona la función). Guardaremos los datos en los arrays `year` y `temp_anomaly`."
   ]
  },
  {
   "cell_type": "code",
   "execution_count": null,
   "metadata": {},
   "outputs": [],
   "source": [
    "fname = '../data/land_global_temperature_anomaly-1880-2016.csv'\n",
    "\n",
    "year, temp_anomaly = numpy.loadtxt(fname, delimiter=',', skiprows=5, unpack=True)"
   ]
  },
  {
   "cell_type": "markdown",
   "metadata": {},
   "source": [
    "##### Ejercicio\n",
    "\n",
    "Inspeccione los datos imprimiendo `year` y` temp_anomaly`."
   ]
  },
  {
   "cell_type": "markdown",
   "metadata": {},
   "source": [
    "## Paso 2: graficando los datos\n",
    "\n",
    "Primero cargaremos el módulo `pyplot` de **Matplotlib**, para hacer gráficos en 2D. Recuerda que para obtener los gráficos dentro del notebook de jupyter, usamos un comando especial \"mágico\", `%matplotlib inline`:"
   ]
  },
  {
   "cell_type": "code",
   "execution_count": null,
   "metadata": {},
   "outputs": [],
   "source": [
    "from matplotlib import pyplot\n",
    "%matplotlib inline"
   ]
  },
  {
   "cell_type": "markdown",
   "metadata": {},
   "source": [
    "La función `plot()` del módulo `pyplot` hace gráficos de líneas simples. Evitaremos los textos que aparecen en la parte superior de la figura, que dicen `Out [x]:[<...>]`, al agregar un punto y coma al final del comando de trazado."
   ]
  },
  {
   "cell_type": "code",
   "execution_count": null,
   "metadata": {},
   "outputs": [],
   "source": [
    "pyplot.plot(year, temp_anomaly);"
   ]
  },
  {
   "cell_type": "markdown",
   "metadata": {
    "collapsed": true
   },
   "source": [
    "Ahora tenemos un diagrama de líneas, pero si miras esta gráfica sin ninguna información, ¡no podrás averiguar qué tipo de datos son! Necesitamos etiquetas en los ejes, un título y un mejor color, fuente y tamaño para los ejes.\n",
    "\n",
    "Siempre debes apuntar a generar **gráficos de calidad de publicación**.\n",
    "\n",
    "La forma en que presentes tus datos permitirá a otros (y probablemente a tí mismo en el futuro) comprender mejor tu trabajo.\n",
    "\n",
    "Podemos personalizar el estilo de nuestras tramas usando los parámetros de configuración de **Matplotlib**: [`rcParams`](https://matplotlib.org/api/matplotlib_configuration_api.html#matplotlib.rcParams). Esto nos permite establecer algunas opciones de estilo que se aplican a todos los gráficos que se crearán a continuación. \n",
    "\n",
    "Por ejemplo, crearemos la fuente de un tamaño y tipo específico. También puedes personalizar otros parámetros como el ancho de línea, el color, etc. Consulta la documentación para más detalle."
   ]
  },
  {
   "cell_type": "code",
   "execution_count": null,
   "metadata": {},
   "outputs": [],
   "source": [
    "from matplotlib import rcParams\n",
    "rcParams['font.family'] = 'serif'\n",
    "rcParams['font.size'] = 16"
   ]
  },
  {
   "cell_type": "markdown",
   "metadata": {},
   "source": [
    "Volveremos a hacer el mismo grafico, pero ahora agregaremos algunas cosas para que sea más bello y de **calidad de publicación**. Agregaremos un título, etiquetaremos los ejes, y mostraremos una cuadrícula de fondo. ¡Estudia los comandos a continuación y observa el resultado!"
   ]
  },
  {
   "cell_type": "code",
   "execution_count": null,
   "metadata": {},
   "outputs": [],
   "source": [
    "#Puedes modificar el tamaño de la figura\n",
    "pyplot.figure(figsize=(10,5))\n",
    "\n",
    "#Graficando\n",
    "pyplot.plot(year, temp_anomaly, color='#2929a3', linestyle='-', linewidth=1) \n",
    "pyplot.title('Anomalías de temperatura global.\\n') # Land global temperature anomalies\n",
    "pyplot.xlabel('Año') # Year\n",
    "pyplot.ylabel('Anomalía de temperatura [°C]') # Land temperature anomaly\n",
    "pyplot.grid();"
   ]
  },
  {
   "cell_type": "markdown",
   "metadata": {
    "collapsed": true
   },
   "source": [
    "¿Mucho mejor, no? Siéntete libre de jugar con los parámetros y ver cómo cambia el gráfico. No hay nada mejor que probar y equivocarse para entender el funcionamiento."
   ]
  },
  {
   "cell_type": "markdown",
   "metadata": {},
   "source": [
    "## Paso 3: Realizando una regresión lineal de mínimos cuadrados\n",
    "\n",
    "Para tener una idea del comportamiento general de nuestros datos, podemos buscar una curva suave que (de manera aproximada) se ajuste a los puntos. Generalmente buscamos una curva que sea simple (por ejemplo, un polinomio) y no reproduzca el ruido que siempre está presente en los datos experimentales.\n",
    "\n",
    "Sea $f(x)$ sea la función que ajustaremos a los $n+1$ puntos de datos: $(x_i, y_i)$, $i = 0, 1, ..., n$:\n",
    "\n",
    "$$\n",
    "    f (x) = f (x; a_0, a_1, ..., a_m)\n",
    "$$\n",
    "\n",
    "La notación anterior significa que $f$ es una función de $x$, con $m + 1$ parámetros variables $a_0, a_1, ..., a_m$, donde $m<n$. Necesitamos elegir la forma de $f(x)$ a priori, inspeccionando los datos experimentales y sabiendo algo sobre el fenómeno que hemos medido. Por lo tanto, el ajuste de curvas consta de dos pasos:\n",
    "\n",
    "1. Elegir la forma de $f(x)$.\n",
    "2. Calcular los parámetros que nos darán el \"mejor ajuste\" a los datos."
   ]
  },
  {
   "cell_type": "markdown",
   "metadata": {},
   "source": [
    "### ¿Cuál es el \"mejor\" ajuste?\n",
    "\n",
    "Cuando el ruido en los datos está limitado a la coordenada $y$, es común usar el método de **ajuste de mínimos cuadrados**, lo que minimiza la función\n",
    "\n",
    "$$\n",
    "\\begin{equation}\n",
    "    S (a_0, a_1, ..., a_m) = \\sum_ {i = 0} ^ {n} [y_i - f (x_i)] ^ 2\n",
    "\\end{equation}\n",
    "$$\n",
    "\n",
    "con respecto a cada $ a_j $. \n",
    "\n",
    "Encontramos los valores de los parámetros que mejor se ajustan al resolver las siguientes ecuaciones:\n",
    "\n",
    "$$\n",
    "\\begin{equation}\n",
    "    \\frac {\\partial {S}} {\\partial {a_k}} = 0, \\quad k = 0, 1, ..., m.\n",
    "\\end{equation}\n",
    "$$\n",
    "\n",
    "Aquí, los términos $ r_i = y_i - f (x_i) $ se llaman residuales: nos dicen la discrepancia entre los datos y la función de ajuste en $ x_i $.\n",
    "\n",
    "Observa la función $ S $: lo que queremos minimizar es la suma de los cuadrados de los residuos. Las ecuaciones son generalmente no lineales en $ a_j $ y pueden ser difíciles de resolver. Por lo tanto, la función de ajuste se elige comúnmente como una combinación lineal de funciones específicas $ f_j (x) $,\n",
    "\n",
    "$$\n",
    "\\begin{equation*}\n",
    "    f (x) = a_0f_0 (x) + a_1f_1 (x) + ... + a_mf_m (x)\n",
    "\\end{equation*}\n",
    "$$\n",
    "\n",
    "que da como resultado que las ecuaciones a resolver sean lineales. \n",
    "\n",
    "En el caso de que la función de ajuste sea polinómica, tenemos $ f_0 (x) = 1, \\; f_1 (x) = x, \\; f_2 (x) = x ^ 2 $, y así sucesivamente."
   ]
  },
  {
   "cell_type": "markdown",
   "metadata": {},
   "source": [
    "### Regresión lineal\n",
    "\n",
    "Cuando hablamos de regresión lineal nos referimos a \"ajustar una línea recta a los datos\". Así,\n",
    "\n",
    "$$\n",
    "\\begin{equation}\n",
    "    f (x) = a_0 + a_1 x\n",
    "\\end{equation}\n",
    "$$\n",
    "\n",
    "En este caso, la función que minimizaremos es:\n",
    "\n",
    "$$\n",
    "\\begin{equation}\n",
    "    S (a_0, a_1) = \\sum_ {i = 0} ^ {n} [y_i - f (x_i)] ^ 2 = \\sum_ {i = 0} ^ {n} (y_i - a_0 - a_1x_i) ^ 2\n",
    "\\end {equation}\n",
    "$$\n",
    "\n",
    "Las ecuaciones a resolver se convierten en:\n",
    "\n",
    "$$\n",
    "\\begin{equation}\n",
    "    \\frac {\\partial {S}} {\\partial {a_0}} \n",
    "    = \n",
    "    \\sum_ {i = 0} ^ {n} -2 (y_i - a_0 - a_1x_i) \n",
    "    = \n",
    "    - 2\\sum_ {i = 0} ^ {n} y_i + 2 a_0 (n + 1) + 2 a_1 \\sum_ {i = 0} ^ {n} x_i \n",
    "    = \n",
    "    0\n",
    "\\end{equation}\n",
    "$$\n",
    "\n",
    "$$\n",
    "\\begin{equation}\n",
    "    \\frac {\\partial {S}} {\\partial {a_1}} \n",
    "    = \n",
    "    \\sum_ {i = 0} ^ {n} -2 (y_i - a_0 - a_1x_i) x_i \n",
    "    = \n",
    "    - 2 \\sum_ {i = 0} ^ {n} x_i y_i  + 2 a_0 \\sum_ {i = 0 } ^ {n} x_i + 2 a_1 \\sum_ {i = 0} ^ {n} x_ {i} ^ 2  \n",
    "    = 0\n",
    "\\end{equation}\n",
    "$$\n",
    "\n",
    "Dividamos la primera de las ecuaciones por $ 2 (n + 1) $ y reorganicemos los términos.\n",
    "\n",
    "$$\n",
    "\\begin{align}\n",
    "    \\frac {2 a_0 (n + 1)} {2 (n + 1)} + 2 a_1 \\frac {\\sum_ {i = 0} ^ {n} x_i} {2(n + 1)} - 2 \\frac {\\sum_ {i = 0} ^ {n} y_i} {2 (n + 1)} & = 0 \\\\\n",
    "\\end{align}\n",
    "$$\n",
    "Obtenemos\n",
    "$$\n",
    "\\begin{align}\n",
    "    a_0 = \\bar {y} - a_1 \\bar {x}\n",
    "\\end{align}\n",
    "$$\n",
    "\n",
    "donde $ \\bar {x} = \\frac {\\sum_ {i = 0} ^ {n} x_i} {n + 1} $ y $ \\bar {y} = \\frac {\\sum_ {i = 0} ^ { n} y_i} {n + 1} $.\n",
    "\n",
    "Reordenando la segunda ecuación:\n",
    "\n",
    "$$\n",
    "\\begin{align}\n",
    "    2 \\left [a_0 \\sum_ {i = 0} ^ {n} x_i + a_1 \\sum_ {i = 0} ^ {n} x_ {i} ^ 2 - \\sum_ {i = 0} ^ {n} x_iy_i \\right] & = 0 \\\\\n",
    "    a_0 \\sum_ {i = 0} ^ {n} x_i + a_1 \\sum_ {i = 0} ^ {n} x_ {i} ^ 2 - \\sum_ {i = 0} ^ {n} x_iy_i & = 0 \\\\\n",
    "\\end{align}\n",
    "$$\n",
    "\n",
    "Ahora, si reemplazamos el valor obtenido para $ a_0 $ y reorganizamos los términos:\n",
    "\n",
    "$$\n",
    "\\begin{align*}\n",
    "    (\\bar {y} - a_1 \\bar {x}) \\sum_ {i = 0} ^ {n} x_i + a_1 \\sum_ {i = 0} ^ {n} x_ {i} ^ 2 - \\sum_ {i = 0} ^ {n} x_iy_i & = 0 \\\\\n",
    "\\end{align*}\n",
    "$$\n",
    "\n",
    "Al reemplazar las definiciones de los valores promedio en la ecuación, obtenemos\n",
    "\n",
    "$$\n",
    "\\begin{align*}\n",
    "    \\left [\\frac {1} {n + 1} \\sum_ {i = 0} ^ {n} y_i - \\frac {a_1} {n + 1} \\sum_ {i = 0} ^ {n} x_i \\right ] \\sum_ {i = 0} ^ {n} x_i + a_1 \\sum_ {i = 0} ^ {n} x_ {i} ^ 2 - \\sum_ {i = 0} ^ {n} x_iy_i & = 0 \\\\\n",
    "     \\frac {1} {n + 1} \\sum_ {i = 0} ^ {n} y_i \\sum_ {i = 0} ^ {n} x_i - \\frac {a_1} {n + 1} \\sum_ {i = 0} ^ {n} x_i \\sum_ {i = 0} ^ {n} x_i + a_1 \\sum_ {i = 0} ^ {n} x_ {i} ^ 2 - \\sum_ {i = 0} ^ {n} x_iy_i & = 0 \\\\\n",
    "\\end{align*}\n",
    "$$\n",
    "\n",
    "Dejando todo en términos de $ \\bar{x} $,\n",
    "\n",
    "$$\n",
    "\\begin{align*}\n",
    "    \\sum_ {i = 0} ^ {n} y_i \\bar {x} - a_1 \\sum_ {i = 0} ^ {n} x_i \\bar {x} + a_1 \\sum_ {i = 0} ^ {n} x_ {i} ^ 2 - \\sum_ {i = 0} ^ {n} x_iy_i = 0\n",
    "\\end{align*}\n",
    "$$\n",
    "\n",
    "Agrupando los términos que tienen $a_1$ en el lado izquierdo y el resto en el lado derecho:\n",
    "\n",
    "$$\n",
    "\\begin{align*}\n",
    "    a_1 \\left [\\sum_ {i = 0} ^ {n} x_ {i} ^ 2 - \\sum_ {i = 0} ^ {n} x_i \\bar {x} \\right] & = \\sum_ {i = 0 } ^ {n} x_iy_i - \\sum_ {i = 0} ^ {n} y_i \\bar {x} \\\\\n",
    "    a_1 \\sum_ {i = 0} ^ {n} (x_ {i} ^ 2 - x_i \\bar {x}) & = \\sum_ {i = 0} ^ {n} (x_iy_i - y_i \\bar {x}) \\\\\n",
    "    a_1 \\sum_ {i = 0} ^ {n} x_ {i} (x_ {i} - \\bar {x}) & = \\sum_ {i = 0} ^ {n} y_i (x_i - \\bar {x} )\n",
    "\\end{align*}\n",
    "$$\n",
    "\n",
    "Finalmente, obtenemos:\n",
    "\n",
    "$$\n",
    "\\begin{align}\n",
    "    a_1 = \\frac {\\sum_ {i = 0} ^ {n} y_ {i} (x_i - \\bar {x})} {\\sum_ {i = 0} ^ {n} x_i (x_i - \\bar {x})}\n",
    "\\end{align}\n",
    "$$\n",
    "\n",
    "Entonces nuestros coeficientes son:\n",
    "\n",
    "$$\n",
    "\\begin{align}\n",
    "    a_1 = \\frac {\\sum_ {i = 0} ^ {n} y_ {i} (x_i - \\bar{x})} {\\sum_ {i = 0} ^ {n} x_i (x_i - \\bar{x})} \\quad, \\quad a_0 = \\bar{y} - a_1 \\bar{x}\n",
    "\\end{align}\n",
    "$$"
   ]
  },
  {
   "cell_type": "markdown",
   "metadata": {},
   "source": [
    "### ¡Vamos a ajustar nuestros parámetros!\n",
    "\n",
    "Ahora ajustaremos una línea recta a través de los datos de anomalías de temperatura para ver la tendencia en el tiempo. Utilizaremos la regresión lineal de mínimos cuadrados para encontrar la pendiente y la intersección de una línea\n",
    "\n",
    "$$ y = a_1 x + a_0 $$\n",
    "\n",
    "que se ajusta a nuestros datos.\n",
    "\n",
    "En nuestro caso, el dato en `x` corresponde al año (`year`), y el dato en `y` es la anomalia en la temperatura (` temp_anomaly`). Para calcular nuestros coeficientes con la fórmula anterior, necesitamos los valores promedios de nuestros datos. Sólo necesitaremos calcular el promedio para `x` e `y`, pero podría ser útil escribir una _función_ de Python personalizada que calcule el promedio de cualquier array, y así luego podemos reutilizarla.\n",
    "\n",
    "Es una buena práctica de codificación *evitar la repetición*: queremos escribir código que sea reutilizable, no sólo porque lleva a menos tipeo sino también porque reduce los errores. Si te encuentras realizando el mismo cálculo varias veces, es mejor encapsularlo en una *función*.\n",
    "\n",
    "Recuerde el _concepto clave_ de la [Lección 1](./1_Interactuando_con_Python.ipynb): Una función es una colección compacta de código que ejecuta alguna acción en sus argumentos.\n",
    "\n",
    "Una vez *definida* la función, puedes *llamarla* tantas veces como desees. Cuando *llamamos* a una función, ejecutamos todo el código dentro de la función. El resultado de la ejecución depende de la *definición* de la función y de los valores *pasados* en ella como *argumentos*. Las funciones pueden o no *devolver* valores en su última operación.\n",
    "\n",
    "La sintaxis para definir funciones de Python personalizadas es:\n",
    "\n",
    "```python\n",
    "def function_name (arg_1, arg_2, ...):\n",
    "    '''\n",
    "    docstring: descripción de la función\n",
    "    '''\n",
    "    <cuerpo de la función>\n",
    "```\n",
    "\n",
    "El **docstring** (documentación) de una función es un mensaje del programador que documenta lo que se construyó. Un docstrings debe ser descriptivo y conciso. Son importantes porque explican (o recuerdan) el uso previsto de la función para los usuarios. Más adelante puede acceder a la cadena de documentación de una función usando la función `help()` y pasando el nombre de la función. Si está en un notebook, también puedes anteponer un signo de interrogación `?` antes del nombre de la función y ejecutar en una celda para mostrar la información de una función.\n",
    "\n",
    "¡Intentalo!"
   ]
  },
  {
   "cell_type": "code",
   "execution_count": null,
   "metadata": {},
   "outputs": [],
   "source": [
    "?print"
   ]
  },
  {
   "cell_type": "markdown",
   "metadata": {},
   "source": [
    "Usando la función `help` en su lugar:"
   ]
  },
  {
   "cell_type": "code",
   "execution_count": null,
   "metadata": {},
   "outputs": [],
   "source": [
    "help(print)"
   ]
  },
  {
   "cell_type": "markdown",
   "metadata": {},
   "source": [
    "Definamos una función personalizada que calcula el valor promedio de cualquier array. Estudia el código a continuación con cuidado."
   ]
  },
  {
   "cell_type": "code",
   "execution_count": null,
   "metadata": {},
   "outputs": [],
   "source": [
    "def mean_value(array):\n",
    "    \"\"\" Calcular el valor promedio de un array\n",
    "    \n",
    "    Argumentos\n",
    "    ---------\n",
    "    array: array de Numpy\n",
    "    \n",
    "    Regresa\n",
    "    -------    \n",
    "    mean: valor promedio de una array\n",
    "    \"\"\"\n",
    "    sum_elem = 0\n",
    "    for element in array:\n",
    "            sum_elem += element # Esto es equivalente a sum_elem = sum_elem + element\n",
    "    \n",
    "    mean = sum_elem / len(array)\n",
    "    \n",
    "    return mean\n",
    "    "
   ]
  },
  {
   "cell_type": "markdown",
   "metadata": {},
   "source": [
    "Una vez que se ejecuta la celda de arriba, la función `mean_value()` está disponible para usar en cualquier argumento del tipo correcto. Esta función funciona en arrays de cualquier longitud. Podemos intentarlo ahora con nuestros datos."
   ]
  },
  {
   "cell_type": "code",
   "execution_count": null,
   "metadata": {},
   "outputs": [],
   "source": [
    "year_mean = mean_value(year)\n",
    "print(year_mean)"
   ]
  },
  {
   "cell_type": "code",
   "execution_count": null,
   "metadata": {},
   "outputs": [],
   "source": [
    "temp_anomaly_mean = mean_value(temp_anomaly)\n",
    "print(temp_anomaly_mean)"
   ]
  },
  {
   "cell_type": "markdown",
   "metadata": {},
   "source": [
    "¡Genial! Aprendiste cómo escribir una función de Python, y creamos una función para calcular el valor promedio de un array de números. No teníamos que hacerlo, porque NumPy tiene una función incorporada para hacer exactamente lo que necesitamos: [`numpy.mean()`](https://docs.scipy.org/doc/numpy-1.13.0/reference/generated/numpy.mean.html). En general, resulta una práctica conveniente verificar que las funciones que necesitas no existan en las librerías que estás utilizando."
   ]
  },
  {
   "cell_type": "markdown",
   "metadata": {},
   "source": [
    "##### Ejercicio\n",
    "\n",
    "Calcula el promedio de los arrays `year` y` temp_anomaly` utilizando la función incorporada de NumPy, y compara los resultados con los obtenidos utilizando nuestra función personalizada `mean_value`."
   ]
  },
  {
   "cell_type": "code",
   "execution_count": null,
   "metadata": {},
   "outputs": [],
   "source": []
  },
  {
   "cell_type": "markdown",
   "metadata": {},
   "source": [
    "Ahora que tenemos valores medios, podemos calcular nuestros coeficientes siguiendo las ecuaciones. Primero calculamos $ a_1 $ y luego usamos ese valor para calcular $ a_0 $.\n",
    "\n",
    "Nuestros coeficientes son:\n",
    "\n",
    "$$\n",
    "    a_1 = \\frac {\\sum_ {i = 0} ^ {n} y_ {i} (x_i - \\bar{x})} {\\sum_ {i = 0} ^ {n} x_i (x_i - \\bar{x})} \\quad, \\quad a_0 = \\bar{y} - a_1 \\bar{x}\n",
    "$$"
   ]
  },
  {
   "cell_type": "markdown",
   "metadata": {},
   "source": [
    "Ya calculamos los valores promedios de los arrays de datos, pero la fórmula requiere dos sumas sobre nuevos arrays. Pero adivina, NumPy tiene una función incorporada para eso: [`numpy.sum()`](https://docs.scipy.org/doc/numpy/reference/generated/numpy.sum.html). Estudia el código a continuación."
   ]
  },
  {
   "cell_type": "code",
   "execution_count": null,
   "metadata": {},
   "outputs": [],
   "source": [
    "a_1 = numpy.sum(temp_anomaly*(year - year_mean)) / numpy.sum(year*(year - year_mean)) "
   ]
  },
  {
   "cell_type": "code",
   "execution_count": null,
   "metadata": {},
   "outputs": [],
   "source": [
    "print(a_1)"
   ]
  },
  {
   "cell_type": "code",
   "execution_count": null,
   "metadata": {},
   "outputs": [],
   "source": [
    "a_0 = temp_anomaly_mean - a_1*year_mean"
   ]
  },
  {
   "cell_type": "code",
   "execution_count": null,
   "metadata": {},
   "outputs": [],
   "source": [
    "print(a_0)"
   ]
  },
  {
   "cell_type": "markdown",
   "metadata": {},
   "source": [
    "##### Ejercicio\n",
    "\n",
    "Escribe una función que calcule los coeficientes, llama a esta función para calcularlos y compara el resultado con los valores que obtuvimos antes. Como una pista, te damos la estructura que debes seguir:\n",
    "\n",
    "```python\n",
    "def coeficients(x, y, x_mean, y_mean):\n",
    "    \"\"\"\n",
    "    Escribir docstrings aquí\n",
    "    \"\"\"\n",
    "    a_1 =\n",
    "    a_0 =\n",
    "    \n",
    "    returns a_1, a_0\n",
    "```"
   ]
  },
  {
   "cell_type": "markdown",
   "metadata": {},
   "source": [
    "Ahora tenemos los coeficientes de la función lineal que mejor se ajusta a nuestros datos. Con ellos, podemos calcular los valores predichos de anomalía de temperatura, de acuerdo con nuestro ajuste. Verifica nuevamente las ecuaciones anteriores: los valores que vamos a calcular son $f(x_i)$.\n",
    "\n",
    "Llamemos a `reg` al array obtenido al evaluar $f(x_i)$ para todos los años."
   ]
  },
  {
   "cell_type": "code",
   "execution_count": null,
   "metadata": {},
   "outputs": [],
   "source": [
    "reg = a_0 + a_1 * year"
   ]
  },
  {
   "cell_type": "markdown",
   "metadata": {},
   "source": [
    "Con los valores de nuestra regresión lineal, podemos trazarla sobre los datos originales para ver cómo se ven juntos. Estudia el código a continuación."
   ]
  },
  {
   "cell_type": "code",
   "execution_count": null,
   "metadata": {},
   "outputs": [],
   "source": [
    "pyplot.figure(figsize=(10, 5))\n",
    "\n",
    "pyplot.plot(year, temp_anomaly, color='#2929a3', linestyle='-', linewidth=1, alpha=0.5) \n",
    "pyplot.plot(year, reg, 'k--', linewidth=2, label='Regresión lineal')\n",
    "pyplot.xlabel('Año')\n",
    "pyplot.ylabel('Anomalía de temperatura[°C]')\n",
    "pyplot.legend(loc='best', fontsize=15)\n",
    "pyplot.grid();"
   ]
  },
  {
   "cell_type": "markdown",
   "metadata": {},
   "source": [
    "## Paso 4: aplicando la regresión usando NumPy"
   ]
  },
  {
   "cell_type": "markdown",
   "metadata": {},
   "source": [
    "Anteriormente codificamos la regresión lineal desde cero. Pero, como ya habrás supuesto, no era necesario hacerlo porque NumPy tiene funciones integradas que cubren muchas de nuestras necesidades.\n",
    "\n",
    "¡Sí! ¡Python y NumPy están aquí para ayudar! Con [`polyfit()`](https://docs.scipy.org/doc/numpy-1.10.0/reference/generated/numpy.polyfit.html), obtenemos la pendiente y el intercepto en $y$ de la línea que mejor se ajusta a los datos. Con [`poly1d()`](https://docs.scipy.org/doc/numpy/reference/generated/numpy.poly1d.html), podemos construir la función lineal desde su pendiente y su intercepto en $y$.\n",
    "\n",
    "Observémoslo en acción:"
   ]
  },
  {
   "cell_type": "code",
   "execution_count": null,
   "metadata": {},
   "outputs": [],
   "source": [
    "# Primero ajustar con NumPy, y obtener los parámetros a_1n, a_0n:\n",
    "a_1n, a_0n = numpy.polyfit(year, temp_anomaly, 1)\n",
    "\n",
    "f_linear = numpy.poly1d((a_1n, a_0n)) "
   ]
  },
  {
   "cell_type": "code",
   "execution_count": null,
   "metadata": {},
   "outputs": [],
   "source": [
    "print(a_1n)"
   ]
  },
  {
   "cell_type": "code",
   "execution_count": null,
   "metadata": {},
   "outputs": [],
   "source": [
    "print(a_0n)"
   ]
  },
  {
   "cell_type": "code",
   "execution_count": null,
   "metadata": {},
   "outputs": [],
   "source": [
    "print(f_linear)"
   ]
  },
  {
   "cell_type": "code",
   "execution_count": null,
   "metadata": {},
   "outputs": [],
   "source": [
    "pyplot.figure(figsize=(10, 5))\n",
    "\n",
    "pyplot.plot(year, temp_anomaly, color='#2929a3', linestyle='-', linewidth=1, alpha=0.5) \n",
    "pyplot.plot(year, f_linear(year), 'k--', linewidth=2, label='Regresión lineal')\n",
    "pyplot.xlabel('Año')\n",
    "pyplot.ylabel('Anomalía de temperatura en tierra [°C]')\n",
    "pyplot.legend(loc='best', fontsize=15)\n",
    "pyplot.grid();"
   ]
  },
  {
   "cell_type": "markdown",
   "metadata": {},
   "source": [
    "## \"Regresión dividida\""
   ]
  },
  {
   "cell_type": "markdown",
   "metadata": {},
   "source": [
    "Si nos fijamos en el gráfico anterior, observarás que alrededor de 1970 la temperatura comienza a aumentar más rápido que la tendencia anterior. Una sola línea recta no nos dará un ajuste lo suficientemente bueno.\n",
    "\n",
    "¿Qué pasa si dividimos los datos en dos (antes y después de 1970) y realizamos una regresión lineal en cada segmento?\n",
    "\n",
    "Para hacer eso, necesitamos encontrar el lugar en nuestro  aray `year` donde se encuentra el año 1970. Afortunadamente, NumPy tiene una función llamada [`numpy.where()`](https://docs.scipy.org/doc/numpy/reference/generated/numpy.where.html) que nos puede ayudar. Pasamos una condición y `numpy.where()` nos dice en qué parte del array la condición es `True`."
   ]
  },
  {
   "cell_type": "code",
   "execution_count": null,
   "metadata": {},
   "outputs": [],
   "source": [
    "numpy.where(year==1970)"
   ]
  },
  {
   "cell_type": "markdown",
   "metadata": {},
   "source": [
    "Para dividir los datos, usamos el poderoso instrumento de _slicing_ con la notación de dos puntos. Recuerde que un punto entre dos índices indica un rango de valores desde `start`(inicio) hasta `end` (fin). La regla es que `[start: end]` incluye el elemento en el índice `start` pero excluye el correspondiente al índice` end`. Por ejemplo, para obtener los primeros 3 años en nuestro array `year`, hacemos:"
   ]
  },
  {
   "cell_type": "code",
   "execution_count": null,
   "metadata": {},
   "outputs": [],
   "source": [
    "year[0:3]"
   ]
  },
  {
   "cell_type": "markdown",
   "metadata": {},
   "source": [
    "Ahora sabemos cómo dividir nuestros datos en dos conjuntos, para obtener dos líneas de regresión. Necesitamos dos sectores de los arrays `year` y` temp_anomaly`, que guardaremos en los nuevos nombres de variables a continuación. Después de eso, completamos dos ajustes lineales utilizando las útiles funciones de NumPy que aprendimos anteriormente."
   ]
  },
  {
   "cell_type": "code",
   "execution_count": null,
   "metadata": {},
   "outputs": [],
   "source": [
    "year_1 , temp_anomaly_1 = year[0:90], temp_anomaly[0:90]\n",
    "year_2 , temp_anomaly_2 = year[90:], temp_anomaly[90:]\n",
    "\n",
    "m1, b1 = numpy.polyfit(year_1, temp_anomaly_1, 1)\n",
    "m2, b2 = numpy.polyfit(year_2, temp_anomaly_2, 1)\n",
    "\n",
    "f_linear_1 = numpy.poly1d((m1, b1))\n",
    "f_linear_2 = numpy.poly1d((m2, b2))"
   ]
  },
  {
   "cell_type": "code",
   "execution_count": null,
   "metadata": {},
   "outputs": [],
   "source": [
    "pyplot.figure(figsize=(10, 5))\n",
    "\n",
    "pyplot.plot(year, temp_anomaly, color='#2929a3', linestyle='-', linewidth=1, alpha=0.5) \n",
    "pyplot.plot(year_1, f_linear_1(year_1), 'g--', linewidth=2, label='1880-1969')\n",
    "pyplot.plot(year_2, f_linear_2(year_2), 'r--', linewidth=2, label='1970-2016')\n",
    "\n",
    "pyplot.xlabel('Año')\n",
    "pyplot.ylabel('Anomalía de Temperatura en Tierra [°C]')\n",
    "pyplot.legend(loc='best', fontsize=15)\n",
    "pyplot.grid();"
   ]
  },
  {
   "cell_type": "markdown",
   "metadata": {},
   "source": [
    "Tenemos dos curvas diferentes para dos secciones diferentes de nuestro conjunto de datos. Un pequeño problema con esto es que el punto final de nuestra primera regresión no coincide con el punto de partida de la segunda regresión. Hicimos esto con el propósito de aprender, pero no es rigurosamente correcto. Lo arreglaremos en el próximo módulo del curso cuando aprendamos más sobre los diferentes tipos de regresión."
   ]
  },
  {
   "cell_type": "markdown",
   "metadata": {},
   "source": [
    "## Aprendimos:\n",
    "\n",
    "* Hacer gráficos más bellos\n",
    "* Definir y llamar funciones de Python personalizadas\n",
    "* Aplicar regresión lineal a datos\n",
    "* Funciones nativas de NumPy para regresión lineal\n",
    "* ¡La Tierra se está calentando!"
   ]
  },
  {
   "cell_type": "markdown",
   "metadata": {},
   "source": [
    "## Referencias\n",
    "1. [_Essential skills for reproducible research computing_](https://barbagroup.github.io/essential_skills_RRC/) (Habilidades esenciales para la informática de investigación reproducible, 2017). Lorena A. Barba,  Natalia C. Clementi, Gilbert Forsyth. \n",
    "2. _Numerical Methods in Engineering with Python 3_ (Métodos numéricos en ingeniería con Python 3, 2013). Jaan Kiusalaas. Cambridge University Press.\n",
    "3. _Effective Computation in Physics: Field Guide to Research with Python_ (Cálculo eficaz en física: Guía de campo para la investigación con Python, 2015). Anthony Scopatz & Kathryn D. Huff. O'Reilly Media, Inc."
   ]
  },
  {
   "cell_type": "code",
   "execution_count": 30,
   "metadata": {},
   "outputs": [
    {
     "data": {
      "text/html": [
       "<link href=\"https://fonts.googleapis.com/css?family=Merriweather:300,300i,400,400i,700,700i,900,900i\" rel='stylesheet' >\n",
       "<link href=\"https://fonts.googleapis.com/css?family=Source+Sans+Pro:300,300i,400,400i,700,700i\" rel='stylesheet' >\n",
       "<link href='http://fonts.googleapis.com/css?family=Source+Code+Pro:300,400' rel='stylesheet' >\n",
       "<style>\n",
       "\n",
       "@font-face {\n",
       "    font-family: \"Computer Modern\";\n",
       "    src: url('http://mirrors.ctan.org/fonts/cm-unicode/fonts/otf/cmunss.otf');\n",
       "}\n",
       "\n",
       "\n",
       "#notebook_panel { /* main background */\n",
       "    background: rgb(245,245,245);\n",
       "}\n",
       "\n",
       "div.cell { /* set cell width */\n",
       "    width: 800px;\n",
       "}\n",
       "\n",
       "div #notebook { /* centre the content */\n",
       "    background: #fff; /* white background for content */\n",
       "    width: 1000px;\n",
       "    margin: auto;\n",
       "    padding-left: 0em;\n",
       "}\n",
       "\n",
       "#notebook li { /* More space between bullet points */\n",
       "margin-top:0.5em;\n",
       "}\n",
       "\n",
       "/* draw border around running cells */\n",
       "div.cell.border-box-sizing.code_cell.running { \n",
       "    border: 1px solid #111;\n",
       "}\n",
       "\n",
       "/* Put a solid color box around each cell and its output, visually linking them*/\n",
       "div.cell.code_cell {\n",
       "    background-color: rgb(256,256,256); \n",
       "    border-radius: 0px; \n",
       "    padding: 0.5em;\n",
       "    margin-left:1em;\n",
       "    margin-top: 1em;\n",
       "}\n",
       "\n",
       "\n",
       "div.text_cell_render{\n",
       "    font-family: 'Source Sans Pro', sans-serif;\n",
       "    line-height: 140%;\n",
       "    font-size: 110%;\n",
       "    width:680px;\n",
       "    margin-left:auto;\n",
       "    margin-right:auto;\n",
       "}\n",
       "\n",
       "/* Formatting for header cells */\n",
       ".text_cell_render h1 {\n",
       "    font-family: 'Merriweather', serif;\n",
       "    font-style:regular;\n",
       "    font-weight: bold;    \n",
       "    font-size: 250%;\n",
       "    line-height: 100%;\n",
       "    color: #004065;\n",
       "    margin-bottom: 1em;\n",
       "    margin-top: 0.5em;\n",
       "    display: block;\n",
       "}\t\n",
       ".text_cell_render h2 {\n",
       "    font-family: 'Merriweather', serif;\n",
       "    font-weight: bold; \n",
       "    font-size: 180%;\n",
       "    line-height: 100%;\n",
       "    color: #0096d6;\n",
       "    margin-bottom: 0.5em;\n",
       "    margin-top: 0.5em;\n",
       "    display: block;\n",
       "}\t\n",
       "\n",
       ".text_cell_render h3 {\n",
       "    font-family: 'Merriweather', serif;\n",
       "\tfont-size: 150%;\n",
       "    margin-top:12px;\n",
       "    margin-bottom: 3px;\n",
       "    font-style: regular;\n",
       "    color: #008367;\n",
       "}\n",
       "\n",
       ".text_cell_render h4 {    /*Use this for captions*/\n",
       "    font-family: 'Merriweather', serif;\n",
       "    font-weight: 300; \n",
       "    font-size: 100%;\n",
       "    line-height: 120%;\n",
       "    text-align: left;\n",
       "    width:500px;\n",
       "    margin-top: 1em;\n",
       "    margin-bottom: 2em;\n",
       "    margin-left: 80pt;\n",
       "    font-style: regular;\n",
       "}\n",
       "\n",
       ".text_cell_render h5 {  /*Use this for small titles*/\n",
       "    font-family: 'Source Sans Pro', sans-serif;\n",
       "    font-weight: regular;\n",
       "    font-size: 130%;\n",
       "    color: #e31937;\n",
       "    font-style: italic;\n",
       "    margin-bottom: .5em;\n",
       "    margin-top: 1em;\n",
       "    display: block;\n",
       "}\n",
       "\n",
       ".text_cell_render h6 { /*use this for copyright note*/\n",
       "    font-family: 'Source Code Pro', sans-serif;\n",
       "    font-weight: 300;\n",
       "    font-size: 9pt;\n",
       "    line-height: 100%;\n",
       "    color: grey;\n",
       "    margin-bottom: 1px;\n",
       "    margin-top: 1px;\n",
       "}\n",
       "\n",
       "    .CodeMirror{\n",
       "            font-family: \"Source Code Pro\";\n",
       "\t\t\tfont-size: 90%;\n",
       "    }\n",
       "/*    .prompt{\n",
       "        display: None;\n",
       "    }*/\n",
       "\t\n",
       "    \n",
       "    .warning{\n",
       "        color: rgb( 240, 20, 20 )\n",
       "        }  \n",
       "</style>\n",
       "<script>\n",
       "    MathJax.Hub.Config({\n",
       "                        TeX: {\n",
       "                           extensions: [\"AMSmath.js\"], \n",
       "                           equationNumbers: { autoNumber: \"AMS\", useLabelIds: true}\n",
       "                           },\n",
       "                tex2jax: {\n",
       "                    inlineMath: [ ['$','$'], [\"\\\\(\",\"\\\\)\"] ],\n",
       "                    displayMath: [ ['$$','$$'], [\"\\\\[\",\"\\\\]\"] ]\n",
       "                },\n",
       "                displayAlign: 'center', // Change this to 'center' to center equations.\n",
       "                \"HTML-CSS\": {\n",
       "                    styles: {'.MathJax_Display': {\"margin\": 4}}\n",
       "                }\n",
       "        });\n",
       "</script>\n"
      ],
      "text/plain": [
       "<IPython.core.display.HTML object>"
      ]
     },
     "execution_count": 30,
     "metadata": {},
     "output_type": "execute_result"
    }
   ],
   "source": [
    "# Ejecuta esta celda para cargar el notebook con estilo, \n",
    "# pero puedes ignorar su contenido.\n",
    "from IPython.core.display import HTML\n",
    "css_file = '../style/custom.css'\n",
    "HTML(open(css_file, \"r\").read())"
   ]
  }
 ],
 "metadata": {
  "anaconda-cloud": {},
  "kernelspec": {
   "display_name": "Python 3",
   "language": "python",
   "name": "python3"
  },
  "language_info": {
   "codemirror_mode": {
    "name": "ipython",
    "version": 3
   },
   "file_extension": ".py",
   "mimetype": "text/x-python",
   "name": "python",
   "nbconvert_exporter": "python",
   "pygments_lexer": "ipython3",
   "version": "3.5.2"
  },
  "widgets": {
   "state": {},
   "version": "1.1.2"
  }
 },
 "nbformat": 4,
 "nbformat_minor": 1
}
