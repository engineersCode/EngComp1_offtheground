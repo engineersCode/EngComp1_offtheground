{
 "cells": [
  {
   "cell_type": "markdown",
   "metadata": {},
   "source": [
    "###### Contenido bajo licencia Creative Commons Attribution CC-BY 4.0, código bajo licencia BSD 3-Clause © 2017 L.A. Barba, N.C. Clementi"
   ]
  },
  {
   "cell_type": "markdown",
   "metadata": {},
   "source": [
    "# Interactuando con Python\n",
    "\n",
    "Esta es la primera lección de nuestro curso _\"Computación de Ingeniería\"_, un curso de un semestre para estudiantes universitarios de segundo año. El curso usa Python y no asume experiencia previa en programación.\n",
    "Nuestro primer paso será interactuar con Python. Pero primero veamos algunos datos interesantes."
   ]
  },
  {
   "cell_type": "markdown",
   "metadata": {},
   "source": [
    "## ¿Qué es Python?\n",
    "\n",
    "Python tiene 26 años de existencia. Su creador, [Guido van Rossum](https://en.wikipedia.org/wiki/Guido_van_Rossum), lo nombró así por la comedia británica \"Flying Circus de Monty Python\". Sus objetivos para el lenguaje eran que era un \"lenguaje fácil e intuitivo, tan poderoso como los principales competidores\", produciendo un código de computadora \"que sea tan comprensible como el inglés\".\n",
    "\n",
    "Es un lenguaje de propósito general, lo que significa que puede ser usardo para cualquier cosa: organización de datos, web scraping, creación de sitios web, análisis de sonidos, creación de juegos y, por supuesto, \"cálculos de ingeniería\".\n",
    "\n",
    "Python es un lenguaje interpretado. Esto significa que puedes escribir comandos de Python y la computadora  ejecuta esas instrucciones directamente. Otros lenguajes de programación, como C, C ++ y Fortran, requieren un paso previo de _compilación_: traducir los comandos al lenguaje de la máquina.\n",
    "Una buena habilidad de Python es que puede ser utilizada _interactivamente_. [Fernando Perez](https://en.wikipedia.org/wiki/Fernando_Pérez_ (software_developer)) creó famoso ** IPython ** como un proyecto paralelo durante su doctorado. Vamos a usar IPython (el I significa \"interactivo\") en esta lección."
   ]
  },
  {
   "cell_type": "markdown",
   "metadata": {},
   "source": [
    "## ¿Por qué Python?\n",
    "\n",
    "\n",
    "_¡Porque es divertido!_ Con Python, cuanto más aprendes, más querrás aprender.\n",
    "Existen muchos recursos en línea y, dado que Python es un proyecto de código abierto, también encontrarás una comunidad amigable de personas que comparten sus conocimientos.\n",
    "\n",
    "Python es conocido como un lenguaje de \"alta productividad\". Como programador, necesitarás menos tiempo para desarrollar una solución con Python que con la mayoría de los idiomas.\n",
    "Esto es importante cuando alguien te diga que \"Python es lento\".\n",
    "¡Tu tiempo es más valioso que el de una máquina!\n",
    "(Al respecto, consulta la sección Lecturas recomendadas al final).\n",
    "Y si realmente necesitamos acelerar nuestro programa, podemos volver a escribir las partes lentas en un lenguaje compilado después. Porque Python interactua bien con otros idiomas :-)\n",
    "\n",
    "Las principales compañías tecnológicas usan Python: Google, Facebook, Dropbox, Wikipedia, Yahoo !, YouTube ... Y este año, Python ocupó el lugar número 1 en la lista interactiva de [The 2017 Top Programming Languages](http://spectrum.ieee.org/computing/software/the-2017-top-programming-languages), por _EEEE Spectrum_ ([IEEE](http://www.ieee.org/about/index.html) es la sociedad técnica profesional más grande del mundo )"
   ]
  },
  {
   "cell_type": "markdown",
   "metadata": {},
   "source": [
    "#### _Python es un lenguaje versátil, puede analizar datos, crear sitios web (por ejemplo, Instagram, Mozilla, Pinterest), hacer arte o música, etc. Debido a que es un lenguaje versátil, los empleadores adoran Python: si conoces Python, querrán contratarte._ —Jessica McKellar, ex Directora de la Python Software Foundation, en un [tutorial de 2014](https://youtu.be/rkx5_MRAV3A)."
   ]
  },
  {
   "cell_type": "markdown",
   "metadata": {},
   "source": [
    "## Empecemos\n",
    "\n",
    "En esta primera lección, usaremos IPython: una herramienta para trabajar con Python de forma interactiva. Si ya lo tienes instalado en la computadora que estás utilizando para esta lección, ingresa al programa escribiendo\n",
    "\n",
    "`ipython`\n",
    "\n",
    "en la interfaz de la línea de comandos (la aplicación **Terminal** en Mac OSX, y en Windows posiblemente la **PowerShell** o **git bash**). Obtendrás algunas líneas de texto sobre tu versión de IPython y cómo obtener ayuda, y un cursor parpadeante al lado del contador de línea de entrada:\n",
    "\n",
    "`En [1]:`\n",
    "\n",
    "Esa línea de entrada está lista para recibir cualquier código de Python para ser ejecutado de manera interactiva. La salida del código se mostrará junto a `Out [1]`, y así sucesivamente para líneas sucesivas de entrada/salida.\n",
    "\n",
    "##### Nota:\n",
    "\n",
    "Nuestro plan para este curso es trabajar en un laboratorio de computación, donde todos tendrán una computadora con todo instalado con anticipación. Por esta razón, no discutiremos la instalación en este momento. Más adelante, cuando esté ansioso por trabajar en su computadora personal, te ayudaremos a instalar todo lo que necesita. _¡Esto es gratis!_"
   ]
  },
  {
   "cell_type": "markdown",
   "metadata": {},
   "source": [
    "### Tu primer programa\n",
    "\n",
    "En todo curso de programación, tu primer programa consiste en imprimir un mensaje que diga _\"Hola mundo\"_. En Python, esto se logra con la función `print()`, con su mensaje entre comillas."
   ]
  },
  {
   "cell_type": "code",
   "execution_count": 5,
   "metadata": {},
   "outputs": [
    {
     "name": "stdout",
     "output_type": "stream",
     "text": [
      "¡Hola mundo!\n"
     ]
    }
   ],
   "source": [
    "print(\"¡Hola mundo!\")"
   ]
  },
  {
   "cell_type": "markdown",
   "metadata": {},
   "source": [
    "¡¡Pan comido!! acabas de escribir tu primer programa y aprendiste a usar la función `print()`. Sí, `print()` es una función: pasamos el _argumento_ sobre el que queremos que actúe la función, dentro de los paréntesis. En el caso anterior, pasamos un _string_, que es una serie de caracteres entre comillas. No te preocupes, volveremos a los strings más adelante en esta lección."
   ]
  },
  {
   "cell_type": "markdown",
   "metadata": {},
   "source": [
    "##### Concepto clave: función\n",
    "\n",
    "Una función es una colección compacta de código que ejecuta alguna acción en sus _argumentos_. Cada función de Python tiene un _nombre_, usado para llamarlo, y toma sus argumentos dentro de corchetes. Algunos argumentos pueden ser opcionales (lo que significa que tienen un valor predeterminado definido dentro de la función), otros son obligatorios. Por ejemplo, la función `print()` tiene un argumento requerido: la cadena de caracteres que se desea imprimir.\n",
    "\n",
    "Python viene con muchas funciones _predefinidas_, pero también puedes construir funciones propias. Dividir los distintos bloques de código en funciones es una de las mejores estrategias para lidiar con programas complejos. Te hace más eficiente, porque puedes reutilizar el código que escribiste en una función. La modularidad y la reutilización son las herramientas diarias de un programador."
   ]
  },
  {
   "cell_type": "markdown",
   "metadata": {},
   "source": [
    "### Python como calculadora\n",
    "\n",
    "Prueba cualquier operación aritmética en IPython. Los símbolos son lo que esperaría, excepto el operador de potencia, que obtiene con dos asteriscos: `**`. Prueba todos estos:\n",
    "\n",
    "```python\n",
    "+ - */**% //\n",
    "```\n",
    "\n",
    "El símbolo `%` es el operador _módulo_ (divide y devuelve el resto), y la barra doble es _división entera_."
   ]
  },
  {
   "cell_type": "code",
   "execution_count": 2,
   "metadata": {},
   "outputs": [
    {
     "data": {
      "text/plain": [
       "4"
      ]
     },
     "execution_count": 2,
     "metadata": {},
     "output_type": "execute_result"
    }
   ],
   "source": [
    "2 + 2"
   ]
  },
  {
   "cell_type": "code",
   "execution_count": 3,
   "metadata": {},
   "outputs": [
    {
     "data": {
      "text/plain": [
       "4.9"
      ]
     },
     "execution_count": 3,
     "metadata": {},
     "output_type": "execute_result"
    }
   ],
   "source": [
    "1.25 + 3.65"
   ]
  },
  {
   "cell_type": "code",
   "execution_count": 4,
   "metadata": {},
   "outputs": [
    {
     "data": {
      "text/plain": [
       "2"
      ]
     },
     "execution_count": 4,
     "metadata": {},
     "output_type": "execute_result"
    }
   ],
   "source": [
    "5 - 3"
   ]
  },
  {
   "cell_type": "code",
   "execution_count": 5,
   "metadata": {},
   "outputs": [
    {
     "data": {
      "text/plain": [
       "8"
      ]
     },
     "execution_count": 5,
     "metadata": {},
     "output_type": "execute_result"
    }
   ],
   "source": [
    "2 * 4"
   ]
  },
  {
   "cell_type": "code",
   "execution_count": 6,
   "metadata": {},
   "outputs": [
    {
     "data": {
      "text/plain": [
       "3.5"
      ]
     },
     "execution_count": 6,
     "metadata": {},
     "output_type": "execute_result"
    }
   ],
   "source": [
    "7 / 2"
   ]
  },
  {
   "cell_type": "code",
   "execution_count": 7,
   "metadata": {},
   "outputs": [
    {
     "data": {
      "text/plain": [
       "8"
      ]
     },
     "execution_count": 7,
     "metadata": {},
     "output_type": "execute_result"
    }
   ],
   "source": [
    "2**3"
   ]
  },
  {
   "cell_type": "markdown",
   "metadata": {},
   "source": [
    "Veamos un caso interesante:"
   ]
  },
  {
   "cell_type": "code",
   "execution_count": 8,
   "metadata": {},
   "outputs": [
    {
     "data": {
      "text/plain": [
       "4.5"
      ]
     },
     "execution_count": 8,
     "metadata": {},
     "output_type": "execute_result"
    }
   ],
   "source": [
    "9**1/2"
   ]
  },
  {
   "cell_type": "markdown",
   "metadata": {},
   "source": [
    "##### Discute con tu vecino:\n",
    "_¿Qué pasó?_¿No es $ 9 ^ {1/2} = 3 $? (Aumentar al poder $ 1/2 $ es lo mismo que tomar la raíz cuadrada.) ¿Python se equivocó?\n",
    "\n",
    "Compara con esto:"
   ]
  },
  {
   "cell_type": "code",
   "execution_count": 9,
   "metadata": {},
   "outputs": [
    {
     "data": {
      "text/plain": [
       "3.0"
      ]
     },
     "execution_count": 9,
     "metadata": {},
     "output_type": "execute_result"
    }
   ],
   "source": [
    "9**(1/2)"
   ]
  },
  {
   "cell_type": "markdown",
   "metadata": {},
   "source": [
    "¡Sí! ¡El orden de las operaciones es importante!\n",
    "\n",
    "Si no recuerdas de lo que estamos hablando, revise la [Aritmética/Orden de operaciones](https://en.wikibooks.org/wiki/Arithmetic/Order_of_Operations). Una situación frecuente que expone esto es la siguiente:"
   ]
  },
  {
   "cell_type": "code",
   "execution_count": 10,
   "metadata": {},
   "outputs": [
    {
     "data": {
      "text/plain": [
       "4.5"
      ]
     },
     "execution_count": 10,
     "metadata": {},
     "output_type": "execute_result"
    }
   ],
   "source": [
    "3 + 3 / 2"
   ]
  },
  {
   "cell_type": "code",
   "execution_count": 11,
   "metadata": {},
   "outputs": [
    {
     "data": {
      "text/plain": [
       "3.0"
      ]
     },
     "execution_count": 11,
     "metadata": {},
     "output_type": "execute_result"
    }
   ],
   "source": [
    "(3 + 3) / 2"
   ]
  },
  {
   "cell_type": "markdown",
   "metadata": {},
   "source": [
    "En el primer caso, estamos agregando $ 3 $ más el número resultante de la operación $ 3/2 $. Si queremos que la división se aplique al resultado de $ 3 + 3 $, necesitamos los paréntesis."
   ]
  },
  {
   "cell_type": "markdown",
   "metadata": {},
   "source": [
    "##### Ejercicios:\n",
    "Usa IPython (como una calculadora) para resolver los siguientes dos problemas:\n",
    "\n",
    "1. El volumen de una esfera con radio $ r $ es $ \\frac {4} {3} \\pi r ^ 3 $. ¿Cuál es el volumen de una esfera con un diámetro de 6.65 cm?\n",
    "\n",
    "    Por el valor de $ \\pi $ usa 3.14159 (por ahora). Compare su respuesta con la solución hasta 4 números decimales.\n",
    "\n",
    "    Sugerencia: 523.5983 es incorrecto y 615.9184 también es incorrecto.\n",
    "    \n",
    "2. Supongamos que el precio de un libro es $ \\$ 24.95 $, pero las librerías obtienen un descuento de $ 40 \\% $. El envío cuesta $ \\$ 3 $ por la primera copia y $ 75 $ centavos por cada copia adicional. ¿Cuál es el costo total al por mayor de $ 60 $ copias? Compare su respuesta con la solución hasta 2 números decimales."
   ]
  },
  {
   "cell_type": "code",
   "execution_count": null,
   "metadata": {
    "collapsed": true
   },
   "outputs": [],
   "source": []
  },
  {
   "cell_type": "markdown",
   "metadata": {},
   "source": [
    "Para revelar las respuestas, resalta la siguiente línea de texto con el ratón:"
   ]
  },
  {
   "cell_type": "markdown",
   "metadata": {},
   "source": [
    "Respuesta ejercicio 1: <span style = \"color: white\"> 153.9796 </span> Respuesta ejercicio 2: <span style = \"color: white\"> 945.45 </span>"
   ]
  },
  {
   "cell_type": "markdown",
   "metadata": {},
   "source": [
    "### Variables y su tipo\n",
    "\n",
    "Las variables constan de dos partes: un nombre (_name_)y un valor (_value_). Cuando queremos dar a una variable su nombre y valor, usamos el signo igual: `nombre = valor`. Esto se llama una 'asignación'. El nombre de la variable va a la izquierda y el valor a la derecha.\n",
    "\n",
    "¡Lo primero a lo que hay que acostumbrarse es a que el signo igual en una tarea tiene un significado diferente del que tiene en Algebra! Imagina que es una flecha que apunta de `nombre` a` valor`.\n",
    "\n",
    "<img src = \"../images/variables.png\" style = \"width: 400px;\" />\n",
    "\n",
    "Tenemos muchas posibilidades para nombres de variables: pueden estar formados por letras mayúsculas y minúsculas, guiones bajos y dígitos ... aunque los dígitos no pueden ir al principio del nombre. Por ejemplo, los nombres de variable válidos son:\n",
    "\n",
    "```python\n",
    "    X\n",
    "    x1\n",
    "    X_2\n",
    "    nombre_3\n",
    "    NombreApellido\n",
    "```\n",
    "Ten en cuenta que hay palabras reservadas que no puede usar; son las [palabras reservadas de Python](https://docs.python.org/3/reference/lexical_analysis.html#keywords).\n",
    "  \n",
    "OK. Asignemos algunos valores a las variables y realicemos algunas operaciones con ellos:"
   ]
  },
  {
   "cell_type": "code",
   "execution_count": 2,
   "metadata": {},
   "outputs": [],
   "source": [
    "x = 3 "
   ]
  },
  {
   "cell_type": "code",
   "execution_count": 3,
   "metadata": {},
   "outputs": [],
   "source": [
    "y = 4.5"
   ]
  },
  {
   "cell_type": "markdown",
   "metadata": {},
   "source": [
    "##### Ejercicio:\n",
    "Imprime los valores de las variables `x` y` y`."
   ]
  },
  {
   "cell_type": "code",
   "execution_count": null,
   "metadata": {
    "collapsed": true
   },
   "outputs": [],
   "source": []
  },
  {
   "cell_type": "markdown",
   "metadata": {},
   "source": [
    "Hagamos algunas operaciones aritméticas con nuestras nuevas variables:"
   ]
  },
  {
   "cell_type": "code",
   "execution_count": 4,
   "metadata": {},
   "outputs": [
    {
     "data": {
      "text/plain": [
       "7.5"
      ]
     },
     "execution_count": 4,
     "metadata": {},
     "output_type": "execute_result"
    }
   ],
   "source": [
    "x + y"
   ]
  },
  {
   "cell_type": "code",
   "execution_count": 5,
   "metadata": {},
   "outputs": [
    {
     "data": {
      "text/plain": [
       "8"
      ]
     },
     "execution_count": 5,
     "metadata": {},
     "output_type": "execute_result"
    }
   ],
   "source": [
    "2**x"
   ]
  },
  {
   "cell_type": "code",
   "execution_count": 6,
   "metadata": {},
   "outputs": [
    {
     "data": {
      "text/plain": [
       "1.5"
      ]
     },
     "execution_count": 6,
     "metadata": {},
     "output_type": "execute_result"
    }
   ],
   "source": [
    "y - 3"
   ]
  },
  {
   "cell_type": "markdown",
   "metadata": {},
   "source": [
    "Y ahora, revisemos los valores de `x` y` y`. ¿Siguen siendo los mismos que cuando los asignaste?"
   ]
  },
  {
   "cell_type": "code",
   "execution_count": 7,
   "metadata": {},
   "outputs": [
    {
     "name": "stdout",
     "output_type": "stream",
     "text": [
      "3\n"
     ]
    }
   ],
   "source": [
    "print(x)"
   ]
  },
  {
   "cell_type": "code",
   "execution_count": 8,
   "metadata": {},
   "outputs": [
    {
     "name": "stdout",
     "output_type": "stream",
     "text": [
      "4.5\n"
     ]
    }
   ],
   "source": [
    "print(y)"
   ]
  },
  {
   "cell_type": "markdown",
   "metadata": {},
   "source": [
    "### Variables de cadena\n",
    "\n",
    "Además del nombre y el valor, las variables de Python tienen un _tipo_ (_type_): el tipo del valor al que se refiere. Por ejemplo, un valor entero tiene el tipo `int`, y un nmero real tiene el tipo` float`. Una cadena de texto es una variable que consiste en una secuencia de caracteres marcados por dos comillas, y tiene el tipo `str`."
   ]
  },
  {
   "cell_type": "code",
   "execution_count": 9,
   "metadata": {},
   "outputs": [],
   "source": [
    "z = 'this is a string'"
   ]
  },
  {
   "cell_type": "code",
   "execution_count": 10,
   "metadata": {},
   "outputs": [],
   "source": [
    "w = '1'"
   ]
  },
  {
   "cell_type": "markdown",
   "metadata": {},
   "source": [
    "¿Qué pasa si intentas \"unir\" dos cadenas?"
   ]
  },
  {
   "cell_type": "code",
   "execution_count": 11,
   "metadata": {},
   "outputs": [
    {
     "data": {
      "text/plain": [
       "'this is a string1'"
      ]
     },
     "execution_count": 11,
     "metadata": {},
     "output_type": "execute_result"
    }
   ],
   "source": [
    "z + w"
   ]
  },
  {
   "cell_type": "markdown",
   "metadata": {},
   "source": [
    "La operación anterior se llama _concatenación_: encadenando dos cadenas juntas en una. Interesante, ¿eh? Pero mira esto:"
   ]
  },
  {
   "cell_type": "code",
   "execution_count": 12,
   "metadata": {},
   "outputs": [
    {
     "ename": "TypeError",
     "evalue": "unsupported operand type(s) for +: 'int' and 'str'",
     "output_type": "error",
     "traceback": [
      "\u001b[0;31m---------------------------------------------------------------------------\u001b[0m",
      "\u001b[0;31mTypeError\u001b[0m                                 Traceback (most recent call last)",
      "\u001b[0;32m<ipython-input-12-7414e72702f9>\u001b[0m in \u001b[0;36m<module>\u001b[0;34m()\u001b[0m\n\u001b[0;32m----> 1\u001b[0;31m \u001b[0mx\u001b[0m \u001b[0;34m+\u001b[0m \u001b[0mw\u001b[0m\u001b[0;34m\u001b[0m\u001b[0m\n\u001b[0m",
      "\u001b[0;31mTypeError\u001b[0m: unsupported operand type(s) for +: 'int' and 'str'"
     ]
    }
   ],
   "source": [
    "x + w"
   ]
  },
  {
   "cell_type": "markdown",
   "metadata": {},
   "source": [
    "_¡Error!_ ¿Por qué? Examinemos lo que Python acaba de decir y exploremos lo que está sucediendo.\n",
    "\n",
    "Python es un lenguaje dinámico, lo que significa que no necesitas especificar un tipo para definir un objeto existente. El apodo humorístico para esto es \"duck typing\" (comportamiento de pato):\n",
    "\n",
    "#### \"Cuando veo un ave que camina como un pato, nada como un pato y suena como un pato, a esa ave yo la llamo un pato.\".\n",
    "\n",
    "En otras palabras, una variable tiene un tipo, pero no necesitamos especificarlo. Simplemente se comportará como se supone que debe hacerlo cuando operemos con él (graznará y caminará como fue la intención de la naturaleza).\n",
    "\n",
    "Pero a veces debe asegurarse de conocer el tipo de variable. Afortunadamente, Python ofrece una función para encontrar el tipo de variable: `type()`."
   ]
  },
  {
   "cell_type": "code",
   "execution_count": 13,
   "metadata": {},
   "outputs": [
    {
     "data": {
      "text/plain": [
       "int"
      ]
     },
     "execution_count": 13,
     "metadata": {},
     "output_type": "execute_result"
    }
   ],
   "source": [
    "type(x)"
   ]
  },
  {
   "cell_type": "code",
   "execution_count": 14,
   "metadata": {},
   "outputs": [
    {
     "data": {
      "text/plain": [
       "str"
      ]
     },
     "execution_count": 14,
     "metadata": {},
     "output_type": "execute_result"
    }
   ],
   "source": [
    "type(w)"
   ]
  },
  {
   "cell_type": "code",
   "execution_count": 15,
   "metadata": {},
   "outputs": [
    {
     "data": {
      "text/plain": [
       "float"
      ]
     },
     "execution_count": 15,
     "metadata": {},
     "output_type": "execute_result"
    }
   ],
   "source": [
    "type(y)"
   ]
  },
  {
   "cell_type": "markdown",
   "metadata": {},
   "source": [
    "### Más asignaciones\n",
    "\n",
    "¿Qué sucede si se desea asignar a una nueva variable el resultado de una operación que involucra otras variables? ¡Ningún problema!"
   ]
  },
  {
   "cell_type": "code",
   "execution_count": 16,
   "metadata": {},
   "outputs": [],
   "source": [
    "sum_xy = x + y\n",
    "diff_xy = x - y"
   ]
  },
  {
   "cell_type": "code",
   "execution_count": 17,
   "metadata": {},
   "outputs": [
    {
     "name": "stdout",
     "output_type": "stream",
     "text": [
      "The sum of x and y is: 7.5\n",
      "The difference between x and y is: -1.5\n"
     ]
    }
   ],
   "source": [
    "print('The sum of x and y is:', sum_xy)\n",
    "print('The difference between x and y is:', diff_xy)"
   ]
  },
  {
   "cell_type": "markdown",
   "metadata": {},
   "source": [
    "Observa lo que hicimos arriba: utilizamos la función `print()` con una cadena de texto (string), seguido de una variable, y Python imprimió una combinación útil del mensaje y el valor de la variable. Un consejo profesional: Quieres imprimir mensajes fáciles de leer para humanos. Veamos ahora el tipo de las nuevas variables que acabamos de crear:"
   ]
  },
  {
   "cell_type": "code",
   "execution_count": 18,
   "metadata": {},
   "outputs": [
    {
     "data": {
      "text/plain": [
       "float"
      ]
     },
     "execution_count": 18,
     "metadata": {},
     "output_type": "execute_result"
    }
   ],
   "source": [
    "type(sum_xy)"
   ]
  },
  {
   "cell_type": "code",
   "execution_count": 19,
   "metadata": {},
   "outputs": [
    {
     "data": {
      "text/plain": [
       "float"
      ]
     },
     "execution_count": 19,
     "metadata": {},
     "output_type": "execute_result"
    }
   ],
   "source": [
    "type(diff_xy)"
   ]
  },
  {
   "cell_type": "markdown",
   "metadata": {},
   "source": [
    "##### Discute con tu vecino:\n",
    "¿Puedes resumir lo que hicimos arriba?"
   ]
  },
  {
   "cell_type": "markdown",
   "metadata": {},
   "source": [
    "### Variables especiales\n",
    "\n",
    "Python tiene variables especiales que están integradas en el lenguaje. Estos son:\n",
    "`True`,` False`, `None` y` NotImplemented`.\n",
    "Por ahora, veremos solo los primeros tres de estos.\n",
    "\n",
    "** Las variables booleanas ** se utilizan para representar valores de verdad, y pueden tomar uno de dos valores posibles: `True` y` False`.\n",
    "_Expresiones lógicas_ devuelven booleanos. Aquí está la expresión lógica más simple, usando la palabra reservada `not`:\n",
    "\n",
    "```Python\n",
    "  not True\n",
    "```\n",
    "\n",
    "Retorna ... lo has adivinado ... `False` (Falso).\n",
    "\n",
    "La función de Python `bool()` devuelve un valor de verdad asignado a cualquier argumento. Cualquier número que no sea cero tiene un valor de verdad de `True`, así como cualquier cadena o lista no vacía. El número cero y cualquier cadena o lista vacía tendrán un valor de verdad de `False`. Ahora exploremos la función `bool()` con varios argumentos."
   ]
  },
  {
   "cell_type": "code",
   "execution_count": 2,
   "metadata": {},
   "outputs": [
    {
     "data": {
      "text/plain": [
       "False"
      ]
     },
     "execution_count": 2,
     "metadata": {},
     "output_type": "execute_result"
    }
   ],
   "source": [
    "bool(0)"
   ]
  },
  {
   "cell_type": "code",
   "execution_count": 3,
   "metadata": {},
   "outputs": [
    {
     "data": {
      "text/plain": [
       "True"
      ]
     },
     "execution_count": 3,
     "metadata": {},
     "output_type": "execute_result"
    }
   ],
   "source": [
    "bool('Do we need oxygen?')"
   ]
  },
  {
   "cell_type": "code",
   "execution_count": 4,
   "metadata": {},
   "outputs": [
    {
     "data": {
      "text/plain": [
       "True"
      ]
     },
     "execution_count": 4,
     "metadata": {},
     "output_type": "execute_result"
    }
   ],
   "source": [
    "bool('We do not need oxygen')"
   ]
  },
  {
   "cell_type": "markdown",
   "metadata": {
    "collapsed": true
   },
   "source": [
    "**None no es cero **: `None` (ninguno, nada) es una variable especial que indica que no se asignó ningún valor o que un comportamiento no está definido. Es diferente del valor cero, una cadena vacía o algún otro valor nulo.\n",
    "\n",
    "Puedes verificar que no sea cero tratando de agregarlo a un número. Veamos qué pasa cuando intentamos eso:"
   ]
  },
  {
   "cell_type": "code",
   "execution_count": 33,
   "metadata": {
    "collapsed": true
   },
   "outputs": [],
   "source": [
    "a = None\n",
    "\n",
    "b = 3"
   ]
  },
  {
   "cell_type": "code",
   "execution_count": 34,
   "metadata": {},
   "outputs": [
    {
     "ename": "TypeError",
     "evalue": "unsupported operand type(s) for +: 'NoneType' and 'int'",
     "output_type": "error",
     "traceback": [
      "\u001b[0;31m---------------------------------------------------------------------------\u001b[0m",
      "\u001b[0;31mTypeError\u001b[0m                                 Traceback (most recent call last)",
      "\u001b[0;32m<ipython-input-34-f96fb8f649b6>\u001b[0m in \u001b[0;36m<module>\u001b[0;34m()\u001b[0m\n\u001b[0;32m----> 1\u001b[0;31m \u001b[0ma\u001b[0m \u001b[0;34m+\u001b[0m \u001b[0mb\u001b[0m\u001b[0;34m\u001b[0m\u001b[0m\n\u001b[0m",
      "\u001b[0;31mTypeError\u001b[0m: unsupported operand type(s) for +: 'NoneType' and 'int'"
     ]
    }
   ],
   "source": [
    "a + b"
   ]
  },
  {
   "cell_type": "markdown",
   "metadata": {},
   "source": [
    "### Operadores lógicos y de comparación\n",
    "\n",
    "Los operadores de comparación de Python son: `<`, `<=`, `>`, `> =`, `==`, `!=`. Comparan dos objetos y devuelven `True` o` False`: menor, menor o igual, mayor, mayor o igual, igual, distinto. ¡Intentalo!"
   ]
  },
  {
   "cell_type": "code",
   "execution_count": 35,
   "metadata": {
    "collapsed": true
   },
   "outputs": [],
   "source": [
    "x = 3\n",
    "y = 5"
   ]
  },
  {
   "cell_type": "code",
   "execution_count": 36,
   "metadata": {},
   "outputs": [
    {
     "data": {
      "text/plain": [
       "False"
      ]
     },
     "execution_count": 36,
     "metadata": {},
     "output_type": "execute_result"
    }
   ],
   "source": [
    "x > y"
   ]
  },
  {
   "cell_type": "markdown",
   "metadata": {},
   "source": [
    "Podemos asignar el valor de verdad de una operación de comparación a un nuevo nombre de variable:"
   ]
  },
  {
   "cell_type": "code",
   "execution_count": 37,
   "metadata": {
    "collapsed": true
   },
   "outputs": [],
   "source": [
    "z = x > y"
   ]
  },
  {
   "cell_type": "code",
   "execution_count": 38,
   "metadata": {},
   "outputs": [
    {
     "data": {
      "text/plain": [
       "False"
      ]
     },
     "execution_count": 38,
     "metadata": {},
     "output_type": "execute_result"
    }
   ],
   "source": [
    "z"
   ]
  },
  {
   "cell_type": "code",
   "execution_count": 39,
   "metadata": {},
   "outputs": [
    {
     "data": {
      "text/plain": [
       "bool"
      ]
     },
     "execution_count": 39,
     "metadata": {},
     "output_type": "execute_result"
    }
   ],
   "source": [
    "type(z)"
   ]
  },
  {
   "cell_type": "markdown",
   "metadata": {},
   "source": [
    "Los operadores lógicos son los siguientes: `and`,` or`, y `not`. Funcionan igual que en el inglés. Una expresión lógica con `and` es verdadera (`True`) sólo si ambos operandos son verdaderos. Una expresión con `or` es verdadera (`True`) cuando cualquiera de los operandos es verdadero. Y la palabra clave `not` siempre niega la expresión que le sigue.\n",
    "\n",
    "Hagamos algunos ejemplos:"
   ]
  },
  {
   "cell_type": "code",
   "execution_count": 21,
   "metadata": {},
   "outputs": [],
   "source": [
    "a = 5\n",
    "b = 3\n",
    "c = 10"
   ]
  },
  {
   "cell_type": "code",
   "execution_count": 22,
   "metadata": {},
   "outputs": [
    {
     "data": {
      "text/plain": [
       "False"
      ]
     },
     "execution_count": 22,
     "metadata": {},
     "output_type": "execute_result"
    }
   ],
   "source": [
    "a > b and b > c"
   ]
  },
  {
   "cell_type": "markdown",
   "metadata": {},
   "source": [
    "Recuerde que el operador lógico `and` es `True` solo cuando ambos operandos son `True`. En el caso anterior, el primer operando es `True` pero el segundo es` False`.\n",
    "\n",
    "Si probamos la operación `or` usando los mismos operandos, deberíamos obtener un `True`."
   ]
  },
  {
   "cell_type": "code",
   "execution_count": 23,
   "metadata": {},
   "outputs": [
    {
     "data": {
      "text/plain": [
       "True"
      ]
     },
     "execution_count": 23,
     "metadata": {},
     "output_type": "execute_result"
    }
   ],
   "source": [
    "a > b or b > c"
   ]
  },
  {
   "cell_type": "markdown",
   "metadata": {},
   "source": [
    "Y la negación del segundo operando resulta en ..."
   ]
  },
  {
   "cell_type": "code",
   "execution_count": 24,
   "metadata": {},
   "outputs": [
    {
     "data": {
      "text/plain": [
       "True"
      ]
     },
     "execution_count": 24,
     "metadata": {},
     "output_type": "execute_result"
    }
   ],
   "source": [
    "not b > c"
   ]
  },
  {
   "cell_type": "markdown",
   "metadata": {},
   "source": [
    "¿Qué pasa si negamos el segundo operando en la operación `and` de arriba?\n",
    "\n",
    "##### Nota:\n",
    "\n",
    "Tenga cuidado con el orden de las operaciones lógicas. El orden de precedencia en la lógica es:\n",
    "\n",
    "1. Negación (`not`)\n",
    "2. Y (`and`)\n",
    "3. O (`or`)\n",
    "\n",
    "Si no recuerda esto, asegúrese de usar paréntesis para indicar el orden que desea."
   ]
  },
  {
   "cell_type": "markdown",
   "metadata": {},
   "source": [
    "##### Ejercicio:\n",
    "\n",
    "¿Qué está pasando en el caso a continuación? Juega con operadores lógicos y prueba algunos ejemplos."
   ]
  },
  {
   "cell_type": "code",
   "execution_count": 44,
   "metadata": {},
   "outputs": [
    {
     "data": {
      "text/plain": [
       "True"
      ]
     },
     "execution_count": 44,
     "metadata": {},
     "output_type": "execute_result"
    }
   ],
   "source": [
    "a > b and not b > c"
   ]
  },
  {
   "cell_type": "markdown",
   "metadata": {},
   "source": [
    "## Lo que hemos aprendido\n",
    "\n",
    "* Como se usa la función `print()`. El concepto de _función_.\n",
    "* Usar Python como una calculadora.\n",
    "* Conceptos de variable, tipo, asignación.\n",
    "* Variables especiales: `True`,` False`, `None`.\n",
    "* Operaciones compatibles, operaciones lógicas.\n",
    "* Lectura de mensajes de error."
   ]
  },
  {
   "cell_type": "markdown",
   "metadata": {},
   "source": [
    "## Referencias\n",
    "\n",
    "A lo largo de este módulo de curso, vamos a usar las siguientes referencias:\n",
    "\n",
    "1. _Effective Computation in Physics: Field Guide to Research with Python_ (Computación Eficaz en Física: Guía de campo para la investigación con Python, 2015). Anthony Scopatz & Kathryn D. Huff. O'Reilly Media, Inc.\n",
    "2. _Python for Everybody: Exploring Data Using Python 3_ (Python para todos: explorando datos con Python 3, 2016). Charles R. Severance. [PDF available](http://do1.dr-chuck.com/pythonlearn/EN_us/pythonlearn.pdf)\n",
    "3. _Think Python: How to Think Like a Computer Scientist_ (Piensa en Python: Aprenda a pensar como un cientista computacional, 2012). Allen Downey. Green Tea Press.  [PDF available](http://greenteapress.com/thinkpython/thinkpython.pdf)"
   ]
  },
  {
   "cell_type": "markdown",
   "metadata": {},
   "source": [
    "### Lecturas recomendadas\n",
    "\n",
    "- [\"Yes, Python is Slow, and I Don’t Care\"](https://hackernoon.com/yes-python-is-slow-and-i-dont-care-13763980b5a1) (\"Sí, Python es lento, y no me importa\") por Nick Humrich, en Hackernoon. Conviene omitir la parte de microservicios, que es un poco especializada, y continuar después de la foto de las luces del automóvil en movimiento.\n",
    "- [\"Why I Push for Python\"](http://lorenabarba.com/blog/why-i-push-for-python/) (Por qué apoyo a Python), por la profesora Lorena A. Barba (2014). Esta publicación de blog obtuvo un poco de interés en [Hacker News](https://news.ycombinator.com/item?id=7760870)."
   ]
  },
  {
   "cell_type": "code",
   "execution_count": 45,
   "metadata": {},
   "outputs": [
    {
     "data": {
      "text/html": [
       "<link href=\"https://fonts.googleapis.com/css?family=Merriweather:300,300i,400,400i,700,700i,900,900i\" rel=\"stylesheet\">\n",
       "<link href=\"https://fonts.googleapis.com/css?family=Source+Sans+Pro:300,300i,400,400i,700,700i\" rel=\"stylesheet\">\n",
       "<link href='http://fonts.googleapis.com/css?family=Source+Code+Pro:300,400' rel='stylesheet' type='text/css'>\n",
       "<style>\n",
       "\n",
       "@font-face {\n",
       "    font-family: \"Computer Modern\";\n",
       "    src: url('http://mirrors.ctan.org/fonts/cm-unicode/fonts/otf/cmunss.otf');\n",
       "}\n",
       "\n",
       "\n",
       "#notebook_panel { /* main background */\n",
       "    background: rgb(245,245,245);\n",
       "}\n",
       "\n",
       "div.cell { /* set cell width */\n",
       "    width: 800px;\n",
       "}\n",
       "\n",
       "div #notebook { /* centre the content */\n",
       "    background: #fff; /* white background for content */\n",
       "    width: 1000px;\n",
       "    margin: auto;\n",
       "    padding-left: 0em;\n",
       "}\n",
       "\n",
       "#notebook li { /* More space between bullet points */\n",
       "margin-top:0.8em;\n",
       "}\n",
       "\n",
       "/* draw border around running cells */\n",
       "div.cell.border-box-sizing.code_cell.running { \n",
       "    border: 1px solid #111;\n",
       "}\n",
       "\n",
       "/* Put a solid color box around each cell and its output, visually linking them*/\n",
       "div.cell.code_cell {\n",
       "    background-color: rgb(256,256,256); \n",
       "    border-radius: 0px; \n",
       "    padding: 0.5em;\n",
       "    margin-left:1em;\n",
       "    margin-top: 1em;\n",
       "}\n",
       "\n",
       "\n",
       "div.text_cell_render{\n",
       "    font-family: 'Source Sans Pro', sans-serif;\n",
       "    line-height: 140%;\n",
       "    font-size: 110%;\n",
       "    width:680px;\n",
       "    margin-left:auto;\n",
       "    margin-right:auto;\n",
       "}\n",
       "\n",
       "/* Formatting for header cells */\n",
       ".text_cell_render h1 {\n",
       "    font-family: 'Merriweather', serif;\n",
       "    font-style:regular;\n",
       "    font-weight: bold;    \n",
       "    font-size: 250%;\n",
       "    line-height: 100%;\n",
       "    color: #004065;\n",
       "    margin-bottom: 1em;\n",
       "    margin-top: 0.5em;\n",
       "    display: block;\n",
       "}\t\n",
       ".text_cell_render h2 {\n",
       "    font-family: 'Merriweather', serif;\n",
       "    font-weight: bold; \n",
       "    font-size: 180%;\n",
       "    line-height: 100%;\n",
       "    color: #0096d6;\n",
       "    margin-bottom: 0.5em;\n",
       "    margin-top: 0.5em;\n",
       "    display: block;\n",
       "}\t\n",
       "\n",
       ".text_cell_render h3 {\n",
       "    font-family: 'Merriweather', serif;\n",
       "\tfont-size: 150%;\n",
       "    margin-top:12px;\n",
       "    margin-bottom: 3px;\n",
       "    font-style: regular;\n",
       "    color: #008367;\n",
       "}\n",
       "\n",
       ".text_cell_render h4 {    /*Use this for captions*/\n",
       "    font-family: 'Merriweather', serif;\n",
       "    font-weight: 300; \n",
       "    font-size: 100%;\n",
       "    line-height: 120%;\n",
       "    text-align: center;\n",
       "    margin-top: 1em;\n",
       "    margin-bottom: 2em;\n",
       "    font-style: regular;\n",
       "}\n",
       "\n",
       ".text_cell_render h5 {  /*Use this for small titles*/\n",
       "    font-family: 'Source Sans Pro', sans-serif;\n",
       "    font-weight: regular;\n",
       "    font-size: 130%;\n",
       "    color: #e31937;\n",
       "    font-style: italic;\n",
       "    margin-bottom: .5em;\n",
       "    margin-top: 1em;\n",
       "    display: block;\n",
       "}\n",
       "\n",
       ".text_cell_render h6 { /*use this for copyright note*/\n",
       "    font-family: 'Source Code Pro', sans-serif;\n",
       "    font-weight: 300;\n",
       "    font-size: 9pt;\n",
       "    line-height: 100%;\n",
       "    color: grey;\n",
       "    margin-bottom: 1px;\n",
       "    margin-top: 1px;\n",
       "}\n",
       "\n",
       "    .CodeMirror{\n",
       "            font-family: \"Source Code Pro\";\n",
       "\t\t\tfont-size: 90%;\n",
       "    }\n",
       "/*    .prompt{\n",
       "        display: None;\n",
       "    }*/\n",
       "\t\n",
       "    \n",
       "    .warning{\n",
       "        color: rgb( 240, 20, 20 )\n",
       "        }  \n",
       "</style>\n",
       "<script>\n",
       "    MathJax.Hub.Config({\n",
       "                        TeX: {\n",
       "                           extensions: [\"AMSmath.js\"], \n",
       "                           equationNumbers: { autoNumber: \"AMS\", useLabelIds: true}\n",
       "                           },\n",
       "                tex2jax: {\n",
       "                    inlineMath: [ ['$','$'], [\"\\\\(\",\"\\\\)\"] ],\n",
       "                    displayMath: [ ['$$','$$'], [\"\\\\[\",\"\\\\]\"] ]\n",
       "                },\n",
       "                displayAlign: 'center', // Change this to 'center' to center equations.\n",
       "                \"HTML-CSS\": {\n",
       "                    styles: {'.MathJax_Display': {\"margin\": 4}}\n",
       "                }\n",
       "        });\n",
       "</script>\n"
      ],
      "text/plain": [
       "<IPython.core.display.HTML object>"
      ]
     },
     "execution_count": 45,
     "metadata": {},
     "output_type": "execute_result"
    }
   ],
   "source": [
    "# Execute this cell to load the notebook's style sheet, then ignore it\n",
    "from IPython.core.display import HTML\n",
    "css_file = '../style/custom.css'\n",
    "HTML(open(css_file, \"r\").read())"
   ]
  }
 ],
 "metadata": {
  "kernelspec": {
   "display_name": "Python 3",
   "language": "python",
   "name": "python3"
  },
  "language_info": {
   "codemirror_mode": {
    "name": "ipython",
    "version": 3
   },
   "file_extension": ".py",
   "mimetype": "text/x-python",
   "name": "python",
   "nbconvert_exporter": "python",
   "pygments_lexer": "ipython3",
   "version": "3.6.4"
  },
  "widgets": {
   "state": {},
   "version": "1.1.2"
  }
 },
 "nbformat": 4,
 "nbformat_minor": 2
}
