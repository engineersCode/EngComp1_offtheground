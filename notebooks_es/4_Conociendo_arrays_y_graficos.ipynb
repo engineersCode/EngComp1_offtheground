{
 "cells": [
  {
   "cell_type": "markdown",
   "metadata": {},
   "source": [
    "###### Contenido bajo licencia Creative Commons Attribution CC-BY 4.0, código bajo licencia BSD 3-Clause © 2017 L.A. Barba, N.C. Clementi"
   ]
  },
  {
   "cell_type": "markdown",
   "metadata": {},
   "source": [
    "# Conociendo arrays y gráficos\n",
    "\n",
    "Bienvenido a la **Lección 4** del primer módulo del curso _\"Cálculos Computacionales en ingeniería\"_. ¡Ya has recorrido un largo camino!\n",
    "\n",
    "Recuerda, este curso no asume ninguna experiencia de programación por lo que las tres primeras lecciones se centraron en crear una base con construcciones de programación de Python sin utilizar Matemáticas. Las lecciones anteriores son:\n",
    "\n",
    "* [Lección 1](./1_Interactuando_con_Python.ipynb): Interactuando con Python\n",
    "* [Lección 2](./2_Strings_y_listas_en_accion.ipynb): String y listas en acción.\n",
    "* [Lección 3](./3_Jugando_con_archivo_de_cursos.ipynb): Jugando con archivo de cursos.\n",
    "\n",
    "En la mayoría de las necesidades informáticas en ingeniería es conveniente el uso de *arrays*: secuencias de datos del mismo tipo. Se comportan como listas, a excepción de la restricción en el tipo de sus elementos. Hay una gran ventaja de eficiencia cuando sabes que todos los elementos de una secuencia son del mismo tipo, por lo que los métodos equivalentes de arrays se ejecutan mucho más rápido que los de las listas (*Nota de la traducción*: arrays y matrices son distintos tipos en python, por lo que se utilizará la palabra arrays sin traducirla).\n",
    "\n",
    "El lenguaje Python se extiende con la utilización de **librerías** o bibliotecas. La librería más importante en ciencia e ingeniería es **NumPy**, que proporciona la estructura de datos _array n-dimensional_ (llamado `ndarray`) y una gran cantidad de funciones, operaciones y algoritmos para cálculos de álgebra lineal extremadamente eficientes.\n",
    "\n",
    "En esta lección, comenzarás a jugar con arrays de NumPy y descubrirás su poder. También se encontrará con la librería **Matplotlib**, muy apreciada para crear gráficos bidimensionales de datos."
   ]
  },
  {
   "cell_type": "markdown",
   "metadata": {},
   "source": [
    "## Importando librerías\n",
    "\n",
    "Primero, algunos consejos sobre al importar librerías para expandir Python. Debido a que las librerías son grandes colecciones de código y son para fines especiales, no se cargan automáticamente al iniciar Python (o IPython, o Jupyter). Tienes que importar una librería usando el comando `import`. Por ejemplo, para importar **NumPy** y recibir todos los beneficios del álgebra lineal, ingresamos:\n",
    "\n",
    "```python\n",
    "import numpy\n",
    "```\n",
    "\n",
    "Una vez que se ejecuta ese comando en una celda de código, puedes llamar a cualquier función de NumPy usando la notación de puntos, anteponiendo el nombre de la librería. Por ejemplo, algunas funciones comúnmente usadas son:\n",
    "\n",
    "* [`numpy.linspace()`](https://docs.scipy.org/doc/numpy/reference/generated/numpy.linspace.html)\n",
    "* [`numpy.ones()`](https://docs.scipy.org/doc/numpy/reference/generated/numpy.ones.html#numpy.ones)\n",
    "* [`numpy.zeros()`](https://docs.scipy.org/doc/numpy/reference/generated/numpy.zeros.html#numpy.zeros)\n",
    "* [`numpy.empty()`](https://docs.scipy.org/doc/numpy/reference/generated/numpy.empty.html#numpy.empty)\n",
    "* [`numpy.copy()`](https://docs.scipy.org/doc/numpy/reference/generated/numpy.copy.html#numpy.copy)\n",
    "\n",
    "Los enlaces anteriores te llevarán a la documentación de estas útiles funciones de NumPy."
   ]
  },
  {
   "cell_type": "markdown",
   "metadata": {},
   "source": [
    "##### Advertencia:\n",
    "\n",
    "Encontrará gran variedad de código en internet con distintas sintaxis para importar librerías. Algunos usarán:\n",
    "```python\n",
    "import numpy como np\n",
    "```\n",
    "\n",
    "Lo anterior crea un alias para `numpy` con la cadena más corta `np`, por lo que llamaría a una función **NumPy** de esta manera: `np.linspace()`. Esta es sólo una forma alternativa de hacerlo, para personas que les resulta demasiado largo escribir `numpy` y quieren evitar escribir 3 caracteres cada vez. En estos notebooks escribiremos `numpy` porque nos parece más legible y hermoso. Por lo tanto, usaremos simplemente:"
   ]
  },
  {
   "cell_type": "code",
   "execution_count": null,
   "metadata": {},
   "outputs": [],
   "source": [
    "import numpy"
   ]
  },
  {
   "cell_type": "markdown",
   "metadata": {},
   "source": [
    "## Creando arrays\n",
    "\n",
    "Para crear un array de NumPy a partir de una lista existente de números homogéneos, llamamos **`numpy.array ()`**, así:"
   ]
  },
  {
   "cell_type": "code",
   "execution_count": null,
   "metadata": {},
   "outputs": [],
   "source": [
    "numpy.array([3, 5, 8, 17])"
   ]
  },
  {
   "cell_type": "markdown",
   "metadata": {},
   "source": [
    "NumPy ofrece muchas [formas de crear arrays](https://docs.scipy.org/doc/numpy/reference/routines.array-creation.html#routines-array-creation) además de lo anterior. Ya hemos mencionado algunos de ellos anteriomente en el notebook.\n",
    "\n",
    "Juega con `numpy.ones ()` y `numpy.zeros ()`: estas funciones permiten crear arrays llenos de unos y ceros, respectivamente. Pasamos como argumento la cantidad de elementos del array que queremos obtener."
   ]
  },
  {
   "cell_type": "code",
   "execution_count": null,
   "metadata": {},
   "outputs": [],
   "source": [
    "numpy.ones(5)"
   ]
  },
  {
   "cell_type": "code",
   "execution_count": null,
   "metadata": {},
   "outputs": [],
   "source": [
    "numpy.zeros(3)"
   ]
  },
  {
   "cell_type": "markdown",
   "metadata": {},
   "source": [
    "Otra función útil: `numpy.arange ()`, nos regresa un array de valores espaciados uniformemente en un intervalo definido. Es el equivalente de la función range pero en su versión rápida de Numpy.\n",
    "\n",
    "*Sintaxis:*\n",
    "\n",
    "`numpy.arange(start, end, step)`\n",
    "\n",
    "donde `start` (inicio) por defecto es cero, `stop` (fin) no se incluye, y el valor predeterminado\n",
    "para `step` (el paso) es 1. ¡Te aconsejamos jugar con algunos valores para acostumbrarte!"
   ]
  },
  {
   "cell_type": "code",
   "execution_count": null,
   "metadata": {},
   "outputs": [],
   "source": [
    "numpy.arange(4)"
   ]
  },
  {
   "cell_type": "code",
   "execution_count": null,
   "metadata": {},
   "outputs": [],
   "source": [
    "numpy.arange(2, 6)"
   ]
  },
  {
   "cell_type": "code",
   "execution_count": null,
   "metadata": {},
   "outputs": [],
   "source": [
    "numpy.arange(2, 6, 2)"
   ]
  },
  {
   "cell_type": "code",
   "execution_count": null,
   "metadata": {},
   "outputs": [],
   "source": [
    "numpy.arange(2, 6, 0.5)"
   ]
  },
  {
   "cell_type": "markdown",
   "metadata": {},
   "source": [
    "La funcion `numpy.linspace()` es similar a `numpy.arange()`, pero permite que digas el número de elementos a obtener en lugar del un tamaño de paso. Devuelve un array con números espaciados uniformemente durante el intervalo especificado.\n",
    "\n",
    "*Sintaxis:*\n",
    "\n",
    "`numpy.linspace(start, stop, num)`\n",
    "\n",
    "`stop` está incluido por defecto (se puede eliminar, como indica la documentación), y ` num` de forma predeterminada es 50."
   ]
  },
  {
   "cell_type": "code",
   "execution_count": null,
   "metadata": {},
   "outputs": [],
   "source": [
    "numpy.linspace(2.0, 3.0)"
   ]
  },
  {
   "cell_type": "code",
   "execution_count": null,
   "metadata": {},
   "outputs": [],
   "source": [
    "len(numpy.linspace(2.0, 3.0))"
   ]
  },
  {
   "cell_type": "code",
   "execution_count": null,
   "metadata": {},
   "outputs": [],
   "source": [
    "numpy.linspace(2.0, 3.0, 6)"
   ]
  },
  {
   "cell_type": "code",
   "execution_count": null,
   "metadata": {},
   "outputs": [],
   "source": [
    "numpy.linspace(-1, 1, 9)"
   ]
  },
  {
   "cell_type": "markdown",
   "metadata": {},
   "source": [
    "## Operaciones de arrays\n",
    "\n",
    "Creemos algunas variables de tipo array para poder realizar algunas operaciones con ellos."
   ]
  },
  {
   "cell_type": "code",
   "execution_count": null,
   "metadata": {},
   "outputs": [],
   "source": [
    "x_array = numpy.linspace(-1, 1, 9)"
   ]
  },
  {
   "cell_type": "markdown",
   "metadata": {
    "collapsed": true
   },
   "source": [
    "Ahora que lo hemos guardado como una variable, podemos hacer algunos cálculos con el array. Por ejemplo, aplicar el cuadrado a cada elemento del array (¡de una sola vez!):"
   ]
  },
  {
   "cell_type": "code",
   "execution_count": null,
   "metadata": {},
   "outputs": [],
   "source": [
    "y_array = x_array**2\n",
    "print(y_array)"
   ]
  },
  {
   "cell_type": "markdown",
   "metadata": {},
   "source": [
    "También podemos tomar la raíz cuadrada de un array de valores positivos, usando la función `numpy.sqrt()`:"
   ]
  },
  {
   "cell_type": "code",
   "execution_count": null,
   "metadata": {},
   "outputs": [],
   "source": [
    "z_array = numpy.sqrt(y_array)\n",
    "print(z_array)"
   ]
  },
  {
   "cell_type": "markdown",
   "metadata": {},
   "source": [
    "Ahora que tenemos dos arrays diferentes `x_array`, ` y_array` y `z_array`, podemos hacer más cálculos, como sumarlos o multiplicarlos. Por ejemplo:"
   ]
  },
  {
   "cell_type": "code",
   "execution_count": null,
   "metadata": {},
   "outputs": [],
   "source": [
    "add_array = x_array + y_array \n",
    "print(add_array)"
   ]
  },
  {
   "cell_type": "markdown",
   "metadata": {},
   "source": [
    "La adición de arrays se define elemento a elemento (en inglés, esto se dice element-wise). La multiplicación de arrays también se realiza elemento a elemento:"
   ]
  },
  {
   "cell_type": "code",
   "execution_count": null,
   "metadata": {},
   "outputs": [],
   "source": [
    "mult_array = x_array * z_array\n",
    "print(mult_array)"
   ]
  },
  {
   "cell_type": "markdown",
   "metadata": {},
   "source": [
    "También podemos dividir arrays, pero debes tener cuidado de no dividir por cero. Esta operación dará como resultado **`nan`** que significa *Not a Number* (No un Número). Python todavía realizará la división, pero nos contará sobre el problema.\n",
    "\n",
    "Veamos cómo se vería esa situación:"
   ]
  },
  {
   "cell_type": "code",
   "execution_count": null,
   "metadata": {},
   "outputs": [],
   "source": [
    "x_array / y_array"
   ]
  },
  {
   "cell_type": "markdown",
   "metadata": {},
   "source": [
    "## Arrays multidimensionales\n",
    "\n",
    "### Arrays 2D\n",
    "\n",
    "NumPy puede crear arrays de N dimensiones. Por ejemplo, un array 2D es como una matriz de Matemática, y se crea a partir de una lista anidada de la siguiente manera:"
   ]
  },
  {
   "cell_type": "code",
   "execution_count": null,
   "metadata": {},
   "outputs": [],
   "source": [
    "array_2d = numpy.array([[1, 2], [3, 4]])\n",
    "print(array_2d)"
   ]
  },
  {
   "cell_type": "markdown",
   "metadata": {},
   "source": [
    "Los arrays 2D se pueden sumar, restar y multiplicar:"
   ]
  },
  {
   "cell_type": "code",
   "execution_count": null,
   "metadata": {},
   "outputs": [],
   "source": [
    "X = numpy.array([[1, 2], [3, 4]])\n",
    "Y = numpy.array([[1, -1], [0, 1]])"
   ]
  },
  {
   "cell_type": "markdown",
   "metadata": {},
   "source": [
    "La adición de estos dos arrays funciona exactamente como era de esperar:"
   ]
  },
  {
   "cell_type": "code",
   "execution_count": null,
   "metadata": {},
   "outputs": [],
   "source": [
    "X + Y"
   ]
  },
  {
   "cell_type": "markdown",
   "metadata": {},
   "source": [
    "¿Qué pasa si tratamos de multiplicar arrays utilizando el operador `'*'`?"
   ]
  },
  {
   "cell_type": "code",
   "execution_count": null,
   "metadata": {},
   "outputs": [],
   "source": [
    "X * Y"
   ]
  },
  {
   "cell_type": "markdown",
   "metadata": {},
   "source": [
    "La multiplicación usando el operador `'*'` es elemento a elemento. Si queremos hacer una multiplicación matricial usamos el operador `'@'`:"
   ]
  },
  {
   "cell_type": "code",
   "execution_count": null,
   "metadata": {},
   "outputs": [],
   "source": [
    "X @ Y"
   ]
  },
  {
   "cell_type": "markdown",
   "metadata": {},
   "source": [
    "O de manera equivalente, podemos usar `numpy.dot ()`:"
   ]
  },
  {
   "cell_type": "code",
   "execution_count": null,
   "metadata": {},
   "outputs": [],
   "source": [
    "numpy.dot(X, Y)"
   ]
  },
  {
   "cell_type": "markdown",
   "metadata": {},
   "source": [
    "### Arrays 3D\n",
    "\n",
    "Vamos a crear un array 3D a partir de un array 1D. Podemos usar [`numpy.reshape()`](https://docs.scipy.org/doc/numpy/reference/generated/numpy.reshape.html), donde pasamos el array que queremos reacomodar y la forma queremos obtener, es decir, la cantidad de elementos en cada dimensión.\n",
    "\n",
    "*Sintaxis*\n",
    " \n",
    "`numpy.reshape(array, newshape)`\n",
    "\n",
    "Por ejemplo:"
   ]
  },
  {
   "cell_type": "code",
   "execution_count": null,
   "metadata": {},
   "outputs": [],
   "source": [
    "a = numpy.arange(24)\n",
    "print(a)"
   ]
  },
  {
   "cell_type": "code",
   "execution_count": null,
   "metadata": {},
   "outputs": [],
   "source": [
    "a_3D = numpy.reshape(a, (2, 3, 4))\n",
    "print(a_3D)"
   ]
  },
  {
   "cell_type": "markdown",
   "metadata": {},
   "source": [
    "Podemos verificar la forma de un array de NumPy usando la función `numpy.shape ()`:"
   ]
  },
  {
   "cell_type": "code",
   "execution_count": null,
   "metadata": {},
   "outputs": [],
   "source": [
    "numpy.shape(a_3D)"
   ]
  },
  {
   "cell_type": "markdown",
   "metadata": {},
   "source": [
    "Visualizar las dimensiones del array `a_3D` puede ser complicado, así que proporcionamos un diagrama que lo ayudará a comprender cómo se asignan las dimensiones. Cada dimensión se muestra como un eje de coordenadas. Para un array 3D, en el \"eje x\", tenemos los sub-array que son bidimensionales. Tenemos dos de estos sub-array 2D, en este caso; cada uno tiene 3 filas y 4 columnas. Estudie este boceto cuidadosamente, mientras compara con la forma en que se imprime el array `a_3D`.\n",
    "\n",
    "<img src = \"../images/3d_array_sketch.png\" style = \"width: 400px;\" />"
   ]
  },
  {
   "cell_type": "markdown",
   "metadata": {
    "collapsed": true
   },
   "source": [
    "Cuando tenemos arrays multidimensionales, podemos acceder a secciones de sus elementos realizando slicing en cada dimensión. Esta es una de las ventajas del uso de arrays; no podemos hacer esto con listas.\n",
    "\n",
    "Accedamos a algunos elementos del array 2D que llamamos `X`."
   ]
  },
  {
   "cell_type": "code",
   "execution_count": null,
   "metadata": {},
   "outputs": [],
   "source": [
    "X"
   ]
  },
  {
   "cell_type": "code",
   "execution_count": null,
   "metadata": {},
   "outputs": [],
   "source": [
    "# Tomar el primer elemento en la primera fila y la primera columna\n",
    "X[0, 0]"
   ]
  },
  {
   "cell_type": "code",
   "execution_count": null,
   "metadata": {},
   "outputs": [],
   "source": [
    "# Tomar el elemento de la primera fila y segunda columna\n",
    "X[0, 1]"
   ]
  },
  {
   "cell_type": "markdown",
   "metadata": {},
   "source": [
    "##### Ejercicios:\n",
    "\n",
    "Del array X:\n",
    "\n",
    "1. Coge el segundo elemento en la primera columna.\n",
    "2. Coge el segundo elemento en la segunda columna."
   ]
  },
  {
   "cell_type": "markdown",
   "metadata": {},
   "source": [
    "Juega con algunos cortes (slicing) de este array:"
   ]
  },
  {
   "cell_type": "code",
   "execution_count": null,
   "metadata": {},
   "outputs": [],
   "source": [
    "# Tomar la primera columna\n",
    "X[:, 0]"
   ]
  },
  {
   "cell_type": "markdown",
   "metadata": {},
   "source": [
    "Cuando no especificamos el punto inicial y/o final en el slicing, el símbolo `':'` significa \"todo\". En el ejemplo anterior, le estamos diciendo a NumPy que queremos todos los elementos del índice 0 en la segunda dimensión (la primera columna)."
   ]
  },
  {
   "cell_type": "code",
   "execution_count": null,
   "metadata": {},
   "outputs": [],
   "source": [
    "# Tomar la primera fila\n",
    "X[0, :]"
   ]
  },
  {
   "cell_type": "markdown",
   "metadata": {},
   "source": [
    "##### Ejercicios:\n",
    "\n",
    "Del array X:\n",
    "\n",
    "1. Coge la segunda columna.\n",
    "2. Coge la segunda fila."
   ]
  },
  {
   "cell_type": "markdown",
   "metadata": {},
   "source": [
    "Practiquemos con el array 3D."
   ]
  },
  {
   "cell_type": "code",
   "execution_count": null,
   "metadata": {},
   "outputs": [],
   "source": [
    "a_3D"
   ]
  },
  {
   "cell_type": "markdown",
   "metadata": {},
   "source": [
    "Si queremos tomar la primera columna de los arrays bidimensionales de nuestro array `a_3D`, debemos hacer:"
   ]
  },
  {
   "cell_type": "code",
   "execution_count": null,
   "metadata": {},
   "outputs": [],
   "source": [
    "a_3D[:, :, 0]"
   ]
  },
  {
   "cell_type": "markdown",
   "metadata": {},
   "source": [
    "La línea de arriba le está diciendo a NumPy:\n",
    "\n",
    "* El primer `':'`: en la primera dimensión queremos tomar todos los elementos (2 arrays).\n",
    "* El segundo `':'`: desde la segunda dimensión queremos tomar todos los elementos (todas las filas).\n",
    "* El `'0'`: desde la tercera dimensión queremos tomar el primer elemento (primera columna).\n",
    "\n",
    "Si queremos los primeros 2 elementos de la primera columna de ambos arrays:"
   ]
  },
  {
   "cell_type": "code",
   "execution_count": null,
   "metadata": {},
   "outputs": [],
   "source": [
    "a_3D[:, 0:2, 0]"
   ]
  },
  {
   "cell_type": "markdown",
   "metadata": {},
   "source": [
    "A continuación, desde el primer array bidimensional de nuestro array `a_3D`, tomaremos los dos elementos intermedios de la segunda fila:"
   ]
  },
  {
   "cell_type": "code",
   "execution_count": null,
   "metadata": {},
   "outputs": [],
   "source": [
    "a_3D[0, 1, 1:3]"
   ]
  },
  {
   "cell_type": "markdown",
   "metadata": {},
   "source": [
    "##### Ejercicios:\n",
    "\n",
    "Del array llamada `a_3D`:\n",
    "\n",
    "1. Toma los dos elementos del medio (es decir, 17 y 18) del segundo array.\n",
    "2. Coge la última fila de ambos arrays.\n",
    "3. Tome los elementos del primer array bidimensional que excluyen la primera fila y la primera columna.\n",
    "4. Tome los elementos del segundo array bidimensional que excluyen la última fila y la última columna."
   ]
  },
  {
   "cell_type": "markdown",
   "metadata": {},
   "source": [
    "## NumPy es rápido y limpio\n",
    "\n",
    "Cuando trabajamos con números, los arrays son la mejor opción porque la librería NumPy tiene funciones que están optimizadas y, por lo tanto, son más rápidas que las de Python. Esto es especialmente cierto si tenemos arrays grandes. Además, usar arrays de NumPy y sus propiedades hace que nuestro código sea más legible.\n",
    "\n",
    "Por ejemplo, si quisiéramos sumar 2 listas de python elemento a elemento, necesitaríamos hacerlo con una declaración `for`. Si queremos agregar dos arrays de NumPy, simplemente usamos el símbolo de suma `'+'`.\n",
    "\n",
    "Para ilustrar lo anterior, sumaremos dos listas y dos arrays (con elementos aleatorios) y compararemos el tiempo que requiere cada suma."
   ]
  },
  {
   "cell_type": "markdown",
   "metadata": {},
   "source": [
    "### Suma de elementos de una lista de Python\n",
    "\n",
    "Usando la librería de Python [`random`](https://docs.python.org/3/library/random.html) generaremos dos listas con 100 elementos pseudoaleatorios en el rango [0,100), sin números repetido."
   ]
  },
  {
   "cell_type": "code",
   "execution_count": null,
   "metadata": {},
   "outputs": [],
   "source": [
    "#Importar la librería random\n",
    "import random"
   ]
  },
  {
   "cell_type": "code",
   "execution_count": null,
   "metadata": {},
   "outputs": [],
   "source": [
    "#Generar 2 listas de enteros con 100 elementos\n",
    "lst_1 = random.sample(range(100), 100)\n",
    "lst_2 = random.sample(range(100), 100)"
   ]
  },
  {
   "cell_type": "code",
   "execution_count": null,
   "metadata": {},
   "outputs": [],
   "source": [
    "#Imprimir los primeros 10 elementos\n",
    "print(lst_1[0:10])\n",
    "print(lst_2[0:10])"
   ]
  },
  {
   "cell_type": "code",
   "execution_count": null,
   "metadata": {},
   "outputs": [],
   "source": [
    "# Verificar el tipo de las variables\n",
    "print(type(lst_1))\n",
    "print(type(lst_2))"
   ]
  },
  {
   "cell_type": "markdown",
   "metadata": {},
   "source": [
    "Necesitamos escribir una declaración `for`, añadiendo el resultado de la suma de elementos a una nueva lista que llamamos `result_lst`.\n",
    "\n",
    "Para contabilizar el tiempo, podemos usar el comando \"mágico\" de  IPython `%% time`. Escribiendo al comienzo de la celda de código, el comando `%%time` nos dará el tiempo que lleva ejecutar todo el código en esa celda."
   ]
  },
  {
   "cell_type": "code",
   "execution_count": null,
   "metadata": {},
   "outputs": [],
   "source": [
    "%%time\n",
    "res_lst = []\n",
    "for i in range(100):\n",
    "    res_lst.append(lst_1[i] + lst_2[i])"
   ]
  },
  {
   "cell_type": "code",
   "execution_count": null,
   "metadata": {},
   "outputs": [],
   "source": [
    "print(res_lst[0:10])"
   ]
  },
  {
   "cell_type": "markdown",
   "metadata": {},
   "source": [
    "### Suma de arrays en NumPy\n",
    "\n",
    "En este caso, generamos arrays con enteros aleatorios usando una función especial de NumPy: [`numpy.random.randint ()`](https://docs.scipy.org/doc/numpy-1.13.0/reference/generated/numpy. random.randint.html). Los arrays que generamos con esta función no serán como las listas: en este caso, tendremos 100 elementos en el rango [0, 100) pero pueden repetirse.\n",
    "\n",
    "Nuestro objetivo es comparar el tiempo que lleva calcular la suma de los elementos de una lista, de modo que todo lo que importa es que los arrays y las listas son de la misma longitud y tipo (enteros)."
   ]
  },
  {
   "cell_type": "code",
   "execution_count": null,
   "metadata": {},
   "outputs": [],
   "source": [
    "arr_1 = numpy.random.randint(0, 100, size=100)\n",
    "arr_2 = numpy.random.randint(0, 100, size=100)"
   ]
  },
  {
   "cell_type": "code",
   "execution_count": null,
   "metadata": {},
   "outputs": [],
   "source": [
    "#print first 10 elements\n",
    "print(arr_1[0:10])\n",
    "print(arr_2[0:10])"
   ]
  },
  {
   "cell_type": "code",
   "execution_count": null,
   "metadata": {},
   "outputs": [],
   "source": [
    "# Verificar el tipo de las variables\n",
    "print(type(arr_1))\n",
    "print(type(arr_2))"
   ]
  },
  {
   "cell_type": "markdown",
   "metadata": {},
   "source": [
    "Ahora podemos usar la magia de la celda `%% time`, nuevamente, para ver cuánto tarda NumPy en calcular la suma de elementos."
   ]
  },
  {
   "cell_type": "code",
   "execution_count": null,
   "metadata": {},
   "outputs": [],
   "source": [
    "%%time\n",
    "arr_res = arr_1 + arr_2"
   ]
  },
  {
   "cell_type": "markdown",
   "metadata": {},
   "source": [
    "Ten en cuenta que en el caso de los arrays, el código no solo es más legible (sólo una línea de código), sino que también es más rápido que con las listas. Esta vez, la ventaja será mayor con arrays y listas más grandes.\n",
    "\n",
    "Tus mediciones de tiempo pueden variar a los que mostramos en este notebook, porque estará calculándolos en una máquina diferente."
   ]
  },
  {
   "cell_type": "markdown",
   "metadata": {},
   "source": [
    "##### Ejercicio\n",
    "\n",
    "1. Repite la comparación entre listas y arrays, usando arrays más grandes; por ejemplo de tamaño 10,000.\n",
    "2. Repite el análisis, pero ahora en lugar de sumar realiza la operación que eleva cada elemento de un array/lista a la potencia dos. Usa arrays de 10,000 elementos."
   ]
  },
  {
   "cell_type": "markdown",
   "metadata": {},
   "source": [
    "## Tiempo de Graficar\n",
    "\n",
    "¡Te encantará la librería **Matplotlib**! Aprenderás a continuación sobre el módulo `pyplot`, que hace gráficos de líneas.\n",
    "\n",
    "Necesitamos algunos datos para graficar. Definiramos un array NumPy, para luego calcular su cuadrado, cubo y raíz cuadrada, elemento a elemento. Graficaremos estos valores con el array original en el eje x."
   ]
  },
  {
   "cell_type": "code",
   "execution_count": null,
   "metadata": {},
   "outputs": [],
   "source": [
    "#Crear el array base\n",
    "xarray = numpy.linspace(0, 2, 41)\n",
    "print(xarray)"
   ]
  },
  {
   "cell_type": "code",
   "execution_count": null,
   "metadata": {},
   "outputs": [],
   "source": [
    "#Generar los arrays a graficar\n",
    "pow2 = xarray**2\n",
    "pow3 = xarray**3\n",
    "pow_half = numpy.sqrt(xarray)"
   ]
  },
  {
   "cell_type": "markdown",
   "metadata": {},
   "source": [
    "Para graficar los arrays resultantes como una función de la original (`xarray`) en el eje x, necesitamos importar el módulo `pyplot` de **Matplotlib**."
   ]
  },
  {
   "cell_type": "code",
   "execution_count": null,
   "metadata": {},
   "outputs": [],
   "source": [
    "from matplotlib import pyplot\n",
    "%matplotlib inline"
   ]
  },
  {
   "cell_type": "markdown",
   "metadata": {},
   "source": [
    "El comando `%matplotlib inline` permite obtener nuestros gráficos dentro del notebook (en lugar de una ventana emergente, que es el comportamiento predeterminado de `pyplot` para jupyter).\n",
    "\n",
    "Utilizaremos la función `pyplot.plot()`, especificando el color de línea (`'k'` para negro) y el estilo de línea (`' -'`, `'-'` y `':'` para línea continua, punteada y punteada), y dando a cada línea una etiqueta. Tenga en cuenta que los valores para `color` (color),` linestyle` (tipo de línea) y `label` (etiqueta) deben darse entre comillas."
   ]
  },
  {
   "cell_type": "code",
   "execution_count": null,
   "metadata": {},
   "outputs": [],
   "source": [
    "#Plot x^2\n",
    "pyplot.plot(xarray, pow2, color='k', linestyle='-', label='square')\n",
    "#Plot x^3\n",
    "pyplot.plot(xarray, pow3, color='k', linestyle='--', label='cube')\n",
    "#Plot sqrt(x)\n",
    "pyplot.plot(xarray, pow_half, color='k', linestyle=':', label='square root')\n",
    "#Plot the legends in the best location\n",
    "pyplot.legend(loc='best')"
   ]
  },
  {
   "cell_type": "markdown",
   "metadata": {},
   "source": [
    "Para ilustrar otras características de Matplotlib, trazaremos los mismos datos, pero variando los colores en lugar del estilo de línea. También usaremos la sintaxis LaTeX para escribir fórmulas en las etiquetas. Si deseas obtener más información sobre la sintaxis de LaTeX, hay una [guía rápida de LaTeX, en inglés](https://users.dickinson.edu/~richesod/latex/latexcheatsheet.pdf) disponible en línea.\n",
    "\n",
    "Agregar un punto y coma (`';'`) a la última línea del bloque de código de trazado evitar que se imprima `<matplotlib.legend.Legend at 0x7f8c83cc7898>` junto al gráfico."
   ]
  },
  {
   "cell_type": "code",
   "execution_count": null,
   "metadata": {},
   "outputs": [],
   "source": [
    "#Plot x^2\n",
    "pyplot.plot(xarray, pow2, color='red', linestyle='-', label='$x^2$')\n",
    "#Plot x^3\n",
    "pyplot.plot(xarray, pow3, color='green', linestyle='-', label='$x^3$')\n",
    "#Plot sqrt(x)\n",
    "pyplot.plot(xarray, pow_half, color='blue', linestyle='-', label='$\\sqrt{x}$')\n",
    "#Plot the legends in the best location\n",
    "pyplot.legend(loc='best'); "
   ]
  },
  {
   "cell_type": "markdown",
   "metadata": {},
   "source": [
    "¿No es increíble? Esperamos que ahora estés imaginando todo lo que puedes hacer con los notebooks de Jupyter, Python y sus librerías científicas **NumPy** y **Matplotlib**. \n",
    "\n",
    "Acabamos de realizar una introducción a los gráficos, pero seguiremos aprendiendo sobre el poder de **Matplotlib** en la próxima lección.\n",
    "\n",
    "Si tienes curiosidad, puedes explorar muchos gráficos increíbles en la [galería de ejemplos de Matplotlib](http://matplotlib.org/gallery.html)."
   ]
  },
  {
   "cell_type": "markdown",
   "metadata": {},
   "source": [
    "##### Ejercicio:\n",
    "\n",
    "Elige dos operaciones diferentes para aplicar a `xarray` y realiza la operación de manera directa en el mismo gráfico."
   ]
  },
  {
   "cell_type": "markdown",
   "metadata": {},
   "source": [
    "## Lo que hemos aprendido\n",
    "\n",
    "* Cómo importar librerías\n",
    "* Arrays multidimensionales usando NumPy\n",
    "* Acceder a valores y slicing en arrays de NumPy\n",
    "* Usar `%%time` para cronometrar la ejecución de la celda.\n",
    "* Comparar rendimientos: listas versus arrays\n",
    "* Grafico básico con `pyplot` de Matplotlib."
   ]
  },
  {
   "cell_type": "markdown",
   "metadata": {},
   "source": [
    "## Referencias\n",
    "\n",
    "1. _Effective Computation in Physics: Field Guide to Research with Python_ (Computación efectiva en Física, Guía práctica para investigación con Python, 2015). Anthony Scopatz & Kathryn D. Huff. O'Reilly Media, Inc.\n",
    "\n",
    "2. _Numerical Python: A Practical Techniques Approach for Industry_. (Python Numérico: Técnicas Prácticas para la Industria, 2015). Robert Johansson. Appress. \n",
    "\n",
    "2. [\"The world of Jupyter\"—a tutorial](https://github.com/barbagroup/jupyter-tutorial) (El mundo de Jupyter-un tutorial, 2016). Lorena A. Barba."
   ]
  },
  {
   "cell_type": "code",
   "execution_count": 54,
   "metadata": {},
   "outputs": [
    {
     "data": {
      "text/html": [
       "<link href=\"https://fonts.googleapis.com/css?family=Merriweather:300,300i,400,400i,700,700i,900,900i\" rel='stylesheet' >\n",
       "<link href=\"https://fonts.googleapis.com/css?family=Source+Sans+Pro:300,300i,400,400i,700,700i\" rel='stylesheet' >\n",
       "<link href='http://fonts.googleapis.com/css?family=Source+Code+Pro:300,400' rel='stylesheet' >\n",
       "<style>\n",
       "\n",
       "@font-face {\n",
       "    font-family: \"Computer Modern\";\n",
       "    src: url('http://mirrors.ctan.org/fonts/cm-unicode/fonts/otf/cmunss.otf');\n",
       "}\n",
       "\n",
       "\n",
       "#notebook_panel { /* main background */\n",
       "    background: rgb(245,245,245);\n",
       "}\n",
       "\n",
       "div.cell { /* set cell width */\n",
       "    width: 800px;\n",
       "}\n",
       "\n",
       "div #notebook { /* centre the content */\n",
       "    background: #fff; /* white background for content */\n",
       "    width: 1000px;\n",
       "    margin: auto;\n",
       "    padding-left: 0em;\n",
       "}\n",
       "\n",
       "#notebook li { /* More space between bullet points */\n",
       "margin-top:0.5em;\n",
       "}\n",
       "\n",
       "/* draw border around running cells */\n",
       "div.cell.border-box-sizing.code_cell.running { \n",
       "    border: 1px solid #111;\n",
       "}\n",
       "\n",
       "/* Put a solid color box around each cell and its output, visually linking them*/\n",
       "div.cell.code_cell {\n",
       "    background-color: rgb(256,256,256); \n",
       "    border-radius: 0px; \n",
       "    padding: 0.5em;\n",
       "    margin-left:1em;\n",
       "    margin-top: 1em;\n",
       "}\n",
       "\n",
       "\n",
       "div.text_cell_render{\n",
       "    font-family: 'Source Sans Pro', sans-serif;\n",
       "    line-height: 140%;\n",
       "    font-size: 110%;\n",
       "    width:680px;\n",
       "    margin-left:auto;\n",
       "    margin-right:auto;\n",
       "}\n",
       "\n",
       "/* Formatting for header cells */\n",
       ".text_cell_render h1 {\n",
       "    font-family: 'Merriweather', serif;\n",
       "    font-style:regular;\n",
       "    font-weight: bold;    \n",
       "    font-size: 250%;\n",
       "    line-height: 100%;\n",
       "    color: #004065;\n",
       "    margin-bottom: 1em;\n",
       "    margin-top: 0.5em;\n",
       "    display: block;\n",
       "}\t\n",
       ".text_cell_render h2 {\n",
       "    font-family: 'Merriweather', serif;\n",
       "    font-weight: bold; \n",
       "    font-size: 180%;\n",
       "    line-height: 100%;\n",
       "    color: #0096d6;\n",
       "    margin-bottom: 0.5em;\n",
       "    margin-top: 0.5em;\n",
       "    display: block;\n",
       "}\t\n",
       "\n",
       ".text_cell_render h3 {\n",
       "    font-family: 'Merriweather', serif;\n",
       "\tfont-size: 150%;\n",
       "    margin-top:12px;\n",
       "    margin-bottom: 3px;\n",
       "    font-style: regular;\n",
       "    color: #008367;\n",
       "}\n",
       "\n",
       ".text_cell_render h4 {    /*Use this for captions*/\n",
       "    font-family: 'Merriweather', serif;\n",
       "    font-weight: 300; \n",
       "    font-size: 100%;\n",
       "    line-height: 120%;\n",
       "    text-align: left;\n",
       "    width:500px;\n",
       "    margin-top: 1em;\n",
       "    margin-bottom: 2em;\n",
       "    margin-left: 80pt;\n",
       "    font-style: regular;\n",
       "}\n",
       "\n",
       ".text_cell_render h5 {  /*Use this for small titles*/\n",
       "    font-family: 'Source Sans Pro', sans-serif;\n",
       "    font-weight: regular;\n",
       "    font-size: 130%;\n",
       "    color: #e31937;\n",
       "    font-style: italic;\n",
       "    margin-bottom: .5em;\n",
       "    margin-top: 1em;\n",
       "    display: block;\n",
       "}\n",
       "\n",
       ".text_cell_render h6 { /*use this for copyright note*/\n",
       "    font-family: 'Source Code Pro', sans-serif;\n",
       "    font-weight: 300;\n",
       "    font-size: 9pt;\n",
       "    line-height: 100%;\n",
       "    color: grey;\n",
       "    margin-bottom: 1px;\n",
       "    margin-top: 1px;\n",
       "}\n",
       "\n",
       "    .CodeMirror{\n",
       "            font-family: \"Source Code Pro\";\n",
       "\t\t\tfont-size: 90%;\n",
       "    }\n",
       "/*    .prompt{\n",
       "        display: None;\n",
       "    }*/\n",
       "\t\n",
       "    \n",
       "    .warning{\n",
       "        color: rgb( 240, 20, 20 )\n",
       "        }  \n",
       "</style>\n",
       "<script>\n",
       "    MathJax.Hub.Config({\n",
       "                        TeX: {\n",
       "                           extensions: [\"AMSmath.js\"], \n",
       "                           equationNumbers: { autoNumber: \"AMS\", useLabelIds: true}\n",
       "                           },\n",
       "                tex2jax: {\n",
       "                    inlineMath: [ ['$','$'], [\"\\\\(\",\"\\\\)\"] ],\n",
       "                    displayMath: [ ['$$','$$'], [\"\\\\[\",\"\\\\]\"] ]\n",
       "                },\n",
       "                displayAlign: 'center', // Change this to 'center' to center equations.\n",
       "                \"HTML-CSS\": {\n",
       "                    styles: {'.MathJax_Display': {\"margin\": 4}}\n",
       "                }\n",
       "        });\n",
       "</script>\n"
      ],
      "text/plain": [
       "<IPython.core.display.HTML object>"
      ]
     },
     "execution_count": 54,
     "metadata": {},
     "output_type": "execute_result"
    }
   ],
   "source": [
    "# Ejecuta esta celda para cargar el notebook con estilo, \n",
    "# pero puedes ignorar su contenido.\n",
    "from IPython.core.display import HTML\n",
    "css_file = '../style/custom.css'\n",
    "HTML(open(css_file, \"r\").read())"
   ]
  }
 ],
 "metadata": {
  "kernelspec": {
   "display_name": "Python 3",
   "language": "python",
   "name": "python3"
  },
  "language_info": {
   "codemirror_mode": {
    "name": "ipython",
    "version": 3
   },
   "file_extension": ".py",
   "mimetype": "text/x-python",
   "name": "python",
   "nbconvert_exporter": "python",
   "pygments_lexer": "ipython3",
   "version": "3.5.2"
  },
  "widgets": {
   "state": {},
   "version": "1.1.2"
  }
 },
 "nbformat": 4,
 "nbformat_minor": 2
}
