{
 "cells": [
  {
   "cell_type": "markdown",
   "metadata": {},
   "source": [
    "###### Contenido bajo licencia Creative Commons Attribution CC-BY 4.0, código bajo licencia BSD 3-Clause © 2017 L.A. Barba, N.C. Clementi"
   ]
  },
  {
   "cell_type": "markdown",
   "metadata": {},
   "source": [
    "# Jugando con archivo de cursos\n",
    "\n",
    "Después de completar las lecciones [1 - Interactuando con Python](./1_Interactuando_con_Python.ipynb) y [2 - Strings y listas en acción](2_Strings_y_listas_en_accion.ipynb) de este curso _\"Cálculos Computacionales en ingeniería\"_, en este notebook se desarrolla un ejemplo práctico y completo usando todo lo que has aprendido.\n",
    "\n",
    "Quizás te preguntes por qué estamos dedicando las primeras lecciones del curso a jugar con strings y listas. _\"¡Ingeniería se trata de números, fórmulas y ecuaciones!\"_, puedes estar pensando. La razón es que este curso no asume ninguna experiencia de programación, por lo que buscamos que todos se acostumbren a Python, sin agregar la complejidad adicional de la utilización de números. La idea es familiarizarse primero con los reglas de la programación, aplicándolas a situaciones que no implican matemáticas... ¡al menos por ahora!"
   ]
  },
  {
   "cell_type": "markdown",
   "metadata": {},
   "source": [
    "## Jugando con el boletín MAE\n",
    "\n",
    "Vamos a jugar con el texto de un archivo que contiene una copia del [Boletín MAE](http://bulletin.gwu.edu/engineering-applied-science/mechanical-aerospace-engineering/#coursestext) para el año 2017-2018 (_Nota de la traducción: El Boletín MAE corresponde al detalle de los cursos dictados para Ingeniería Mecánica y Aeroespacial por la George Washington University, entre septiembre 2017 y agosto 2018_). Crearemos diferentes listas para ubicar el título, los créditos y la descripción de un curso en función del código del curso.\n",
    "\n",
    "El archivo de datos para este ejemplo se encuentra en una carpeta llamada `data`, que puedes encontrar en un nivel superior a la ubicación de esta lección, si has copiado los materiales del curso tal como fueron almacenados. Si tienes los datos en otro lugar, deberás editar tu mismo la ruta según la ubicación correcta para este archivo.\n",
    "\n",
    "Comenzaremos leyendo el archivo de datos en el notebook de Jupyter, luego limpiaremos un poco los datos y finalmente interactuaremos con sus datos de varias maneras."
   ]
  },
  {
   "cell_type": "markdown",
   "metadata": {},
   "source": [
    "### Leer datos de un archivo\n",
    "\n",
    "Nos gustaría leer el contenido de este archivo en el notebook de Jupyter. Por lo general, es una buena idea echar un vistazo primero al archivo, para ver cómo se ve su contenido. Esto también nos da la oportunidad de enseñarte un truco que te será muy útil.\n",
    "\n",
    "¿Recuerdas que las celdas de código en un notebook pueden manejar cualquier declaración válida de **IPython**?. Bueno, IPython es capaz de hacer algo más que sólo Python: también puede ejecutar cualquier [comando del sistema](https://ipython.org/ipython-doc/3/interactive/reference.html#system-shell-access). Si conoces un poco de Unix, esto te será muy útil; por ejemplo, podrías enumerar todos los archivos en el directorio de trabajo.\n",
    "\n",
    "Para ejecutar un comando de sistema (o comando de la shell), antepone `!` -un \"bang\" o signo de exclamación. El comando que necesitamos es `head`, que imprime las primeras líneas de un archivo.\n",
    "\n",
    "Nuestra carpeta de datos se encuentra en un directorio superior al de los notebooks: en Unix, ir a un directorio superior se obtiene con 2 puntos seguidos ('..'). Así que necesitamos tener `../ data/` antes del nombre del archivo, `mae_bulletin.txt`, como parte de la ruta.\n",
    "\n",
    "Como ya se indicó, el comando `head` (que no es de python) puede utilizarse si se coloca antes un signo de exclamación:"
   ]
  },
  {
   "cell_type": "code",
   "execution_count": null,
   "metadata": {},
   "outputs": [],
   "source": [
    "!head ../data/mae_bulletin.txt"
   ]
  },
  {
   "cell_type": "markdown",
   "metadata": {},
   "source": [
    "¡Se ve bien! El siguiente paso es abrir el archivo y guardar sus contenidos en una variable de Python que podamos usar.\n",
    "\n",
    "La función **`open()`** se utiliza con el nombre del archivo indicado como un argumento _string_ (tenga en cuenta las comillas) y devuelve un objeto de archivo Python. Tenemos varias opciones posibles, y definitivamente es recomandable que leas la [documentación](https://docs.python.org/2/tutorial/inputoutput.html#reading-and-writing-files) sobre cómo leer y escribir archivos. Sin embargo, describiremos las principales opciones:\n",
    "\n",
    "**Método read**\n",
    "\n",
    "Si usas el método de archivo **`read()`**, obtendrás un único string (cadena de texto) con todos los contenidos del archivo. Este string tendrá todas las líneas, con los saltos de líneas indicadas por el carácter `\\n`."
   ]
  },
  {
   "cell_type": "code",
   "execution_count": null,
   "metadata": {},
   "outputs": [],
   "source": [
    "mae_bulletin_file = open('../data/mae_bulletin.txt')"
   ]
  },
  {
   "cell_type": "code",
   "execution_count": null,
   "metadata": {},
   "outputs": [],
   "source": [
    "mae_bulletin_text = mae_bulletin_file.read()"
   ]
  },
  {
   "cell_type": "code",
   "execution_count": null,
   "metadata": {},
   "outputs": [],
   "source": [
    "type(mae_bulletin_text)"
   ]
  },
  {
   "cell_type": "code",
   "execution_count": null,
   "metadata": {},
   "outputs": [],
   "source": [
    "len(mae_bulletin_text)"
   ]
  },
  {
   "cell_type": "code",
   "execution_count": null,
   "metadata": {},
   "outputs": [],
   "source": [
    "print(mae_bulletin_text)"
   ]
  },
  {
   "cell_type": "markdown",
   "metadata": {},
   "source": [
    "**Método list**\n",
    "\n",
    "Otra opción es usar la función **`list()`** para crear una lista de líneas a partir del contenido del archivo."
   ]
  },
  {
   "cell_type": "code",
   "execution_count": null,
   "metadata": {},
   "outputs": [],
   "source": [
    "mae_bulletin_file = open('../data/mae_bulletin.txt')"
   ]
  },
  {
   "cell_type": "code",
   "execution_count": null,
   "metadata": {},
   "outputs": [],
   "source": [
    "mae_bulletin_text = list(mae_bulletin_file)"
   ]
  },
  {
   "cell_type": "code",
   "execution_count": null,
   "metadata": {},
   "outputs": [],
   "source": [
    "type(mae_bulletin_text)"
   ]
  },
  {
   "cell_type": "code",
   "execution_count": null,
   "metadata": {},
   "outputs": [],
   "source": [
    "len(mae_bulletin_text)"
   ]
  },
  {
   "cell_type": "code",
   "execution_count": null,
   "metadata": {},
   "outputs": [],
   "source": [
    "print(mae_bulletin_text)"
   ]
  },
  {
   "cell_type": "markdown",
   "metadata": {},
   "source": [
    "**Método readlines**\n",
    "\n",
    "Lo más común es utilizar el método **`readlines()`**, con lo cual obtendrás una lista, donde cada elemento de esta lista es una string con una de las línea del archivo. El orden de la lista corresponde al orden de las líneas en el archivo como es esperable. "
   ]
  },
  {
   "cell_type": "code",
   "execution_count": null,
   "metadata": {},
   "outputs": [],
   "source": [
    "mae_bulletin_file = open('../data/mae_bulletin.txt')"
   ]
  },
  {
   "cell_type": "code",
   "execution_count": null,
   "metadata": {},
   "outputs": [],
   "source": [
    "mae_bulletin_text = mae_bulletin_file.readlines()"
   ]
  },
  {
   "cell_type": "code",
   "execution_count": null,
   "metadata": {},
   "outputs": [],
   "source": [
    "type(mae_bulletin_text)"
   ]
  },
  {
   "cell_type": "code",
   "execution_count": null,
   "metadata": {},
   "outputs": [],
   "source": [
    "len(mae_bulletin_text)"
   ]
  },
  {
   "cell_type": "code",
   "execution_count": null,
   "metadata": {},
   "outputs": [],
   "source": [
    "print(mae_bulletin_text)"
   ]
  },
  {
   "cell_type": "markdown",
   "metadata": {},
   "source": [
    "### Limpieza y organización de datos de texto\n",
    "\n",
    "Al manipular datos de texto, una de las acciones más comunes es deshacerse de líneas innecesarias y espacios en blanco. En nuestro caso, eliminaremos los espacios al principio y al final de cada línea.\n",
    "\n",
    "Ten en cuenta que también hay algunas líneas en blanco, que omitiremos. El objetivo es obtener dos listas nuevas: una con la identificación de cada curso y otra con la descripción de cada curso.\n",
    "\n",
    "Considera el siguiente código:"
   ]
  },
  {
   "cell_type": "code",
   "execution_count": null,
   "metadata": {},
   "outputs": [],
   "source": [
    "courses = []\n",
    "descriptions = []\n",
    "\n",
    "for line in mae_bulletin_text:\n",
    "    line = line.strip()            #Eliminar los espacios en blanco\n",
    "    if line == '':                 #Saltarse las lineas en blanco \n",
    "        continue\n",
    "    elif line.startswith('MAE'): \n",
    "        courses.append(line)       #Guardar las lineas que comienzan con MAE en la lista de cursos\n",
    "    else:\n",
    "        descriptions.append(line)  #Guardar las líneas que NO comienzan con MAE en la lista de descripciones"
   ]
  },
  {
   "cell_type": "markdown",
   "metadata": {},
   "source": [
    "Asegúrate de visitar la [documentación](https://docs.python.org/3/library/stdtypes.html#string-methods) para conocer los métodos de strings y tener una idea de todas las cosas que pueden hacerse con Python. Aquí, usamos el método **`strip()`** para deshacernos de los espacios iniciales y finales, y también usamos **`startswith()`** para saber si el string correspondía al código de un curso.\n",
    "\n",
    "Para verificar lo que hemos obtenido, sólo es necesario imprimir algunos elementos de cada lista:"
   ]
  },
  {
   "cell_type": "code",
   "execution_count": null,
   "metadata": {},
   "outputs": [],
   "source": [
    "#imprimir los primeros 5 elementos\n",
    "print(courses[0:5])"
   ]
  },
  {
   "cell_type": "code",
   "execution_count": null,
   "metadata": {},
   "outputs": [],
   "source": [
    "#imprmir los primeros 3 elementosde las descripciones\n",
    "print(descriptions[0:3])"
   ]
  },
  {
   "cell_type": "markdown",
   "metadata": {},
   "source": [
    "¡También deberíamos verificar que ambas listas tengan la misma longitud!"
   ]
  },
  {
   "cell_type": "code",
   "execution_count": null,
   "metadata": {},
   "outputs": [],
   "source": [
    "print(len(courses))\n",
    "print(len(descriptions))"
   ]
  },
  {
   "cell_type": "markdown",
   "metadata": {},
   "source": [
    "### Separa la lista de cursos en la identificación del curso, título y créditos\n",
    "\n",
    "La lista `course` contiene strings con la información del código del curso, su título y cantidad de créditos, resultaría conveniente tener por separado. Una forma posible es la siguiente:"
   ]
  },
  {
   "cell_type": "code",
   "execution_count": null,
   "metadata": {},
   "outputs": [],
   "source": [
    "course_id = []\n",
    "course_title = []\n",
    "course_credits = []\n",
    "\n",
    "for course in courses:\n",
    "    course_info = course.split('. ') \n",
    "    course_id.append(course_info[0])\n",
    "    course_title.append(course_info[1])\n",
    "    course_credits.append(course_info[2])"
   ]
  },
  {
   "cell_type": "markdown",
   "metadata": {},
   "source": [
    "Ten en cuenta que dividimos la información del curso utilizando el string `'. '` (punto + espacio) para evitar tener un espacio en blanco adicional al comienzo de cada cadena en las listas de títulos y créditos del curso. Otra forma de conseguir lo mismo sería dividir con sólo el punto y después utilizar `strip`.\n",
    "\n",
    "Imprimamos los primeros elementos de las nuevas listas."
   ]
  },
  {
   "cell_type": "code",
   "execution_count": null,
   "metadata": {},
   "outputs": [],
   "source": [
    "print(course_id[0:5])"
   ]
  },
  {
   "cell_type": "code",
   "execution_count": null,
   "metadata": {},
   "outputs": [],
   "source": [
    "print(course_title[0:5])"
   ]
  },
  {
   "cell_type": "code",
   "execution_count": null,
   "metadata": {},
   "outputs": [],
   "source": [
    "print(course_credits[0:5])"
   ]
  },
  {
   "cell_type": "markdown",
   "metadata": {},
   "source": [
    "### Información del curso de seguimiento\n",
    "\n",
    "Las listas que hemos creado están alineadas: cada elemento en la misma ubicación de índice corresponde al mismo curso. Al encontrar la ubicación (el índice) de un identificador de curso, podemos acceder a toda la otra información.\n",
    "\n",
    "Usamos el método `index()` para encontrar el índice de un identificador de curso y rastrear el resto de la información. ¡Inténtalo!"
   ]
  },
  {
   "cell_type": "code",
   "execution_count": null,
   "metadata": {},
   "outputs": [],
   "source": [
    "course_id.index('MAE 3190')"
   ]
  },
  {
   "cell_type": "code",
   "execution_count": null,
   "metadata": {},
   "outputs": [],
   "source": [
    "n = course_id.index('MAE 3190')\n",
    "print(course_id[n])\n",
    "print(course_title[n])\n",
    "print(course_credits[n])\n",
    "print(descriptions[n])"
   ]
  },
  {
   "cell_type": "markdown",
   "metadata": {},
   "source": [
    "### ¿Cuántos cursos tienen prerrequisitos?\n",
    "\n",
    "Exploremos una nueva idea: podemos buscar todos los cursos que tengan requisitos previos usando una declaración `for`. En este caso, iteraremos sobre los _indices_ de los elementos en la lista `descriptions`.\n",
    "\n",
    "Esto nos da la oportunidad de presentar un objeto de Python muy útil: **`range`**: crea una secuencia de números en la progresión aritmética que permite iterar. Con un único argumento, `range(N)` creará una secuencia de longitud `N` comenzando en cero:` 0, 1, 2, ..., N-1`."
   ]
  },
  {
   "cell_type": "code",
   "execution_count": null,
   "metadata": {},
   "outputs": [],
   "source": [
    "for i in range(4):\n",
    "    print(i)"
   ]
  },
  {
   "cell_type": "markdown",
   "metadata": {},
   "source": [
    "Un detalle interesante del método `range` es que se crea sobre la marcha, al iterar sobre él. No es realmente una lista, aunque para la mayoría de los propósitos prácticos se comportará como una lista.\n",
    "\n",
    "Una forma típica de usarlo es con un argumento que sale de la función `len ()`. \n",
    "\n",
    "Observa el siguiente bloque de código:"
   ]
  },
  {
   "cell_type": "code",
   "execution_count": null,
   "metadata": {},
   "outputs": [],
   "source": [
    "course_with_pre = []\n",
    "\n",
    "for i in range(len(descriptions)):           #La variable i tomará los valores 0, 1, ..., 318\n",
    "    if 'Prerequisite' in descriptions[i]:    #Se verá si el elemento i-esimo de la lista contiene 'Prerequisite'\n",
    "        course_with_pre.append(course_id[i]) #Se almacenará en la lista si se cumple el condicional"
   ]
  },
  {
   "cell_type": "markdown",
   "metadata": {},
   "source": [
    "Ahora tenemos una lista llamada `course_with_pre` que contiene el identificador de curso de todos los cursos que tienen requisitos previos."
   ]
  },
  {
   "cell_type": "code",
   "execution_count": null,
   "metadata": {},
   "outputs": [],
   "source": [
    "print(course_with_pre)"
   ]
  },
  {
   "cell_type": "markdown",
   "metadata": {},
   "source": [
    "##### Ejercicio:\n",
    "\n",
    "1. Guarda en una nueva lista llamada `course_with_cor` todos los cursos que tengan un correquisito e imprime la lista.\n",
    "2. Utilizando una declaración `for` y declaraciones` if-elif-else`, separa los cursos que se ofrecen en el semestre de otoño, los ofrecidos en el semestre de primavera, los que se ofrecen en ambos semestres y los que no especifican un semestre. Crea 4 listas: `fall_and_spring`,` fall`, `spring` y` not_spec`."
   ]
  },
  {
   "cell_type": "code",
   "execution_count": null,
   "metadata": {},
   "outputs": [],
   "source": [
    "#Anota tu respuesta acá\n",
    "course_with_cor = []\n",
    "fall_and_spring = []\n",
    "fall = []\n",
    "not_spec = []"
   ]
  },
  {
   "cell_type": "markdown",
   "metadata": {},
   "source": [
    "Para comprobar tus respuestas, elimine los comentarios de las siguientes líneas eliminando el símbolo # y ejecutando la celda. La ejecución de la celda no arroja errores, ¡lo hiciste bien!"
   ]
  },
  {
   "cell_type": "code",
   "execution_count": null,
   "metadata": {},
   "outputs": [],
   "source": [
    "#course_with_cor_ans = ['MAE 3184', 'MAE 4183', 'MAE 4195', 'MAE 6194', 'MAE 6195']\n",
    "#fall_and_spring_ans = []\n",
    "#fall_ans = ['MAE 1004', 'MAE 2117', 'MAE 3126', 'MAE 3145', 'MAE 3162', 'MAE 3166W', 'MAE 3190', 'MAE 3191', 'MAE 4157', 'MAE 4163', 'MAE 4193', 'MAE 4199', 'MAE 6210', 'MAE 6275']\n",
    "#spring_ans = ['MAE 3128', 'MAE 3167W', 'MAE 3193', 'MAE 6194', 'MAE 6195', 'MAE 6229', 'MAE 6235', 'MAE 6242', 'MAE 6247', 'MAE 6249', 'MAE 6258']\n",
    "#not_spec_ans = ['MAE 2124', 'MAE 2131', 'MAE 2170', 'MAE 3120', 'MAE 3134', 'MAE 3155', 'MAE 3171', 'MAE 3184', 'MAE 3187', 'MAE 3192', 'MAE 3195', 'MAE 3196', 'MAE 3197', 'MAE 4129', 'MAE 4149', 'MAE 4168', 'MAE 4172', 'MAE 4182', 'MAE 4183', 'MAE 4194', 'MAE 4195', 'MAE 4198', 'MAE 6201', 'MAE 6203', 'MAE 6204', 'MAE 6207', 'MAE 6220', 'MAE 6221', 'MAE 6222', 'MAE 6223', 'MAE 6224', 'MAE 6225', 'MAE 6226', 'MAE 6227', 'MAE 6228', 'MAE 6230', 'MAE 6231', 'MAE 6232', 'MAE 6233', 'MAE 6234', 'MAE 6237', 'MAE 6238', 'MAE 6239', 'MAE 6240', 'MAE 6241', 'MAE 6243', 'MAE 6244', 'MAE 6245', 'MAE 6246', 'MAE 6251', 'MAE 6252', 'MAE 6253', 'MAE 6254', 'MAE 6255', 'MAE 6257', 'MAE 6260', 'MAE 6261', 'MAE 6262', 'MAE 6263', 'MAE 6270', 'MAE 6271', 'MAE 6274', 'MAE 6276', 'MAE 6277', 'MAE 6280', 'MAE 6281', 'MAE 6282', 'MAE 6283', 'MAE 6284', 'MAE 6286', 'MAE 6287', 'MAE 6288', 'MAE 6290', 'MAE 6291', 'MAE 6292', 'MAE 6298', 'MAE 6998', 'MAE 6999', 'MAE 8350', 'MAE 8351', 'MAE 8352', 'MAE 8998', 'MAE 8999']\n",
    "\n",
    "#assert course_with_cor == course_with_cor_ans\n",
    "#assert fall_and_spring == fall_and_spring_ans \n",
    "#assert fall == fall_ans\n",
    "#assert spring == spring_ans\n",
    "#assert not_spec == not_spec_ans"
   ]
  },
  {
   "cell_type": "markdown",
   "metadata": {},
   "source": [
    "## Lo que hemos aprendido\n",
    "\n",
    "* Los comandos del sistema en una celda de código comienzan con un bang o exclamación (`!`).\n",
    "* Abrir un archivo de texto y guardar su contenido en un string o una lista de strings.\n",
    "* Limpiar datos de texto usando métodos de cadena.\n",
    "* Manipular texto en listas."
   ]
  },
  {
   "cell_type": "code",
   "execution_count": 34,
   "metadata": {},
   "outputs": [
    {
     "data": {
      "text/html": [
       "<link href=\"https://fonts.googleapis.com/css?family=Merriweather:300,300i,400,400i,700,700i,900,900i\" rel='stylesheet' >\n",
       "<link href=\"https://fonts.googleapis.com/css?family=Source+Sans+Pro:300,300i,400,400i,700,700i\" rel='stylesheet' >\n",
       "<link href='http://fonts.googleapis.com/css?family=Source+Code+Pro:300,400' rel='stylesheet' >\n",
       "<style>\n",
       "\n",
       "@font-face {\n",
       "    font-family: \"Computer Modern\";\n",
       "    src: url('http://mirrors.ctan.org/fonts/cm-unicode/fonts/otf/cmunss.otf');\n",
       "}\n",
       "\n",
       "\n",
       "#notebook_panel { /* main background */\n",
       "    background: rgb(245,245,245);\n",
       "}\n",
       "\n",
       "div.cell { /* set cell width */\n",
       "    width: 800px;\n",
       "}\n",
       "\n",
       "div #notebook { /* centre the content */\n",
       "    background: #fff; /* white background for content */\n",
       "    width: 1000px;\n",
       "    margin: auto;\n",
       "    padding-left: 0em;\n",
       "}\n",
       "\n",
       "#notebook li { /* More space between bullet points */\n",
       "margin-top:0.5em;\n",
       "}\n",
       "\n",
       "/* draw border around running cells */\n",
       "div.cell.border-box-sizing.code_cell.running { \n",
       "    border: 1px solid #111;\n",
       "}\n",
       "\n",
       "/* Put a solid color box around each cell and its output, visually linking them*/\n",
       "div.cell.code_cell {\n",
       "    background-color: rgb(256,256,256); \n",
       "    border-radius: 0px; \n",
       "    padding: 0.5em;\n",
       "    margin-left:1em;\n",
       "    margin-top: 1em;\n",
       "}\n",
       "\n",
       "\n",
       "div.text_cell_render{\n",
       "    font-family: 'Source Sans Pro', sans-serif;\n",
       "    line-height: 140%;\n",
       "    font-size: 110%;\n",
       "    width:680px;\n",
       "    margin-left:auto;\n",
       "    margin-right:auto;\n",
       "}\n",
       "\n",
       "/* Formatting for header cells */\n",
       ".text_cell_render h1 {\n",
       "    font-family: 'Merriweather', serif;\n",
       "    font-style:regular;\n",
       "    font-weight: bold;    \n",
       "    font-size: 250%;\n",
       "    line-height: 100%;\n",
       "    color: #004065;\n",
       "    margin-bottom: 1em;\n",
       "    margin-top: 0.5em;\n",
       "    display: block;\n",
       "}\t\n",
       ".text_cell_render h2 {\n",
       "    font-family: 'Merriweather', serif;\n",
       "    font-weight: bold; \n",
       "    font-size: 180%;\n",
       "    line-height: 100%;\n",
       "    color: #0096d6;\n",
       "    margin-bottom: 0.5em;\n",
       "    margin-top: 0.5em;\n",
       "    display: block;\n",
       "}\t\n",
       "\n",
       ".text_cell_render h3 {\n",
       "    font-family: 'Merriweather', serif;\n",
       "\tfont-size: 150%;\n",
       "    margin-top:12px;\n",
       "    margin-bottom: 3px;\n",
       "    font-style: regular;\n",
       "    color: #008367;\n",
       "}\n",
       "\n",
       ".text_cell_render h4 {    /*Use this for captions*/\n",
       "    font-family: 'Merriweather', serif;\n",
       "    font-weight: 300; \n",
       "    font-size: 100%;\n",
       "    line-height: 120%;\n",
       "    text-align: left;\n",
       "    width:500px;\n",
       "    margin-top: 1em;\n",
       "    margin-bottom: 2em;\n",
       "    margin-left: 80pt;\n",
       "    font-style: regular;\n",
       "}\n",
       "\n",
       ".text_cell_render h5 {  /*Use this for small titles*/\n",
       "    font-family: 'Source Sans Pro', sans-serif;\n",
       "    font-weight: regular;\n",
       "    font-size: 130%;\n",
       "    color: #e31937;\n",
       "    font-style: italic;\n",
       "    margin-bottom: .5em;\n",
       "    margin-top: 1em;\n",
       "    display: block;\n",
       "}\n",
       "\n",
       ".text_cell_render h6 { /*use this for copyright note*/\n",
       "    font-family: 'Source Code Pro', sans-serif;\n",
       "    font-weight: 300;\n",
       "    font-size: 9pt;\n",
       "    line-height: 100%;\n",
       "    color: grey;\n",
       "    margin-bottom: 1px;\n",
       "    margin-top: 1px;\n",
       "}\n",
       "\n",
       "    .CodeMirror{\n",
       "            font-family: \"Source Code Pro\";\n",
       "\t\t\tfont-size: 90%;\n",
       "    }\n",
       "/*    .prompt{\n",
       "        display: None;\n",
       "    }*/\n",
       "\t\n",
       "    \n",
       "    .warning{\n",
       "        color: rgb( 240, 20, 20 )\n",
       "        }  \n",
       "</style>\n",
       "<script>\n",
       "    MathJax.Hub.Config({\n",
       "                        TeX: {\n",
       "                           extensions: [\"AMSmath.js\"], \n",
       "                           equationNumbers: { autoNumber: \"AMS\", useLabelIds: true}\n",
       "                           },\n",
       "                tex2jax: {\n",
       "                    inlineMath: [ ['$','$'], [\"\\\\(\",\"\\\\)\"] ],\n",
       "                    displayMath: [ ['$$','$$'], [\"\\\\[\",\"\\\\]\"] ]\n",
       "                },\n",
       "                displayAlign: 'center', // Change this to 'center' to center equations.\n",
       "                \"HTML-CSS\": {\n",
       "                    styles: {'.MathJax_Display': {\"margin\": 4}}\n",
       "                }\n",
       "        });\n",
       "</script>\n"
      ],
      "text/plain": [
       "<IPython.core.display.HTML object>"
      ]
     },
     "execution_count": 34,
     "metadata": {},
     "output_type": "execute_result"
    }
   ],
   "source": [
    "# Ejecuta esta celda para cargar el notebook con estilo, \n",
    "# pero puedes ignorar su contenido.\n",
    "from IPython.core.display import HTML\n",
    "css_file = '../style/custom.css'\n",
    "HTML(open(css_file, \"r\").read())"
   ]
  }
 ],
 "metadata": {
  "kernelspec": {
   "display_name": "Python 3",
   "language": "python",
   "name": "python3"
  },
  "language_info": {
   "codemirror_mode": {
    "name": "ipython",
    "version": 3
   },
   "file_extension": ".py",
   "mimetype": "text/x-python",
   "name": "python",
   "nbconvert_exporter": "python",
   "pygments_lexer": "ipython3",
   "version": "3.5.2"
  },
  "widgets": {
   "state": {},
   "version": "1.1.2"
  }
 },
 "nbformat": 4,
 "nbformat_minor": 2
}
