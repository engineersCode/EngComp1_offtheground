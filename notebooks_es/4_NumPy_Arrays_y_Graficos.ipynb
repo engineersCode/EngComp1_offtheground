{
 "cells": [
  {
   "cell_type": "markdown",
   "metadata": {},
   "source": [
    "###### Contenido bajo licencia Creative Commons Attribution CC-BY 4.0, código bajo licencia BSD 3-Clause © 2017 L.A. Barba, N.C. Clementi"
   ]
  },
  {
   "cell_type": "markdown",
   "metadata": {},
   "source": [
    "# Juega con matrices NumPy\n",
    "\n",
    "Bienvenido a ** Lección 4 ** del primer módulo de curso en _\"Computaciones de ingeniería_\". ¡Usted ha recorrido un largo camino!\n",
    "\n",
    "Recuerde, este curso no asume ninguna experiencia de codificación, por lo que las tres primeras lecciones se centraron en crear una base con construcciones de programación de Python utilizando esencialmente _no mathematics_. Las lecciones anteriores son:\n",
    "\n",
    "* [Lección 1](http://nbviewer.jupyter.org/github/engineersCode/EngComp1_offtheground/blob/master/notebooks_en/1_Interacting_with_Python.ipynb): interactuando con Python\n",
    "* [Lección 2](http://nbviewer.jupyter.org/github/engineersCode/EngComp1_offtheground/blob/master/notebooks_en/2_Jupyter_strings_and_lists.ipynb): juega con los datos en Jupyter\n",
    "* [Lección 3](http://nbviewer.jupyter.org/github/engineersCode/EngComp1_offtheground/blob/master/notebooks_en/3_Example_play_with_MAEbulletin.ipynb): Cadenas y listas en acción\n",
    "\n",
    "En aplicaciones de ingeniería, la mayoría de las situaciones informáticas se benefician del uso de * arrays *: son secuencias de datos del mismo tipo_. Se comportan como listas, a excepción de la restricción en el tipo de sus elementos. Hay una gran ventaja de eficiencia cuando sabes que todos los elementos de una secuencia son del mismo tipo, por lo que los métodos equivalentes para las matrices se ejecutan mucho más rápido que los de las listas.\n",
    "\n",
    "El lenguaje Python se amplía para aplicaciones especiales, como la informática científica, con ** libraries **. La biblioteca más importante en ciencia e ingeniería es ** NumPy **, que proporciona la estructura de datos _n-dimensional array_ (a.k.a, `ndarray`) y una gran cantidad de funciones, operaciones y algoritmos para cálculos de álgebra lineal eficientes.\n",
    "\n",
    "En esta lección, comenzarás a jugar con matrices NumPy y descubrirás su poder. También se encontrará con otra biblioteca muy apreciada: ** Matplotlib **, para crear gráficos bidimensionales de datos."
   ]
  },
  {
   "cell_type": "markdown",
   "metadata": {},
   "source": [
    "## Importación de librerías\n",
    "\n",
    "Primero, una palabra sobre la importación de bibliotecas para expandir la sesión en ejecución de Python. Debido a que las bibliotecas son grandes colecciones de código y son para fines especiales, no se cargan automáticamente al iniciar Python (o IPython, o Jupyter). Tienes que importar una biblioteca usando el comando `import`. Por ejemplo, para importar ** NumPy **, con todas sus bondades de álgebra lineal, ingresamos:\n",
    "\n",
    "```python\n",
    "importar numpy\n",
    "```\n",
    "\n",
    "Una vez que ejecutas ese comando en una celda de código, puedes llamar a cualquier función de NumPy usando la notación de puntos, anteponiendo el nombre de la biblioteca. Por ejemplo, algunas funciones comúnmente usadas son:\n",
    "\n",
    "* [`numpy.linspace ()`](https://docs.scipy.org/doc/numpy/reference/generated/numpy.linspace.html)\n",
    "* [`numpy.ones ()`](https://docs.scipy.org/doc/numpy/reference/generated/numpy.ones.html#numpy.ones)\n",
    "* [`numpy.zeros ()`](https://docs.scipy.org/doc/numpy/reference/generated/numpy.zeros.html#numpy.zeros)\n",
    "* [`numpy.empty ()`](https://docs.scipy.org/doc/numpy/reference/generated/numpy.empty.html#numpy.empty)\n",
    "* [`numpy.copy ()`](https://docs.scipy.org/doc/numpy/reference/generated/numpy.copy.html#numpy.copy)\n",
    "\n",
    "¡Siga los enlaces para explorar la documentación de estas útiles funciones de NumPy!"
   ]
  },
  {
   "cell_type": "markdown",
   "metadata": {},
   "source": [
    "##### Advertencia:\n",
    "\n",
    "Encontrará _un lote_ de código de muestra en línea que usa una sintaxis diferente para importar. Ellos harán:\n",
    "```python\n",
    "importar numpy como np\n",
    "```\n",
    "Todo lo que hace es crear un alias para `numpy` con la cadena más corta` np`, por lo que llamaría a una función ** NumPy ** como esta: `np.linspace ()`. Esta es solo una forma alternativa de hacerlo, para personas perezosas que les resulta demasiado largo para escribir `numpy` y quieren guardar 3 caracteres cada vez. Para el no perezoso, escribir `numpy` es más legible y hermoso.\n",
    "\n",
    "Nos gusta más así:"
   ]
  },
  {
   "cell_type": "code",
   "execution_count": 1,
   "metadata": {
    "collapsed": true
   },
   "outputs": [],
   "source": [
    "import numpy"
   ]
  },
  {
   "cell_type": "markdown",
   "metadata": {},
   "source": [
    "## Creando matrices\n",
    "\n",
    "Para crear una matriz NumPy a partir de una lista existente de números (homogéneos), llamamos ** `numpy.array ()` **, así:"
   ]
  },
  {
   "cell_type": "code",
   "execution_count": 2,
   "metadata": {},
   "outputs": [
    {
     "data": {
      "text/plain": [
       "array([ 3,  5,  8, 17])"
      ]
     },
     "execution_count": 2,
     "metadata": {},
     "output_type": "execute_result"
    }
   ],
   "source": [
    "numpy.array([3, 5, 8, 17])"
   ]
  },
  {
   "cell_type": "markdown",
   "metadata": {},
   "source": [
    "NumPy ofrece muchas [formas de crear matrices](https://docs.scipy.org/doc/numpy/reference/routines.array-creation.html#routines-array-creation) además de esto. Ya hemos mencionado algunos de ellos más arriba.\n",
    "\n",
    "Juega con `numpy.ones ()` y `numpy.zeros ()`: crean arrays llenos de unos y ceros, respectivamente. Pasamos como argumento la cantidad de elementos de matriz que queremos."
   ]
  },
  {
   "cell_type": "code",
   "execution_count": 3,
   "metadata": {},
   "outputs": [
    {
     "data": {
      "text/plain": [
       "array([ 1.,  1.,  1.,  1.,  1.])"
      ]
     },
     "execution_count": 3,
     "metadata": {},
     "output_type": "execute_result"
    }
   ],
   "source": [
    "numpy.ones(5)"
   ]
  },
  {
   "cell_type": "code",
   "execution_count": 4,
   "metadata": {},
   "outputs": [
    {
     "data": {
      "text/plain": [
       "array([ 0.,  0.,  0.])"
      ]
     },
     "execution_count": 4,
     "metadata": {},
     "output_type": "execute_result"
    }
   ],
   "source": [
    "numpy.zeros(3)"
   ]
  },
  {
   "cell_type": "markdown",
   "metadata": {},
   "source": [
    "Otro útil: `numpy.arange ()` da una matriz de valores espaciados uniformemente en un intervalo definido.\n",
    "\n",
    "*Sintaxis:*\n",
    "\n",
    "`numpy.arange (inicio, parada, paso)`\n",
    "\n",
    "donde `start` por defecto es cero,` stop` no es inclusivo, y el predeterminado\n",
    "para `paso` es uno. ¡Juega con ello!"
   ]
  },
  {
   "cell_type": "code",
   "execution_count": 5,
   "metadata": {},
   "outputs": [
    {
     "data": {
      "text/plain": [
       "array([0, 1, 2, 3])"
      ]
     },
     "execution_count": 5,
     "metadata": {},
     "output_type": "execute_result"
    }
   ],
   "source": [
    "numpy.arange(4)"
   ]
  },
  {
   "cell_type": "code",
   "execution_count": 6,
   "metadata": {},
   "outputs": [
    {
     "data": {
      "text/plain": [
       "array([2, 3, 4, 5])"
      ]
     },
     "execution_count": 6,
     "metadata": {},
     "output_type": "execute_result"
    }
   ],
   "source": [
    "numpy.arange(2, 6)"
   ]
  },
  {
   "cell_type": "code",
   "execution_count": 7,
   "metadata": {},
   "outputs": [
    {
     "data": {
      "text/plain": [
       "array([2, 4])"
      ]
     },
     "execution_count": 7,
     "metadata": {},
     "output_type": "execute_result"
    }
   ],
   "source": [
    "numpy.arange(2, 6, 2)"
   ]
  },
  {
   "cell_type": "code",
   "execution_count": 8,
   "metadata": {},
   "outputs": [
    {
     "data": {
      "text/plain": [
       "array([ 2. ,  2.5,  3. ,  3.5,  4. ,  4.5,  5. ,  5.5])"
      ]
     },
     "execution_count": 8,
     "metadata": {},
     "output_type": "execute_result"
    }
   ],
   "source": [
    "numpy.arange(2, 6, 0.5)"
   ]
  },
  {
   "cell_type": "markdown",
   "metadata": {},
   "source": [
    "`numpy.linspace ()` es similar a `numpy.arange ()`, pero usa número de muestras en lugar de un tamaño de paso. Devuelve una matriz con números espaciados uniformemente durante el intervalo especificado.\n",
    "\n",
    "*Sintaxis:*\n",
    "\n",
    "`numpy.linspace (start, stop, num)`\n",
    "\n",
    "`stop` está incluido por defecto (se puede eliminar, lea los documentos), y` num` de forma predeterminada es 50."
   ]
  },
  {
   "cell_type": "code",
   "execution_count": 9,
   "metadata": {},
   "outputs": [
    {
     "data": {
      "text/plain": [
       "array([ 2.        ,  2.02040816,  2.04081633,  2.06122449,  2.08163265,\n",
       "        2.10204082,  2.12244898,  2.14285714,  2.16326531,  2.18367347,\n",
       "        2.20408163,  2.2244898 ,  2.24489796,  2.26530612,  2.28571429,\n",
       "        2.30612245,  2.32653061,  2.34693878,  2.36734694,  2.3877551 ,\n",
       "        2.40816327,  2.42857143,  2.44897959,  2.46938776,  2.48979592,\n",
       "        2.51020408,  2.53061224,  2.55102041,  2.57142857,  2.59183673,\n",
       "        2.6122449 ,  2.63265306,  2.65306122,  2.67346939,  2.69387755,\n",
       "        2.71428571,  2.73469388,  2.75510204,  2.7755102 ,  2.79591837,\n",
       "        2.81632653,  2.83673469,  2.85714286,  2.87755102,  2.89795918,\n",
       "        2.91836735,  2.93877551,  2.95918367,  2.97959184,  3.        ])"
      ]
     },
     "execution_count": 9,
     "metadata": {},
     "output_type": "execute_result"
    }
   ],
   "source": [
    "numpy.linspace(2.0, 3.0)"
   ]
  },
  {
   "cell_type": "code",
   "execution_count": 10,
   "metadata": {},
   "outputs": [
    {
     "data": {
      "text/plain": [
       "50"
      ]
     },
     "execution_count": 10,
     "metadata": {},
     "output_type": "execute_result"
    }
   ],
   "source": [
    "len(numpy.linspace(2.0, 3.0))"
   ]
  },
  {
   "cell_type": "code",
   "execution_count": 11,
   "metadata": {},
   "outputs": [
    {
     "data": {
      "text/plain": [
       "array([ 2. ,  2.2,  2.4,  2.6,  2.8,  3. ])"
      ]
     },
     "execution_count": 11,
     "metadata": {},
     "output_type": "execute_result"
    }
   ],
   "source": [
    "numpy.linspace(2.0, 3.0, 6)"
   ]
  },
  {
   "cell_type": "code",
   "execution_count": 12,
   "metadata": {},
   "outputs": [
    {
     "data": {
      "text/plain": [
       "array([-1.  , -0.75, -0.5 , -0.25,  0.  ,  0.25,  0.5 ,  0.75,  1.  ])"
      ]
     },
     "execution_count": 12,
     "metadata": {},
     "output_type": "execute_result"
    }
   ],
   "source": [
    "numpy.linspace(-1, 1, 9)"
   ]
  },
  {
   "cell_type": "markdown",
   "metadata": {},
   "source": [
    "## Operaciones de matriz\n",
    "\n",
    "Asignemos algunas matrices a nombres de variables y realicemos algunas operaciones con ellos."
   ]
  },
  {
   "cell_type": "code",
   "execution_count": 13,
   "metadata": {
    "collapsed": true
   },
   "outputs": [],
   "source": [
    "x_array = numpy.linspace(-1, 1, 9)"
   ]
  },
  {
   "cell_type": "markdown",
   "metadata": {
    "collapsed": true
   },
   "source": [
    "Ahora que lo hemos guardado con un nombre de variable, podemos hacer algunos cálculos con la matriz. Por ejemplo, toma el cuadrado de cada elemento de la matriz de una sola vez:"
   ]
  },
  {
   "cell_type": "code",
   "execution_count": 14,
   "metadata": {},
   "outputs": [
    {
     "name": "stdout",
     "output_type": "stream",
     "text": [
      "[ 1.      0.5625  0.25    0.0625  0.      0.0625  0.25    0.5625  1.    ]\n"
     ]
    }
   ],
   "source": [
    "y_array = x_array**2\n",
    "print(y_array)"
   ]
  },
  {
   "cell_type": "markdown",
   "metadata": {},
   "source": [
    "También podemos tomar la raíz cuadrada de una matriz positiva, usando la función `numpy.sqrt ()`:"
   ]
  },
  {
   "cell_type": "code",
   "execution_count": 15,
   "metadata": {},
   "outputs": [
    {
     "name": "stdout",
     "output_type": "stream",
     "text": [
      "[ 1.    0.75  0.5   0.25  0.    0.25  0.5   0.75  1.  ]\n"
     ]
    }
   ],
   "source": [
    "z_array = numpy.sqrt(y_array)\n",
    "print(z_array)"
   ]
  },
  {
   "cell_type": "markdown",
   "metadata": {},
   "source": [
    "Ahora que tenemos diferentes matrices `x_array`,` y_array` y `z_array`, podemos hacer más cálculos, como agregarlos o multiplicarlos. Por ejemplo:"
   ]
  },
  {
   "cell_type": "code",
   "execution_count": 16,
   "metadata": {},
   "outputs": [
    {
     "name": "stdout",
     "output_type": "stream",
     "text": [
      "[ 0.     -0.1875 -0.25   -0.1875  0.      0.3125  0.75    1.3125  2.    ]\n"
     ]
    }
   ],
   "source": [
    "add_array = x_array + y_array \n",
    "print(add_array)"
   ]
  },
  {
   "cell_type": "markdown",
   "metadata": {},
   "source": [
    "La adición de matriz se define como elemento, como cuando se agregan dos vectores (o matrices). La multiplicación de matrices también se basa en los elementos:"
   ]
  },
  {
   "cell_type": "code",
   "execution_count": 17,
   "metadata": {},
   "outputs": [
    {
     "name": "stdout",
     "output_type": "stream",
     "text": [
      "[-1.     -0.5625 -0.25   -0.0625  0.      0.0625  0.25    0.5625  1.    ]\n"
     ]
    }
   ],
   "source": [
    "mult_array = x_array * z_array\n",
    "print(mult_array)"
   ]
  },
  {
   "cell_type": "markdown",
   "metadata": {},
   "source": [
    "También podemos dividir matrices, pero debe tener cuidado de no dividir por cero. Esta operación dará como resultado ** `nan` ** que significa * Not a Number *. Python todavía realizará la división, pero nos contará sobre el problema.\n",
    "\n",
    "Veamos cómo podría verse esto:"
   ]
  },
  {
   "cell_type": "code",
   "execution_count": 18,
   "metadata": {},
   "outputs": [
    {
     "name": "stderr",
     "output_type": "stream",
     "text": [
      "//anaconda/envs/future/lib/python3.5/site-packages/ipykernel/__main__.py:1: RuntimeWarning: invalid value encountered in true_divide\n",
      "  if __name__ == '__main__':\n"
     ]
    },
    {
     "data": {
      "text/plain": [
       "array([-1.        , -1.33333333, -2.        , -4.        ,         nan,\n",
       "        4.        ,  2.        ,  1.33333333,  1.        ])"
      ]
     },
     "execution_count": 18,
     "metadata": {},
     "output_type": "execute_result"
    }
   ],
   "source": [
    "x_array / y_array"
   ]
  },
  {
   "cell_type": "markdown",
   "metadata": {},
   "source": [
    "## Arrays multidimensionales\n",
    "\n",
    "### matrices 2D\n",
    "\n",
    "NumPy puede crear matrices de N dimensiones. Por ejemplo, una matriz 2D es como una matriz, y se crea a partir de una lista anidada de la siguiente manera:"
   ]
  },
  {
   "cell_type": "code",
   "execution_count": 19,
   "metadata": {},
   "outputs": [
    {
     "name": "stdout",
     "output_type": "stream",
     "text": [
      "[[1 2]\n",
      " [3 4]]\n"
     ]
    }
   ],
   "source": [
    "array_2d = numpy.array([[1, 2], [3, 4]])\n",
    "print(array_2d)"
   ]
  },
  {
   "cell_type": "markdown",
   "metadata": {},
   "source": [
    "Las matrices 2D se pueden agregar, restar y multiplicar:"
   ]
  },
  {
   "cell_type": "code",
   "execution_count": 20,
   "metadata": {
    "collapsed": true
   },
   "outputs": [],
   "source": [
    "X = numpy.array([[1, 2], [3, 4]])\n",
    "Y = numpy.array([[1, -1], [0, 1]])"
   ]
  },
  {
   "cell_type": "markdown",
   "metadata": {},
   "source": [
    "La adición de estas dos matrices funciona exactamente como era de esperar:"
   ]
  },
  {
   "cell_type": "code",
   "execution_count": 21,
   "metadata": {},
   "outputs": [
    {
     "data": {
      "text/plain": [
       "array([[2, 1],\n",
       "       [3, 5]])"
      ]
     },
     "execution_count": 21,
     "metadata": {},
     "output_type": "execute_result"
    }
   ],
   "source": [
    "X + Y"
   ]
  },
  {
   "cell_type": "markdown",
   "metadata": {},
   "source": [
    "¿Qué pasa si tratamos de multiplicar matrices utilizando el operador `'*'`?"
   ]
  },
  {
   "cell_type": "code",
   "execution_count": 22,
   "metadata": {},
   "outputs": [
    {
     "data": {
      "text/plain": [
       "array([[ 1, -2],\n",
       "       [ 0,  4]])"
      ]
     },
     "execution_count": 22,
     "metadata": {},
     "output_type": "execute_result"
    }
   ],
   "source": [
    "X * Y"
   ]
  },
  {
   "cell_type": "markdown",
   "metadata": {},
   "source": [
    "La multiplicación usando el operador `'*'` es por elementos. Si queremos hacer una multiplicación matricial usamos el operador `'@'`:"
   ]
  },
  {
   "cell_type": "code",
   "execution_count": 23,
   "metadata": {},
   "outputs": [
    {
     "data": {
      "text/plain": [
       "array([[1, 1],\n",
       "       [3, 1]])"
      ]
     },
     "execution_count": 23,
     "metadata": {},
     "output_type": "execute_result"
    }
   ],
   "source": [
    "X @ Y"
   ]
  },
  {
   "cell_type": "markdown",
   "metadata": {},
   "source": [
    "O de manera equivalente, podemos usar `numpy.dot ()`:"
   ]
  },
  {
   "cell_type": "code",
   "execution_count": 24,
   "metadata": {},
   "outputs": [
    {
     "data": {
      "text/plain": [
       "array([[1, 1],\n",
       "       [3, 1]])"
      ]
     },
     "execution_count": 24,
     "metadata": {},
     "output_type": "execute_result"
    }
   ],
   "source": [
    "numpy.dot(X, Y)"
   ]
  },
  {
   "cell_type": "markdown",
   "metadata": {},
   "source": [
    "### matrices 3D\n",
    "\n",
    "Vamos a crear una matriz 3D remodelando una matriz 1D. Podemos usar [`numpy.reshape ()`](https://docs.scipy.org/doc/numpy/reference/generated/numpy.reshape.html), donde pasamos la matriz que queremos remodelar y la forma queremos darlo, es decir, la cantidad de elementos en cada dimensión.\n",
    "\n",
    "*Sintaxis*\n",
    " \n",
    "`numpy.reshape (array, newshape)`\n",
    "\n",
    "Por ejemplo:"
   ]
  },
  {
   "cell_type": "code",
   "execution_count": 25,
   "metadata": {
    "collapsed": true
   },
   "outputs": [],
   "source": [
    "a = numpy.arange(24)"
   ]
  },
  {
   "cell_type": "code",
   "execution_count": 26,
   "metadata": {},
   "outputs": [
    {
     "name": "stdout",
     "output_type": "stream",
     "text": [
      "[[[ 0  1  2  3]\n",
      "  [ 4  5  6  7]\n",
      "  [ 8  9 10 11]]\n",
      "\n",
      " [[12 13 14 15]\n",
      "  [16 17 18 19]\n",
      "  [20 21 22 23]]]\n"
     ]
    }
   ],
   "source": [
    "a_3D = numpy.reshape(a, (2, 3, 4))\n",
    "print(a_3D)"
   ]
  },
  {
   "cell_type": "markdown",
   "metadata": {},
   "source": [
    "Podemos verificar la forma de una matriz NumPy usando la función `numpy.shape ()`:"
   ]
  },
  {
   "cell_type": "code",
   "execution_count": 27,
   "metadata": {},
   "outputs": [
    {
     "data": {
      "text/plain": [
       "(2, 3, 4)"
      ]
     },
     "execution_count": 27,
     "metadata": {},
     "output_type": "execute_result"
    }
   ],
   "source": [
    "numpy.shape(a_3D)"
   ]
  },
  {
   "cell_type": "markdown",
   "metadata": {},
   "source": [
    "Visualizar las dimensiones de la matriz `a_3D` puede ser complicado, así que aquí hay un diagrama que lo ayudará a comprender cómo se asignan las dimensiones: cada dimensión se muestra como un eje de coordenadas. Para una matriz 3D, en el \"eje x\", tenemos las sub-matrices que son bidimensionales (matrices). Tenemos dos de estas sub-matrices 2D, en este caso; cada uno tiene 3 filas y 4 columnas. Estudie este boceto cuidadosamente, mientras compara con la forma en que se imprime la matriz `a_3D`.\n",
    "\n",
    "<img src = \"../ images/3d_array_sketch.png\" style = \"width: 400px;\" />"
   ]
  },
  {
   "cell_type": "markdown",
   "metadata": {
    "collapsed": true
   },
   "source": [
    "Cuando tenemos matrices multidimensionales, podemos acceder a porciones de sus elementos cortando en cada dimensión. Esta es una de las ventajas del uso de matrices: no podemos hacer esto con listas.\n",
    "\n",
    "Accedamos a algunos elementos de nuestra matriz 2D llamada `X`."
   ]
  },
  {
   "cell_type": "code",
   "execution_count": 28,
   "metadata": {},
   "outputs": [
    {
     "data": {
      "text/plain": [
       "array([[1, 2],\n",
       "       [3, 4]])"
      ]
     },
     "execution_count": 28,
     "metadata": {},
     "output_type": "execute_result"
    }
   ],
   "source": [
    "X"
   ]
  },
  {
   "cell_type": "code",
   "execution_count": 29,
   "metadata": {},
   "outputs": [
    {
     "data": {
      "text/plain": [
       "1"
      ]
     },
     "execution_count": 29,
     "metadata": {},
     "output_type": "execute_result"
    }
   ],
   "source": [
    "# Grab the element in the 1st row and 1st column \n",
    "X[0, 0]"
   ]
  },
  {
   "cell_type": "code",
   "execution_count": 30,
   "metadata": {},
   "outputs": [
    {
     "data": {
      "text/plain": [
       "2"
      ]
     },
     "execution_count": 30,
     "metadata": {},
     "output_type": "execute_result"
    }
   ],
   "source": [
    "# Grab the element in the 1st row and 2nd column \n",
    "X[0, 1]"
   ]
  },
  {
   "cell_type": "markdown",
   "metadata": {},
   "source": [
    "##### Ejercicios:\n",
    "\n",
    "De la matriz X:\n",
    "\n",
    "1. Coge el segundo elemento en la primera columna.\n",
    "2. Coge el segundo elemento en la segunda columna."
   ]
  },
  {
   "cell_type": "markdown",
   "metadata": {},
   "source": [
    "Juega con cortar en esta matriz:"
   ]
  },
  {
   "cell_type": "code",
   "execution_count": 31,
   "metadata": {},
   "outputs": [
    {
     "data": {
      "text/plain": [
       "array([1, 3])"
      ]
     },
     "execution_count": 31,
     "metadata": {},
     "output_type": "execute_result"
    }
   ],
   "source": [
    "# Grab the 1st column\n",
    "X[:, 0]"
   ]
  },
  {
   "cell_type": "markdown",
   "metadata": {},
   "source": [
    "Cuando no especificamos el punto inicial y/o final en el corte, el símbolo `':'` significa \"todo\". En el ejemplo anterior, le estamos diciendo a NumPy que queremos todos los elementos del índice 0 en la segunda dimensión (la primera columna)."
   ]
  },
  {
   "cell_type": "code",
   "execution_count": 32,
   "metadata": {},
   "outputs": [
    {
     "data": {
      "text/plain": [
       "array([1, 2])"
      ]
     },
     "execution_count": 32,
     "metadata": {},
     "output_type": "execute_result"
    }
   ],
   "source": [
    "# Grab the 1st row\n",
    "X[0, :]"
   ]
  },
  {
   "cell_type": "markdown",
   "metadata": {},
   "source": [
    "##### Ejercicios:\n",
    "\n",
    "De la matriz X:\n",
    "\n",
    "1. Coge la segunda columna.\n",
    "2. Coge la segunda fila."
   ]
  },
  {
   "cell_type": "markdown",
   "metadata": {},
   "source": [
    "Practiquemos con una matriz 3D."
   ]
  },
  {
   "cell_type": "code",
   "execution_count": 33,
   "metadata": {},
   "outputs": [
    {
     "data": {
      "text/plain": [
       "array([[[ 0,  1,  2,  3],\n",
       "        [ 4,  5,  6,  7],\n",
       "        [ 8,  9, 10, 11]],\n",
       "\n",
       "       [[12, 13, 14, 15],\n",
       "        [16, 17, 18, 19],\n",
       "        [20, 21, 22, 23]]])"
      ]
     },
     "execution_count": 33,
     "metadata": {},
     "output_type": "execute_result"
    }
   ],
   "source": [
    "a_3D"
   ]
  },
  {
   "cell_type": "markdown",
   "metadata": {},
   "source": [
    "Si queremos tomar la primera columna de ambas matrices en nuestra matriz `a_3D`, hacemos:"
   ]
  },
  {
   "cell_type": "code",
   "execution_count": 34,
   "metadata": {},
   "outputs": [
    {
     "data": {
      "text/plain": [
       "array([[ 0,  4,  8],\n",
       "       [12, 16, 20]])"
      ]
     },
     "execution_count": 34,
     "metadata": {},
     "output_type": "execute_result"
    }
   ],
   "source": [
    "a_3D[:, :, 0]"
   ]
  },
  {
   "cell_type": "markdown",
   "metadata": {},
   "source": [
    "La línea de arriba le está diciendo a NumPy que queremos:\n",
    "\n",
    "* first `':'`: desde la primera dimensión, toma todos los elementos (2 matrices).\n",
    "* second `':'`: desde la segunda dimensión, toma todos los elementos (todas las filas).\n",
    "* `'0'`: desde la tercera dimensión, toma el primer elemento (primera columna).\n",
    "\n",
    "Si queremos los primeros 2 elementos de la primera columna de ambas matrices:"
   ]
  },
  {
   "cell_type": "code",
   "execution_count": 35,
   "metadata": {},
   "outputs": [
    {
     "data": {
      "text/plain": [
       "array([[ 0,  4],\n",
       "       [12, 16]])"
      ]
     },
     "execution_count": 35,
     "metadata": {},
     "output_type": "execute_result"
    }
   ],
   "source": [
    "a_3D[:, 0:2, 0]"
   ]
  },
  {
   "cell_type": "markdown",
   "metadata": {},
   "source": [
    "A continuación, desde la primera matriz de nuestra matriz `a_3D`, tomaremos los dos elementos intermedios (5,6):"
   ]
  },
  {
   "cell_type": "code",
   "execution_count": 36,
   "metadata": {},
   "outputs": [
    {
     "data": {
      "text/plain": [
       "array([5, 6])"
      ]
     },
     "execution_count": 36,
     "metadata": {},
     "output_type": "execute_result"
    }
   ],
   "source": [
    "a_3D[0, 1, 1:3]"
   ]
  },
  {
   "cell_type": "markdown",
   "metadata": {},
   "source": [
    "##### Ejercicios:\n",
    "\n",
    "De la matriz llamada `a_3D`:\n",
    "\n",
    "1. Toma los dos elementos del medio (17, 18) de la segunda matriz.\n",
    "2. Coge la última fila de ambas matrices.\n",
    "3. Tome los elementos de la primera matriz que excluyen la primera fila y la primera columna.\n",
    "4. Tome los elementos de la 2da matriz que excluyen la última fila y la última columna."
   ]
  },
  {
   "cell_type": "markdown",
   "metadata": {},
   "source": [
    "## NumPy == ¡Rápido y limpio!\n",
    "\n",
    "Cuando trabajamos con números, los arreglos son una mejor opción porque la biblioteca NumPy tiene funciones integradas que están optimizadas y, por lo tanto, son más rápidas que las de Python. Especialmente si tenemos grandes arreglos. Además, usar matrices NumPy y explotar sus propiedades hace que nuestro código sea más legible.\n",
    "\n",
    "Por ejemplo, si quisiéramos agregar elemento-sabio los elementos de 2 listas, necesitamos hacerlo con una declaración `for`. Si queremos agregar dos matrices NumPy, simplemente usamos el símbolo de suma `'+'`!\n",
    "\n",
    "A continuación, agregaremos dos listas y dos matrices (con elementos aleatorios) y compararemos el tiempo que lleva computar cada adición."
   ]
  },
  {
   "cell_type": "markdown",
   "metadata": {},
   "source": [
    "### Suma de elementos de una lista de Python\n",
    "\n",
    "Usando la biblioteca de Python [`random`](https://docs.python.org/3/library/random.html), generaremos dos listas con 100 elementos pseudoaleatorios en el rango [0,100), sin números repetido."
   ]
  },
  {
   "cell_type": "code",
   "execution_count": 37,
   "metadata": {
    "collapsed": true
   },
   "outputs": [],
   "source": [
    "#import random library\n",
    "import random"
   ]
  },
  {
   "cell_type": "code",
   "execution_count": 38,
   "metadata": {
    "collapsed": true
   },
   "outputs": [],
   "source": [
    "lst_1 = random.sample(range(100), 100)\n",
    "lst_2 = random.sample(range(100), 100)"
   ]
  },
  {
   "cell_type": "code",
   "execution_count": 39,
   "metadata": {},
   "outputs": [
    {
     "name": "stdout",
     "output_type": "stream",
     "text": [
      "[69, 21, 55, 9, 12, 57, 75, 81, 15, 17]\n",
      "[57, 29, 94, 67, 51, 71, 78, 55, 41, 72]\n"
     ]
    }
   ],
   "source": [
    "#print first 10 elements\n",
    "print(lst_1[0:10])\n",
    "print(lst_2[0:10])"
   ]
  },
  {
   "cell_type": "markdown",
   "metadata": {},
   "source": [
    "Necesitamos escribir una declaración `for`, añadiendo el resultado de la suma de elementos a una nueva lista que llamamos` result_lst`.\n",
    "\n",
    "Para el tiempo, podemos usar el IPython \"mágico\" `%% time`. Escribiendo al comienzo de la celda de código, el comando `%% time` nos dará el tiempo que lleva ejecutar todo el código en esa celda."
   ]
  },
  {
   "cell_type": "code",
   "execution_count": 40,
   "metadata": {},
   "outputs": [
    {
     "name": "stdout",
     "output_type": "stream",
     "text": [
      "CPU times: user 36 µs, sys: 1 µs, total: 37 µs\n",
      "Wall time: 38.9 µs\n"
     ]
    }
   ],
   "source": [
    "%%time\n",
    "res_lst = []\n",
    "for i in range(100):\n",
    "    res_lst.append(lst_1[i] + lst_2[i])"
   ]
  },
  {
   "cell_type": "code",
   "execution_count": 41,
   "metadata": {},
   "outputs": [
    {
     "name": "stdout",
     "output_type": "stream",
     "text": [
      "[126, 50, 149, 76, 63, 128, 153, 136, 56, 89]\n"
     ]
    }
   ],
   "source": [
    "print(res_lst[0:10])"
   ]
  },
  {
   "cell_type": "markdown",
   "metadata": {},
   "source": [
    "### Suma de elementos de las matrices NumPy\n",
    "\n",
    "En este caso, generamos matrices con enteros aleatorios usando la función NumPy [`numpy.random.randint ()`](https://docs.scipy.org/doc/numpy-1.13.0/reference/generated/numpy. random.randint.html). Las matrices que generamos con esta función no serán como las listas: en este caso, tendremos 100 elementos en el rango [0, 100) pero pueden repetirse. Nuestro objetivo es comparar el tiempo que lleva computar la adición de una lista o un grupo de números, de modo que todo lo que importa es que las matrices y las listas son de la misma longitud y tipo (enteros)."
   ]
  },
  {
   "cell_type": "code",
   "execution_count": 42,
   "metadata": {
    "collapsed": true
   },
   "outputs": [],
   "source": [
    "arr_1 = numpy.random.randint(0, 100, size=100)\n",
    "arr_2 = numpy.random.randint(0, 100, size=100)"
   ]
  },
  {
   "cell_type": "code",
   "execution_count": 43,
   "metadata": {},
   "outputs": [
    {
     "name": "stdout",
     "output_type": "stream",
     "text": [
      "[31 13 72 30 13 29 34 64 26 56]\n",
      "[ 3 57 63 51 35 75 56 59 86 50]\n"
     ]
    }
   ],
   "source": [
    "#print first 10 elements\n",
    "print(arr_1[0:10])\n",
    "print(arr_2[0:10])"
   ]
  },
  {
   "cell_type": "markdown",
   "metadata": {},
   "source": [
    "Ahora podemos usar la magia de la celda `%% time`, nuevamente, para ver cuánto tarda NumPy en calcular la suma de elementos."
   ]
  },
  {
   "cell_type": "code",
   "execution_count": 44,
   "metadata": {},
   "outputs": [
    {
     "name": "stdout",
     "output_type": "stream",
     "text": [
      "CPU times: user 20 µs, sys: 1 µs, total: 21 µs\n",
      "Wall time: 26 µs\n"
     ]
    }
   ],
   "source": [
    "%%time\n",
    "arr_res = arr_1 + arr_2"
   ]
  },
  {
   "cell_type": "markdown",
   "metadata": {},
   "source": [
    "Tenga en cuenta que en el caso de las matrices, el código no solo es más legible (solo una línea de código), sino que también es más rápido que con las listas. Esta vez, la ventaja será mayor con matrices/listas más grandes.\n",
    "\n",
    "(Sus resultados de tiempo pueden variar a los que mostramos en este cuaderno, porque estará computando en una máquina diferente)."
   ]
  },
  {
   "cell_type": "markdown",
   "metadata": {},
   "source": [
    "##### Ejercicio\n",
    "\n",
    "1. Pruebe la comparación entre listas y matrices, usando matrices más grandes; por ejemplo, de tamaño 10,000.\n",
    "2. Repita el análisis, pero ahora calcula la operación que eleva cada elemento de una matriz/lista a la potencia dos. Usa arreglos de 10,000 elementos."
   ]
  },
  {
   "cell_type": "markdown",
   "metadata": {},
   "source": [
    "## Tiempo para trazar\n",
    "\n",
    "¡Te encantará la biblioteca de Python ** Matplotlib **! Aprenderá aquí sobre su módulo `pyplot`, que hace gráficos de líneas.\n",
    "\n",
    "Necesitamos algunos datos para trazar. Definamos una matriz NumPy, calcule los datos derivados usando su cuadrado, cubo y raíz cuadrada (elemento-sabio), y trace estos valores con la matriz original en el eje x."
   ]
  },
  {
   "cell_type": "code",
   "execution_count": 45,
   "metadata": {},
   "outputs": [
    {
     "name": "stdout",
     "output_type": "stream",
     "text": [
      "[ 0.    0.05  0.1   0.15  0.2   0.25  0.3   0.35  0.4   0.45  0.5   0.55\n",
      "  0.6   0.65  0.7   0.75  0.8   0.85  0.9   0.95  1.    1.05  1.1   1.15\n",
      "  1.2   1.25  1.3   1.35  1.4   1.45  1.5   1.55  1.6   1.65  1.7   1.75\n",
      "  1.8   1.85  1.9   1.95  2.  ]\n"
     ]
    }
   ],
   "source": [
    "xarray = numpy.linspace(0, 2, 41)\n",
    "print(xarray)"
   ]
  },
  {
   "cell_type": "code",
   "execution_count": 46,
   "metadata": {
    "collapsed": true
   },
   "outputs": [],
   "source": [
    "pow2 = xarray**2\n",
    "pow3 = xarray**3\n",
    "pow_half = numpy.sqrt(xarray)"
   ]
  },
  {
   "cell_type": "markdown",
   "metadata": {},
   "source": [
    "Para trazar las matrices resultantes como una función de la original (`xarray`) en el eje x, necesitamos importar el módulo` pyplot` de ** Matplotlib **."
   ]
  },
  {
   "cell_type": "code",
   "execution_count": 47,
   "metadata": {
    "collapsed": true
   },
   "outputs": [],
   "source": [
    "from matplotlib import pyplot\n",
    "%matplotlib inline"
   ]
  },
  {
   "cell_type": "markdown",
   "metadata": {},
   "source": [
    "El comando `% matplotlib inline` está ahí para obtener nuestros trazados dentro del portátil (en lugar de una ventana emergente, que es el comportamiento predeterminado de` pyplot`).\n",
    "\n",
    "Utilizaremos la función `pyplot.plot ()`, especificando el color de línea (`'k'` para negro) y el estilo de línea (`' -'`, `'-'` y `':'` para línea continua, punteada y punteada), y dando a cada línea una etiqueta. Tenga en cuenta que los valores para `color`,` linestyle` y `label` se dan entre comillas."
   ]
  },
  {
   "cell_type": "code",
   "execution_count": 48,
   "metadata": {},
   "outputs": [
    {
     "data": {
      "text/plain": [
       "<matplotlib.legend.Legend at 0x10b224ac8>"
      ]
     },
     "execution_count": 48,
     "metadata": {},
     "output_type": "execute_result"
    },
    {
     "data": {
      "image/png": "[encoded data removed]",
      "text/plain": [
       "<matplotlib.figure.Figure at 0x10b13e908>"
      ]
     },
     "metadata": {},
     "output_type": "display_data"
    }
   ],
   "source": [
    "#Plot x^2\n",
    "pyplot.plot(xarray, pow2, color='k', linestyle='-', label='square')\n",
    "#Plot x^3\n",
    "pyplot.plot(xarray, pow3, color='k', linestyle='--', label='cube')\n",
    "#Plot sqrt(x)\n",
    "pyplot.plot(xarray, pow_half, color='k', linestyle=':', label='square root')\n",
    "#Plot the legends in the best location\n",
    "pyplot.legend(loc='best')"
   ]
  },
  {
   "cell_type": "markdown",
   "metadata": {},
   "source": [
    "Para ilustrar otras características, trazaremos los mismos datos, pero variando los colores en lugar del estilo de línea. También usaremos la sintaxis LaTeX para escribir fórmulas en las etiquetas. Si desea obtener más información sobre la sintaxis de LaTeX, hay una [guía rápida de LaTeX](https://users.dickinson.edu/~richesod/latex/latexcheatsheet.pdf) disponible en línea.\n",
    "\n",
    "Agregar un punto y coma (`';'`) a la última línea del bloque de código de trazado evita esa salida fea, como `<matplotlib.legend.Legend at 0x7f8c83cc7898>`. Intentalo."
   ]
  },
  {
   "cell_type": "code",
   "execution_count": 49,
   "metadata": {},
   "outputs": [
    {
     "data": {
      "image/png": "[encoded data removed]",
      "text/plain": [
       "<matplotlib.figure.Figure at 0x10b240cc0>"
      ]
     },
     "metadata": {},
     "output_type": "display_data"
    }
   ],
   "source": [
    "#Plot x^2\n",
    "pyplot.plot(xarray, pow2, color='red', linestyle='-', label='$x^2$')\n",
    "#Plot x^3\n",
    "pyplot.plot(xarray, pow3, color='green', linestyle='-', label='$x^3$')\n",
    "#Plot sqrt(x)\n",
    "pyplot.plot(xarray, pow_half, color='blue', linestyle='-', label='$\\sqrt{x}$')\n",
    "#Plot the legends in the best location\n",
    "pyplot.legend(loc='best'); "
   ]
  },
  {
   "cell_type": "markdown",
   "metadata": {},
   "source": [
    "Eso es muy bueno! Por ahora, probablemente estés imaginando todo lo bueno que puedes hacer con los cuadernos Jupyter, Python y sus bibliotecas científicas ** NumPy ** y ** Matplotlib **. Acabamos de ver una introducción al trazado pero seguiremos aprendiendo sobre el poder de ** Matplotlib ** en la próxima lección.\n",
    "\n",
    "Si tiene curiosidad, puede explorar todas las parcelas hermosas que puede hacer navegando por la [galería Matplotlib](http://matplotlib.org/gallery.html)."
   ]
  },
  {
   "cell_type": "markdown",
   "metadata": {},
   "source": [
    "##### Ejercicio:\n",
    "\n",
    "Elija dos operaciones diferentes para aplicar a `xarray` y grábelas con los datos resultantes en la misma gráfica."
   ]
  },
  {
   "cell_type": "markdown",
   "metadata": {},
   "source": [
    "## Lo que hemos aprendido\n",
    "\n",
    "* Cómo importar bibliotecas\n",
    "* Arrays multidimensionales usando NumPy\n",
    "* Acceder a valores y cortar en matrices NumPy\n",
    "* Magia `%% time` para cronometrar la ejecución de la celda.\n",
    "* Comparación de rendimiento: listas vs matrices NumPy\n",
    "* Trazado básico con `pyplot`."
   ]
  },
  {
   "cell_type": "markdown",
   "metadata": {},
   "source": [
    "## Referencias\n",
    "\n",
    "1. _Eficaz de Computación en Física: Guía de campo para la investigación con Python_ (2015). Anthony Scopatz y Kathryn D. Huff. O'Reilly Media, Inc.\n",
    "\n",
    "2. _Numerical Python: un enfoque de técnicas prácticas para la industria_. (2015). Robert Johansson. Apretar\n",
    "\n",
    "2. [\"El mundo de Jupyter\" -un tutorial](https://github.com/barbagroup/jupyter-tutorial). Lorena A. Barba - 2016"
   ]
  },
  {
   "cell_type": "code",
   "execution_count": 50,
   "metadata": {},
   "outputs": [
    {
     "data": {
      "text/html": [
       "<link href=\"https://fonts.googleapis.com/css?family=Merriweather:300,300i,400,400i,700,700i,900,900i\" rel=\"stylesheet\">\n",
       "<link href=\"https://fonts.googleapis.com/css?family=Source+Sans+Pro:300,300i,400,400i,700,700i\" rel=\"stylesheet\">\n",
       "<link href='http://fonts.googleapis.com/css?family=Source+Code+Pro:300,400' rel='stylesheet' type='text/css'>\n",
       "<style>\n",
       "\n",
       "@font-face {\n",
       "    font-family: \"Computer Modern\";\n",
       "    src: url('http://mirrors.ctan.org/fonts/cm-unicode/fonts/otf/cmunss.otf');\n",
       "}\n",
       "\n",
       "\n",
       "#notebook_panel { /* main background */\n",
       "    background: rgb(245,245,245);\n",
       "}\n",
       "\n",
       "div.cell { /* set cell width */\n",
       "    width: 800px;\n",
       "}\n",
       "\n",
       "div #notebook { /* centre the content */\n",
       "    background: #fff; /* white background for content */\n",
       "    width: 1000px;\n",
       "    margin: auto;\n",
       "    padding-left: 0em;\n",
       "}\n",
       "\n",
       "#notebook li { /* More space between bullet points */\n",
       "margin-top:0.8em;\n",
       "}\n",
       "\n",
       "/* draw border around running cells */\n",
       "div.cell.border-box-sizing.code_cell.running { \n",
       "    border: 1px solid #111;\n",
       "}\n",
       "\n",
       "/* Put a solid color box around each cell and its output, visually linking them*/\n",
       "div.cell.code_cell {\n",
       "    background-color: rgb(256,256,256); \n",
       "    border-radius: 0px; \n",
       "    padding: 0.5em;\n",
       "    margin-left:1em;\n",
       "    margin-top: 1em;\n",
       "}\n",
       "\n",
       "\n",
       "div.text_cell_render{\n",
       "    font-family: 'Source Sans Pro', sans-serif;\n",
       "    line-height: 140%;\n",
       "    font-size: 110%;\n",
       "    width:680px;\n",
       "    margin-left:auto;\n",
       "    margin-right:auto;\n",
       "}\n",
       "\n",
       "/* Formatting for header cells */\n",
       ".text_cell_render h1 {\n",
       "    font-family: 'Merriweather', serif;\n",
       "    font-style:regular;\n",
       "    font-weight: bold;    \n",
       "    font-size: 250%;\n",
       "    line-height: 100%;\n",
       "    color: #004065;\n",
       "    margin-bottom: 1em;\n",
       "    margin-top: 0.5em;\n",
       "    display: block;\n",
       "}\t\n",
       ".text_cell_render h2 {\n",
       "    font-family: 'Merriweather', serif;\n",
       "    font-weight: bold; \n",
       "    font-size: 180%;\n",
       "    line-height: 100%;\n",
       "    color: #0096d6;\n",
       "    margin-bottom: 0.5em;\n",
       "    margin-top: 0.5em;\n",
       "    display: block;\n",
       "}\t\n",
       "\n",
       ".text_cell_render h3 {\n",
       "    font-family: 'Merriweather', serif;\n",
       "\tfont-size: 150%;\n",
       "    margin-top:12px;\n",
       "    margin-bottom: 3px;\n",
       "    font-style: regular;\n",
       "    color: #008367;\n",
       "}\n",
       "\n",
       ".text_cell_render h4 {    /*Use this for captions*/\n",
       "    font-family: 'Merriweather', serif;\n",
       "    font-weight: 300; \n",
       "    font-size: 100%;\n",
       "    line-height: 120%;\n",
       "    text-align: center;\n",
       "    margin-top: 1em;\n",
       "    margin-bottom: 2em;\n",
       "    font-style: regular;\n",
       "}\n",
       "\n",
       ".text_cell_render h5 {  /*Use this for small titles*/\n",
       "    font-family: 'Source Sans Pro', sans-serif;\n",
       "    font-weight: regular;\n",
       "    font-size: 130%;\n",
       "    color: #e31937;\n",
       "    font-style: italic;\n",
       "    margin-bottom: .5em;\n",
       "    margin-top: 1em;\n",
       "    display: block;\n",
       "}\n",
       "\n",
       ".text_cell_render h6 { /*use this for copyright note*/\n",
       "    font-family: 'Source Code Pro', sans-serif;\n",
       "    font-weight: 300;\n",
       "    font-size: 9pt;\n",
       "    line-height: 100%;\n",
       "    color: grey;\n",
       "    margin-bottom: 1px;\n",
       "    margin-top: 1px;\n",
       "}\n",
       "\n",
       "    .CodeMirror{\n",
       "            font-family: \"Source Code Pro\";\n",
       "\t\t\tfont-size: 90%;\n",
       "    }\n",
       "/*    .prompt{\n",
       "        display: None;\n",
       "    }*/\n",
       "\t\n",
       "    \n",
       "    .warning{\n",
       "        color: rgb( 240, 20, 20 )\n",
       "        }  \n",
       "</style>\n",
       "<script>\n",
       "    MathJax.Hub.Config({\n",
       "                        TeX: {\n",
       "                           extensions: [\"AMSmath.js\"], \n",
       "                           equationNumbers: { autoNumber: \"AMS\", useLabelIds: true}\n",
       "                           },\n",
       "                tex2jax: {\n",
       "                    inlineMath: [ ['$','$'], [\"\\\\(\",\"\\\\)\"] ],\n",
       "                    displayMath: [ ['$$','$$'], [\"\\\\[\",\"\\\\]\"] ]\n",
       "                },\n",
       "                displayAlign: 'center', // Change this to 'center' to center equations.\n",
       "                \"HTML-CSS\": {\n",
       "                    styles: {'.MathJax_Display': {\"margin\": 4}}\n",
       "                }\n",
       "        });\n",
       "</script>\n"
      ],
      "text/plain": [
       "<IPython.core.display.HTML object>"
      ]
     },
     "execution_count": 50,
     "metadata": {},
     "output_type": "execute_result"
    }
   ],
   "source": [
    "# Execute this cell to load the notebook's style sheet, then ignore it\n",
    "from IPython.core.display import HTML\n",
    "css_file = '../style/custom.css'\n",
    "HTML(open(css_file, \"r\").read())"
   ]
  }
 ],
 "metadata": {
  "kernelspec": {
   "display_name": "Python 3",
   "language": "python",
   "name": "python3"
  },
  "language_info": {
   "codemirror_mode": {
    "name": "ipython",
    "version": 3
   },
   "file_extension": ".py",
   "mimetype": "text/x-python",
   "name": "python",
   "nbconvert_exporter": "python",
   "pygments_lexer": "ipython3",
   "version": "3.5.3"
  },
  "widgets": {
   "state": {},
   "version": "1.1.2"
  }
 },
 "nbformat": 4,
 "nbformat_minor": 2
}
