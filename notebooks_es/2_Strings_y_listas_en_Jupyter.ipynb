{
 "cells": [
  {
   "cell_type": "markdown",
   "metadata": {},
   "source": [
    "###### Contenido bajo licencia Creative Commons Attribution CC-BY 4.0, código bajo licencia BSD 3-Clause © 2017 L.A. Barba, N.C. Clementi"
   ]
  },
  {
   "cell_type": "markdown",
   "metadata": {},
   "source": [
    "# Juega con datos en Jupyter\n",
    "\n",
    "Esta es la segunda lección de nuestro curso en _\"Cálculos de ingeniería\". _ En la primera lección, [_Interactuando con Python_](http://nbviewer.jupyter.org/github/engineersCode/EngComp1_offtheground/blob/master/notebooks_en/1_Interacting_with_Python .ipynb), usamos ** IPython **, el shell interactivo de Python. Es realmente genial escribir expresiones de Python de una sola línea y obtener los resultados de forma interactiva. Sin embargo, lo creas o no, ¡hay cosas más grandes!\n",
    "\n",
    "En esta lección, continuarás jugando con datos usando Python, pero lo harás en un ** cuaderno Jupyter **. Esta misma lección está escrita en un cuaderno de Jupyter. Listo? Lo amarás."
   ]
  },
  {
   "cell_type": "markdown",
   "metadata": {},
   "source": [
    "## ¿Qué es Jupyter?\n",
    "\n",
    "Jupyter es un conjunto de herramientas de código abierto para la informática interactiva y exploratoria. Trabajas directamente en tu navegador, que se convierte en la interfaz de usuario a través de la cual Jupyter te proporciona un explorador de archivos (el _dashboard_) y un formato de documento: el ** cuaderno **.\n",
    "\n",
    "Un cuaderno Jupyter puede contener: entrada y salida de código, texto formateado, imágenes, videos, bonitas ecuaciones matemáticas y mucho más. El código de la computadora es _executable_, lo que significa que puede ejecutar los bits de código, directamente en el documento, y obtener la salida de ese código que se muestra para usted. Esta forma interactiva de computación, mezclada con la narrativa multimedia, le permite contar una historia (¡incluso a usted mismo) con poderes adicionales!"
   ]
  },
  {
   "cell_type": "markdown",
   "metadata": {},
   "source": [
    "## Trabajar en Jupyter\n",
    "\n",
    "Varias cosas le parecerán contraintuitivas al principio. Por ejemplo, la mayoría de las personas están acostumbradas a iniciar aplicaciones en sus computadoras haciendo clic en algún ícono: esto es lo primero que se debe \"desaprender\". Jupyter se lanza desde la línea de comando_ (como cuando lanzaste IPython). A continuación, tenemos dos tipos de contenido: código y reducción, que se manejan de forma un poco diferente. El hecho de que su navegador sea una interfaz para un motor de cómputo (llamado \"kernel\") lleva a un mantenimiento interno adicional (como cerrar el kernel). ¡Pero te acostumbrarás bastante rápido!"
   ]
  },
  {
   "cell_type": "markdown",
   "metadata": {},
   "source": [
    "### Start Jupyter\n",
    "\n",
    "La forma estándar de iniciar Jupyter es escribir lo siguiente en la interfaz de línea de comandos:\n",
    "\n",
    "`cuaderno jupyter`\n",
    "\n",
    "Presiona enter y tadah !!\n",
    "Después de un poco de tiempo de configuración, su navegador predeterminado se abrirá con la aplicación Jupyter. Debería verse como en la captura de pantalla siguiente, pero es posible que vea una lista de archivos y carpetas, según la ubicación de su computadora donde la lanzó.\n",
    "\n",
    "##### Nota:\n",
    "\n",
    "No cierre la ventana de la terminal donde lanzó Jupyter (mientras todavía está trabajando en Jupyter). Si necesita hacer otras tareas en la línea de comando, abra una nueva ventana de terminal.\n",
    "\n",
    "<img src = \"../ images/jupyter-main.png\" style = \"width: 800px;\" />\n",
    "#### Captura de pantalla del tablero de Jupyter, abierto en el navegador.\n",
    "\n",
    "\n",
    "Para iniciar un nuevo cuaderno Jupyter, haga clic en la esquina superior derecha, donde dice ** Nuevo **, y seleccione `Python 3`. Mira la captura de pantalla a continuación.\n",
    "\n",
    "<img src = \"../ images/create_notebook.png\" style = \"width: 800px;\" />\n",
    "#### Captura de pantalla que muestra cómo crear un nuevo cuaderno.\n",
    "\n",
    "Aparecerá una nueva pestaña en su navegador y verá un cuaderno vacío, con una sola línea de entrada, esperando que ingrese algún código. Ver la siguiente captura de pantalla.\n",
    "\n",
    "<img src = \"../ images/new_notebook.png\" style = \"width: 800px;\" />\n",
    "#### Captura de pantalla que muestra un nuevo cuaderno vacío.\n",
    "\n",
    "El notebook se abre de manera predeterminada con una sola celda de código vacía. Intenta escribir allí un código Python y ejecútalo presionando `[shift] + [enter]`."
   ]
  },
  {
   "cell_type": "markdown",
   "metadata": {},
   "source": [
    "### Celdas de notebook\n",
    "\n",
    "El cuaderno Jupyter usa _cells_: bloques que dividen fragmentos de texto y código. Cualquier contenido de texto se ingresa en una celda * Markdown *: contiene texto que puede formatear con marcadores simples para obtener encabezados, negrita, cursiva, viñetas, hipervínculos y más.\n",
    "\n",
    "Markdown es fácil de aprender, consulte la sintaxis en la página web [\"Daring Fireball\"](https://daringfireball.net/projects/markdown/syntax) (por John Gruber). Algunos consejos:\n",
    "\n",
    "* para crear un título, use un hash para comenzar la línea: `# Title`\n",
    "* para crear el siguiente encabezado, use dos hashes (y así sucesivamente): `## Heading`\n",
    "* para poner en cursiva una palabra o frase, enciérrelo en asteriscos (o en las líneas inferiores): `* italic *` o `_italic_`\n",
    "* para que sea negrita, enciérrelo con dos asteriscos: `** en negrita **`\n",
    "* para hacer un hipervínculo, use corchetes cuadrados y redondos: `[texto hipervinculado](url)`\n",
    "\n",
    "El contenido computable se ingresa en celdas de código. Usaremos el kernel de IPython (\"kernel\" es el nombre utilizado para el motor de computación), pero debe saber que Jupyter se puede usar con muchos lenguajes de computación diferentes. Es asombroso.\n",
    "\n",
    "Una celda de código le mostrará una marca de entrada, como esta:\n",
    "\n",
    "`En []:`\n",
    "\n",
    "Una vez que agregue un código y lo ejecute, Jupyter agregará una ID de número a la celda de entrada, y producirá una salida marcada así:\n",
    "\n",
    "`Fuera [1]:`\n",
    "\n",
    "##### Un poco de historia:\n",
    "\n",
    "Markdown fue co-creado por el legendario pero trágico [Aaron Swartz](https://en.wikipedia.org/wiki/Aaron_Swartz). El documental biográfico sobre él se llama [\"The Own Boy de Internet\"](https://en.wikipedia.org/wiki/The_Internet%27s_Own_Boy) y puedes verlo en YouTube o Netflix. ¡Recomendado!"
   ]
  },
  {
   "cell_type": "markdown",
   "metadata": {},
   "source": [
    "### Computación interactiva en el cuaderno\n",
    "\n",
    "Mire los iconos en el menú de Jupyter (vea las capturas de pantalla arriba). El primer ícono a la izquierda (un disquete viejo) es para guardar su computadora portátil. Puede agregar una nueva celda con el gran botón ** + **. Luego tiene los botones cortar, copiar y pegar. Las flechas son para mover su celda actual hacia arriba o hacia abajo. Luego tiene un botón para \"ejecutar\" una celda de código (ejecutar el código), el icono cuadrado significa \"detener\" y la flecha swirly para \"reiniciar\" el núcleo de su computadora portátil (si el cálculo está atascado, por ejemplo). Junto a eso, tiene el selector de tipo de celda: Código o Marcado (u otros que puede ignorar por ahora).\n",
    "\n",
    "Puede probar una celda de código escribiendo algunas operaciones aritméticas. Como vimos en nuestra primera lección, los operadores de Python son:\n",
    "```python\n",
    "    + - */**% //\n",
    "```\n",
    "\n",
    "Hay suma, resta, multiplicación y división. Los últimos tres operadores son _exponent_ (raise to the power of), _modulo_ (divide y devuelve el resto) y _floor division_.\n",
    "\n",
    "Tecleando `[shift] + [enter]` ejecutará la celda y le dará la salida en una nueva línea, etiquetada como `Out [1]` (la numeración aumenta cada vez que ejecuta una celda).\n",
    "\n",
    "##### ¡Intentalo!\n",
    "\n",
    "Agregue una celda con el botón más, ingrese algunas operaciones, y `[shift] + [enter]` para ejecutar."
   ]
  },
  {
   "cell_type": "code",
   "execution_count": null,
   "metadata": {
    "collapsed": true
   },
   "outputs": [],
   "source": []
  },
  {
   "cell_type": "markdown",
   "metadata": {},
   "source": [
    "Todo lo que hicimos usando IPython lo podemos hacer en celdas de código dentro de un portátil Jupyter. Pruebe algunas de las cosas que aprendimos en la lección 1:"
   ]
  },
  {
   "cell_type": "code",
   "execution_count": 1,
   "metadata": {},
   "outputs": [
    {
     "name": "stdout",
     "output_type": "stream",
     "text": [
      "Hello World!\n"
     ]
    }
   ],
   "source": [
    "print(\"Hello World!\")"
   ]
  },
  {
   "cell_type": "code",
   "execution_count": 2,
   "metadata": {},
   "outputs": [
    {
     "data": {
      "text/plain": [
       "False"
      ]
     },
     "execution_count": 2,
     "metadata": {},
     "output_type": "execute_result"
    }
   ],
   "source": [
    "x = 2**8\n",
    "x < 64"
   ]
  },
  {
   "cell_type": "markdown",
   "metadata": {},
   "source": [
    "### Modo de edición y modo de comando\n",
    "\n",
    "Una vez que haga clic en una celda de la notebook para seleccionarla, puede interactuar con ella de dos maneras, que se llaman _modes_. Más adelante, cuando revise este material nuevamente, lea más sobre esto en la Referencia 1.\n",
    "\n",
    "**Modo de edición:**\n",
    "\n",
    "* Ingresamos ** al modo de edición ** presionando 'Enter' o haciendo doble clic en la celda.\n",
    "\n",
    "* Sabemos que estamos en este modo cuando vemos un borde de celda verde y un mensaje en el área de la celda.\n",
    "\n",
    "* Cuando estamos en modo de edición, podemos escribir en la celda, como un editor de texto normal.\n",
    "\n",
    "\n",
    "** Modo de comando: **\n",
    "\n",
    "* Ingresamos en ** modo de comando ** presionando `Esc` o haciendo clic fuera del área de la celda.\n",
    "\n",
    "* Sabemos que estamos en este modo cuando vemos un borde de celda gris con un margen azul izquierdo.\n",
    "\n",
    "* En este modo, ciertas teclas se asignan a accesos directos para ayudar con\n",
    "  acciones comunes.\n",
    "\n",
    "\n",
    "Puede encontrar una lista de los accesos directos seleccionando `Ayuda-> Métodos abreviados de teclado`\n",
    "desde la barra de menú del notebook. Es posible que desee dejar esto para más adelante y volver a él, pero se vuelve más útil cuanto más use Jupyter."
   ]
  },
  {
   "cell_type": "markdown",
   "metadata": {},
   "source": [
    "### Cómo cerrar el kernel y salir\n",
    "\n",
    "Cerrar la pestaña del navegador donde ha estado trabajando en una computadora portátil no \"cierra\" inmediatamente el kernel de cómputo. Entonces a veces necesitas hacer un poco de limpieza.\n",
    "\n",
    "Una vez que cierre una computadora portátil, verá en la aplicación Jupyter principal que su\n",
    "el archivo del cuaderno tiene un símbolo del libro verde al lado. Debería hacer clic en el cuadro a la izquierda de ese símbolo, y luego hacer clic donde dice ** Apagar **. No necesita hacer esto todo el tiempo, pero si tiene un lote de computadoras portátiles en ejecución, usarán recursos en su máquina.\n",
    "\n",
    "Del mismo modo, Jupyter aún se está ejecutando incluso después de cerrar la pestaña que tiene abierto el tablero de Jupyter. Para salir de la aplicación Jupyter, debe ir a la terminal que utilizó para abrir Jupyter, y escriba `[Ctrl] + [c]` para salir."
   ]
  },
  {
   "cell_type": "markdown",
   "metadata": {},
   "source": [
    "### Nbviewer\n",
    "\n",
    "[Nbviewer](http://nbviewer.jupyter.org/) es un servicio web gratuito que le permite compartir versiones estáticas de archivos portátiles alojados, como si se tratara de una página web. Si un archivo de computadora portátil está disponible públicamente en la web, puede verlo ingresando su URL en la página web de nbviewer y presionando el botón ** Ir! **. El cuaderno se representará como una página estática: los visitantes pueden leer todo, pero no pueden interactuar con el código."
   ]
  },
  {
   "cell_type": "markdown",
   "metadata": {},
   "source": [
    "## Juega con cadenas de Python\n",
    "\n",
    "Sigamos jugando con cadenas, pero ahora codificamos en un cuaderno Jupyter (en lugar de IPython). Le recomendamos que abra un nuevo cuaderno limpio para seguir los ejemplos de esta lección y escriba los comandos que ve. (Si copia y pega, ahorrará tiempo, pero aprenderá poco. ¡Tipee todo!)"
   ]
  },
  {
   "cell_type": "code",
   "execution_count": 3,
   "metadata": {
    "collapsed": true
   },
   "outputs": [],
   "source": [
    "str_1 = 'hello'\n",
    "str_2 = 'world'"
   ]
  },
  {
   "cell_type": "markdown",
   "metadata": {},
   "source": [
    "Recuerde que podemos concatenar cadenas (\"agregar\"), por ejemplo:"
   ]
  },
  {
   "cell_type": "code",
   "execution_count": 4,
   "metadata": {},
   "outputs": [
    {
     "name": "stdout",
     "output_type": "stream",
     "text": [
      "helloworld\n"
     ]
    }
   ],
   "source": [
    "new_string = str_1 + str_2\n",
    "print(new_string)"
   ]
  },
  {
   "cell_type": "markdown",
   "metadata": {},
   "source": [
    "¿Qué ocurre si queremos agregar un espacio que separa `hello` from` world`? Añadimos directamente la cadena `''` en el medio de las dos variables. Un espacio es un personaje!"
   ]
  },
  {
   "cell_type": "code",
   "execution_count": 5,
   "metadata": {},
   "outputs": [
    {
     "name": "stdout",
     "output_type": "stream",
     "text": [
      "hello world\n"
     ]
    }
   ],
   "source": [
    "my_string = str_1 + ' ' + str_2\n",
    "print(my_string)"
   ]
  },
  {
   "cell_type": "markdown",
   "metadata": {},
   "source": [
    "##### Ejercicio:\n",
    "\n",
    "Cree una nueva variable de cadena que agregue tres signos de admiración al final de `my_string`."
   ]
  },
  {
   "cell_type": "markdown",
   "metadata": {
    "collapsed": true
   },
   "source": [
    "### Indexación\n",
    "\n",
    "Podemos acceder a cada carácter por separado en una cadena (o un segmento continuo de ella) usando _indices_: enteros que denotan la posición del carácter en la cadena. Los índices van entre corchetes, tocando el nombre de la variable de cadena a la derecha. Por ejemplo, para acceder al primer elemento de `new_string`, debemos ingresar` new_string [0] `. ¡Sí! en Python comenzamos a contar desde 0."
   ]
  },
  {
   "cell_type": "code",
   "execution_count": 6,
   "metadata": {},
   "outputs": [
    {
     "data": {
      "text/plain": [
       "'h'"
      ]
     },
     "execution_count": 6,
     "metadata": {},
     "output_type": "execute_result"
    }
   ],
   "source": [
    "my_string[0]"
   ]
  },
  {
   "cell_type": "code",
   "execution_count": 7,
   "metadata": {},
   "outputs": [
    {
     "data": {
      "text/plain": [
       "'l'"
      ]
     },
     "execution_count": 7,
     "metadata": {},
     "output_type": "execute_result"
    }
   ],
   "source": [
    "#If we want the 3rd element we do:\n",
    "my_string[2]"
   ]
  },
  {
   "cell_type": "markdown",
   "metadata": {},
   "source": [
    "Es posible que haya notado que en la celda de arriba tenemos una línea antes del código que comienza con el signo `#`. Esa línea parece ser ignorada por Python: ¿sabes por qué?\n",
    "\n",
    "Es un comentario: cuando quiera comentar su código de Python, coloca un `#` delante del comentario. Por ejemplo:"
   ]
  },
  {
   "cell_type": "code",
   "execution_count": 8,
   "metadata": {},
   "outputs": [
    {
     "data": {
      "text/plain": [
       "'e'"
      ]
     },
     "execution_count": 8,
     "metadata": {},
     "output_type": "execute_result"
    }
   ],
   "source": [
    "my_string[1] #this is how we access the second element of a string"
   ]
  },
  {
   "cell_type": "markdown",
   "metadata": {},
   "source": [
    "¿Cómo sabemos el índice del último elemento en la cadena?\n",
    "\n",
    "Python tiene una función incorporada llamada `len ()` que proporciona la información sobre la longitud de un objeto. Vamos a intentarlo:"
   ]
  },
  {
   "cell_type": "code",
   "execution_count": 9,
   "metadata": {},
   "outputs": [
    {
     "data": {
      "text/plain": [
       "11"
      ]
     },
     "execution_count": 9,
     "metadata": {},
     "output_type": "execute_result"
    }
   ],
   "source": [
    "len(my_string)"
   ]
  },
  {
   "cell_type": "markdown",
   "metadata": {},
   "source": [
    "¡Estupendo! Ahora sabemos que `my_string` tiene once caracteres. ¿Qué sucede si ingresamos este número como índice?"
   ]
  },
  {
   "cell_type": "code",
   "execution_count": 10,
   "metadata": {},
   "outputs": [
    {
     "ename": "IndexError",
     "evalue": "string index out of range",
     "output_type": "error",
     "traceback": [
      "\u001b[0;31m---------------------------------------------------------------------------\u001b[0m",
      "\u001b[0;31mIndexError\u001b[0m                                Traceback (most recent call last)",
      "\u001b[0;32m<ipython-input-10-19e2c11e7861>\u001b[0m in \u001b[0;36m<module>\u001b[0;34m()\u001b[0m\n\u001b[0;32m----> 1\u001b[0;31m \u001b[0mmy_string\u001b[0m\u001b[0;34m[\u001b[0m\u001b[0;36m11\u001b[0m\u001b[0;34m]\u001b[0m\u001b[0;34m\u001b[0m\u001b[0m\n\u001b[0m",
      "\u001b[0;31mIndexError\u001b[0m: string index out of range"
     ]
    }
   ],
   "source": [
    "my_string[11]"
   ]
  },
  {
   "cell_type": "markdown",
   "metadata": {},
   "source": [
    "Oops. Tenemos un error: ¿por qué? Sabemos que la longitud de `my_string` es once. Pero el número entero 11 no funciona como un índice. Si esperaba obtener el último elemento, es porque olvidó que Python comienza a contar a cero. No te preocupes: lleva un tiempo acostumbrarse.\n",
    "\n",
    "El mensaje de error dice que el índice está fuera de rango: esto es porque el índice del _último elemento_ siempre será: `len (cadena) - 1`. En nuestro caso, ese número es 10. Probémoslo."
   ]
  },
  {
   "cell_type": "code",
   "execution_count": 11,
   "metadata": {},
   "outputs": [
    {
     "data": {
      "text/plain": [
       "'d'"
      ]
     },
     "execution_count": 11,
     "metadata": {},
     "output_type": "execute_result"
    }
   ],
   "source": [
    "my_string[10]"
   ]
  },
  {
   "cell_type": "markdown",
   "metadata": {},
   "source": [
    "Python también ofrece una forma inteligente de captar el último elemento, por lo que no es necesario calcular la longitud y restar uno: está utilizando un 1 negativo para el índice. Me gusta esto:"
   ]
  },
  {
   "cell_type": "code",
   "execution_count": 12,
   "metadata": {},
   "outputs": [
    {
     "data": {
      "text/plain": [
       "'d'"
      ]
     },
     "execution_count": 12,
     "metadata": {},
     "output_type": "execute_result"
    }
   ],
   "source": [
    "my_string[-1]"
   ]
  },
  {
   "cell_type": "markdown",
   "metadata": {},
   "source": [
    "¿Qué pasa si usamos un `-2` como índice?"
   ]
  },
  {
   "cell_type": "code",
   "execution_count": 13,
   "metadata": {},
   "outputs": [
    {
     "data": {
      "text/plain": [
       "'l'"
      ]
     },
     "execution_count": 13,
     "metadata": {},
     "output_type": "execute_result"
    }
   ],
   "source": [
    "my_string[-2]"
   ]
  },
  {
   "cell_type": "markdown",
   "metadata": {},
   "source": [
    "Esa es la última `l` en la cadena` hello world`. ¡Python es tan inteligente que puede contar hacia atrás!"
   ]
  },
  {
   "cell_type": "markdown",
   "metadata": {},
   "source": [
    "### Cortar cadenas\n",
    "\n",
    "A veces, queremos captar más de un elemento: es posible que deseemos una sección de la cadena. Lo hacemos utilizando la notación _slicing_ entre corchetes. Por ejemplo, podemos usar `[start: end]`, donde `start` es el índice para comenzar el corte, y` end` es el índice (no incluido) para terminar el corte. Por ejemplo, para tomar la palabra `hello` de nuestra cadena, hacemos:"
   ]
  },
  {
   "cell_type": "code",
   "execution_count": 14,
   "metadata": {},
   "outputs": [
    {
     "data": {
      "text/plain": [
       "'hello'"
      ]
     },
     "execution_count": 14,
     "metadata": {},
     "output_type": "execute_result"
    }
   ],
   "source": [
    "my_string[0:5]"
   ]
  },
  {
   "cell_type": "markdown",
   "metadata": {},
   "source": [
    "Puede omitir el índice `start`, si desea cortar desde el principio de la cadena, y puede omitir el` end` de una porción, lo que indica que desea llegar hasta el final de la cadena. Por ejemplo, si queremos tomar la palabra `'world'` de` my_string`, podríamos hacer lo siguiente:"
   ]
  },
  {
   "cell_type": "code",
   "execution_count": 15,
   "metadata": {},
   "outputs": [
    {
     "data": {
      "text/plain": [
       "'world'"
      ]
     },
     "execution_count": 15,
     "metadata": {},
     "output_type": "execute_result"
    }
   ],
   "source": [
    "my_string[6:]"
   ]
  },
  {
   "cell_type": "markdown",
   "metadata": {},
   "source": [
    "Una forma útil de visualizar segmentos es imaginar que los índices apuntan a los espacios _entre_caracteres en la cadena. De esta forma, cuando escriba `my_string [i]`, se estaría refiriendo al \"carácter a la derecha de` i` \"(Referencia 2).\n",
    "\n",
    "Mira el diagrama a continuación. Comenzamos a contar a cero; la letra '' g'` está a la derecha del índice 2. Entonces, si queremos agarrar la subcadena `'gin'` de` 'engineer'`, necesitamos `[start: end] = [2: 5 ] `.\n",
    "\n",
    "<img src = \"../ images/slicing.png\" style = \"width: 400px;\" />"
   ]
  },
  {
   "cell_type": "markdown",
   "metadata": {
    "collapsed": true
   },
   "source": [
    "¡Inténtalo tú mismo!"
   ]
  },
  {
   "cell_type": "code",
   "execution_count": 16,
   "metadata": {},
   "outputs": [
    {
     "data": {
      "text/plain": [
       "'gin'"
      ]
     },
     "execution_count": 16,
     "metadata": {},
     "output_type": "execute_result"
    }
   ],
   "source": [
    "# Define your string\n",
    "eng_string = 'engineer'\n",
    "\n",
    "# Grab 'gin'slice\n",
    "eng_string[2:5]"
   ]
  },
  {
   "cell_type": "markdown",
   "metadata": {},
   "source": [
    "##### Ejercicios:\n",
    "\n",
    "1. Defina una cadena llamada `'banana'` e imprima la primera y última' 'a'`.\n",
    "2. Usando la misma cuerda, agarre las 2 rebanadas posibles que corresponden a la palabra \"ana\" e imprímalas.\n",
    "3. Cree su propio ejercicio de rebanar y pídales a sus compañeros que lo prueben (trabaje en grupos de 3)."
   ]
  },
  {
   "cell_type": "markdown",
   "metadata": {},
   "source": [
    "Las siguientes líneas contienen las soluciones; para revelar la respuesta, seleccione las líneas con el mouse:\n",
    " \n",
    "Ejercicio de solución 1:\n",
    "\n",
    "<span style = \"color: white\"> b = 'banana' </span>\n",
    "<span style = \"color: white\"> print (b [1]) </span>\n",
    "<span style = \"color: white\"> print (b [-1]) </span>\n",
    "\n",
    "\n",
    "Ejercicio de solución 2:\n",
    "\n",
    "<span style = \"color: white\"> print (b [1: 4]) </span>\n",
    "<span style = \"color: white\"> print (b [3:]) </span>"
   ]
  },
  {
   "cell_type": "markdown",
   "metadata": {},
   "source": [
    "### ¿Qué más podemos hacer con las cadenas?\n",
    "\n",
    "Python tiene muchas funciones integradas útiles para cadenas. Aprenderá algunos de ellos en esta sección. Un detalle técnico: en Python, algunas funciones están asociadas a una clase particular de objetos (por ejemplo, cadenas de caracteres). La palabra ** method ** se usa en este caso, y tenemos una nueva forma de llamarlos: el operador de punto. Es un poco contra-intuitivo que el nombre del método viene después del punto, mientras que el nombre del objeto en particular en el que actúa es lo primero. Me gusta esto: `mystring.method ()`.\n",
    "\n",
    "Si tiene curiosidad acerca de los muchos métodos disponibles para cadenas, vaya a la sección \"Métodos de cadena incorporados\" en este [tutorial](https://www.tutorialspoint.com/python3/python_strings.htm).\n",
    "\n",
    "Usemos una cita de Albert Einstein como una cadena y apliquemos algunos métodos de cadena útiles."
   ]
  },
  {
   "cell_type": "code",
   "execution_count": 17,
   "metadata": {
    "collapsed": true
   },
   "outputs": [],
   "source": [
    "AE_quote = \"Everybody is a genius. But if you judge a fish by its ability to climb a tree, it will live its whole life believing that it is stupid.\""
   ]
  },
  {
   "cell_type": "markdown",
   "metadata": {},
   "source": [
    "El método ** `count ()` ** da el número de ocurrencias de una subcadena en un rango. Los argumentos para el rango son opcionales.\n",
    "\n",
    "*Sintaxis:*\n",
    "\n",
    "`str.count (subcadena, inicio, fin)`\n",
    "\n",
    "Aquí, `start` y` end` son enteros que indican los índices donde comenzar y finalizar el conteo. Por ejemplo, si queremos saber cuántas letras '' e '' tenemos en toda la cadena, podemos hacer:"
   ]
  },
  {
   "cell_type": "code",
   "execution_count": 18,
   "metadata": {},
   "outputs": [
    {
     "data": {
      "text/plain": [
       "10"
      ]
     },
     "execution_count": 18,
     "metadata": {},
     "output_type": "execute_result"
    }
   ],
   "source": [
    "AE_quote.count('e')"
   ]
  },
  {
   "cell_type": "markdown",
   "metadata": {},
   "source": [
    "Si queremos saber cuántos de esos `` e'` caracteres están en el rango `[0:20]`, hacemos:"
   ]
  },
  {
   "cell_type": "code",
   "execution_count": 19,
   "metadata": {},
   "outputs": [
    {
     "data": {
      "text/plain": [
       "2"
      ]
     },
     "execution_count": 19,
     "metadata": {},
     "output_type": "execute_result"
    }
   ],
   "source": [
    "AE_quote.count('e', 0, 20)"
   ]
  },
  {
   "cell_type": "markdown",
   "metadata": {},
   "source": [
    "Podemos buscar cadenas más complejas, por ejemplo:"
   ]
  },
  {
   "cell_type": "code",
   "execution_count": 20,
   "metadata": {},
   "outputs": [
    {
     "data": {
      "text/plain": [
       "1"
      ]
     },
     "execution_count": 20,
     "metadata": {},
     "output_type": "execute_result"
    }
   ],
   "source": [
    "AE_quote.count('Everybody')"
   ]
  },
  {
   "cell_type": "markdown",
   "metadata": {},
   "source": [
    "El método ** find () ** nos dice si una cadena `'substr'` ocurre en la cadena en la que estamos aplicando el método. Los argumentos para el rango son opcionales.\n",
    "\n",
    "*Sintaxis:*\n",
    "\n",
    "`str.find (substr, start, end)`\n",
    "\n",
    "Donde `start` y` end` son índices que indican dónde comenzar y terminar el corte para aplicar el método `find ()`.\n",
    "\n",
    "Si la cadena `'substr'` está en la cadena original, el método` find () `devolverá el índice donde comienza la subcadena, de lo contrario devolverá` -1`.\n",
    "\n",
    "Por ejemplo, busquemos la palabra \"pez\" en la cita de Albert Einstein."
   ]
  },
  {
   "cell_type": "code",
   "execution_count": 21,
   "metadata": {},
   "outputs": [
    {
     "data": {
      "text/plain": [
       "42"
      ]
     },
     "execution_count": 21,
     "metadata": {},
     "output_type": "execute_result"
    }
   ],
   "source": [
    "AE_quote.find('fish')"
   ]
  },
  {
   "cell_type": "markdown",
   "metadata": {},
   "source": [
    "Si conocemos la longitud de nuestra subcadena, ahora podemos aplicar la notación de corte para tomar la palabra \"pez\"."
   ]
  },
  {
   "cell_type": "code",
   "execution_count": 22,
   "metadata": {},
   "outputs": [
    {
     "data": {
      "text/plain": [
       "4"
      ]
     },
     "execution_count": 22,
     "metadata": {},
     "output_type": "execute_result"
    }
   ],
   "source": [
    "len('fish')"
   ]
  },
  {
   "cell_type": "code",
   "execution_count": 23,
   "metadata": {},
   "outputs": [
    {
     "data": {
      "text/plain": [
       "'fish'"
      ]
     },
     "execution_count": 23,
     "metadata": {},
     "output_type": "execute_result"
    }
   ],
   "source": [
    "AE_quote[42: 42 + len('fish')]"
   ]
  },
  {
   "cell_type": "markdown",
   "metadata": {},
   "source": [
    "Veamos qué sucede cuando tratamos de buscar una cadena que no está en la cita."
   ]
  },
  {
   "cell_type": "code",
   "execution_count": 24,
   "metadata": {},
   "outputs": [
    {
     "data": {
      "text/plain": [
       "-1"
      ]
     },
     "execution_count": 24,
     "metadata": {},
     "output_type": "execute_result"
    }
   ],
   "source": [
    "AE_quote.find('albert')"
   ]
  },
  {
   "cell_type": "markdown",
   "metadata": {},
   "source": [
    "Devuelve `-1` ... pero cuidado, ¡eso no significa que la posición esté al final de la cadena original! Si leemos la [documentación](https://docs.python.org/3/library/stdtypes.html#string-methods), confirmamos que un valor devuelto de `-1` indica que la subcadena que estamos buscar es _no en la cadena_ en la que estamos buscando\n",
    "\n",
    "Un método similar es ** `index ()` **: funciona como el método `find ()`, pero genera un error si no se encuentra la cadena que estamos buscando.\n",
    "\n",
    "*Sintaxis:*\n",
    "\n",
    "`str.index (substr, start, end)`"
   ]
  },
  {
   "cell_type": "code",
   "execution_count": 25,
   "metadata": {},
   "outputs": [
    {
     "data": {
      "text/plain": [
       "42"
      ]
     },
     "execution_count": 25,
     "metadata": {},
     "output_type": "execute_result"
    }
   ],
   "source": [
    "AE_quote.index('fish')"
   ]
  },
  {
   "cell_type": "code",
   "execution_count": 26,
   "metadata": {},
   "outputs": [
    {
     "ename": "ValueError",
     "evalue": "substring not found",
     "output_type": "error",
     "traceback": [
      "\u001b[0;31m---------------------------------------------------------------------------\u001b[0m",
      "\u001b[0;31mValueError\u001b[0m                                Traceback (most recent call last)",
      "\u001b[0;32m<ipython-input-26-19ab4543c577>\u001b[0m in \u001b[0;36m<module>\u001b[0;34m()\u001b[0m\n\u001b[0;32m----> 1\u001b[0;31m \u001b[0mAE_quote\u001b[0m\u001b[0;34m.\u001b[0m\u001b[0mindex\u001b[0m\u001b[0;34m(\u001b[0m\u001b[0;34m'albert'\u001b[0m\u001b[0;34m)\u001b[0m\u001b[0;34m\u001b[0m\u001b[0m\n\u001b[0m",
      "\u001b[0;31mValueError\u001b[0m: substring not found"
     ]
    }
   ],
   "source": [
    "AE_quote.index('albert')"
   ]
  },
  {
   "cell_type": "markdown",
   "metadata": {},
   "source": [
    "En el ejemplo anterior, usamos la función `len ()` para calcular la longitud de la cadena `'fish'`, y usamos el resultado para calcular el índice final. Sin embargo, si la cadena es demasiado larga, tener una línea que calcule la longitud puede ser inconveniente o puede hacer que su código parezca desordenado. Para evitar esto, podemos usar los métodos `find ()` o `index ()` para calcular la posición final. En el ejemplo de \"pez\", podríamos buscar el índice de la palabra \"by\" (la palabra que sigue a \"pez\") y restar 1 de ese índice para obtener el índice que corresponde al espacio correcto. después de `'fish'`. ¡Hay muchas formas de cortar cuerdas, solo limitadas por tu imaginación!\n",
    "\n",
    "##### Nota:\n",
    "Recuerde que el índice final no es inclusivo, por lo que queremos el índice del espacio que sigue a la cadena `'peces'`."
   ]
  },
  {
   "cell_type": "code",
   "execution_count": 27,
   "metadata": {
    "collapsed": true
   },
   "outputs": [],
   "source": [
    "idx_start = AE_quote.index('fish')\n",
    "idx_end = AE_quote.index('by') - 1 # -1 to get the index off the space after 'fish'"
   ]
  },
  {
   "cell_type": "code",
   "execution_count": 28,
   "metadata": {},
   "outputs": [
    {
     "data": {
      "text/plain": [
       "'fish'"
      ]
     },
     "execution_count": 28,
     "metadata": {},
     "output_type": "execute_result"
    }
   ],
   "source": [
    "AE_quote[idx_start:idx_end]"
   ]
  },
  {
   "cell_type": "markdown",
   "metadata": {},
   "source": [
    "##### Ejercicios:\n",
    "\n",
    "1. Usa el método `count ()` para contar cuántas letras '' a'` están en 'AE_quote`?\n",
    "2. Usando el mismo método, ¿cuántas letras aisladas `'a'` están en` AE_quote`?\n",
    "3. Usa el método `index ()` para encontrar la posición de las palabras `'genius'`,`' judge'` y `'tree'` en` AE_quote`.\n",
    "4. Con la sintaxis de corte, extraiga las palabras del ejercicio 3 de `AE_quote`."
   ]
  },
  {
   "cell_type": "markdown",
   "metadata": {},
   "source": [
    "Otros dos métodos de cadena resultan útiles cuando trabaja con textos y necesita limpiar, separar o categorizar partes del texto.\n",
    "\n",
    "Vamos a trabajar con una cadena diferente, una cita de Eleanor Roosevelt:"
   ]
  },
  {
   "cell_type": "code",
   "execution_count": 29,
   "metadata": {
    "collapsed": true
   },
   "outputs": [],
   "source": [
    "ER_quote = \"   Great minds discuss ideas; average minds discuss events; small minds discuss people.  \""
   ]
  },
  {
   "cell_type": "markdown",
   "metadata": {},
   "source": [
    "Tenga en cuenta que la cadena que definimos anteriormente contiene espacios en blanco adicionales al principio y al final. En este caso, lo hicimos a propósito, pero a menudo hay espacios extra molestos cuando leemos texto de un archivo (quizás debido a la sangría de un párrafo).\n",
    "\n",
    "Las cadenas tienen un método que nos permite deshacernos de esos espacios en blanco adicionales.\n",
    "\n",
    "El método ** `strip ()` ** devuelve una copia de la cadena en la que se eliminan todos los caracteres dados como argumento desde el principio y el final de la cadena.\n",
    "\n",
    "*Sintaxis:*\n",
    "\n",
    "`str.strip ([chars])`\n",
    "\n",
    "El argumento predeterminado es el carácter de espacio. Por ejemplo, si queremos eliminar los espacios en blanco en `ER_quote` y guardar el resultado en` ER_quote`, podemos hacer:"
   ]
  },
  {
   "cell_type": "code",
   "execution_count": 30,
   "metadata": {
    "collapsed": true
   },
   "outputs": [],
   "source": [
    "ER_quote = ER_quote.strip()"
   ]
  },
  {
   "cell_type": "code",
   "execution_count": 31,
   "metadata": {},
   "outputs": [
    {
     "data": {
      "text/plain": [
       "'Great minds discuss ideas; average minds discuss events; small minds discuss people.'"
      ]
     },
     "execution_count": 31,
     "metadata": {},
     "output_type": "execute_result"
    }
   ],
   "source": [
    "ER_quote"
   ]
  },
  {
   "cell_type": "markdown",
   "metadata": {},
   "source": [
    "Supongamos que quieres quitar el período al final; podrías hacer lo siguiente:\n",
    "\n",
    "`ER_quote = ER_quote.strip ('.')`\n",
    "\n",
    "Pero si no queremos mantener los cambios en nuestra variable de cadena, no sobrescribimos la variable como hicimos anteriormente. Veamos cómo se ve:"
   ]
  },
  {
   "cell_type": "code",
   "execution_count": 32,
   "metadata": {},
   "outputs": [
    {
     "data": {
      "text/plain": [
       "'Great minds discuss ideas; average minds discuss events; small minds discuss people'"
      ]
     },
     "execution_count": 32,
     "metadata": {},
     "output_type": "execute_result"
    }
   ],
   "source": [
    "ER_quote.strip('.')"
   ]
  },
  {
   "cell_type": "markdown",
   "metadata": {},
   "source": [
    "Verifique la variable de cadena para confirmar que no cambió (todavía tiene el punto al final):"
   ]
  },
  {
   "cell_type": "code",
   "execution_count": 33,
   "metadata": {},
   "outputs": [
    {
     "data": {
      "text/plain": [
       "'Great minds discuss ideas; average minds discuss events; small minds discuss people.'"
      ]
     },
     "execution_count": 33,
     "metadata": {},
     "output_type": "execute_result"
    }
   ],
   "source": [
    "ER_quote"
   ]
  },
  {
   "cell_type": "markdown",
   "metadata": {},
   "source": [
    "Otro método útil es ** `startswith ()` **, para averiguar si una cadena comienza con un cierto carácter.\n",
    "Más adelante en esta lección veremos un ejemplo más interesante; pero por ahora, solo \"verifiquemos\" si nuestra cadena comienza con la palabra \"genial\"."
   ]
  },
  {
   "cell_type": "code",
   "execution_count": 34,
   "metadata": {},
   "outputs": [
    {
     "data": {
      "text/plain": [
       "False"
      ]
     },
     "execution_count": 34,
     "metadata": {},
     "output_type": "execute_result"
    }
   ],
   "source": [
    "ER_quote.startswith('great')"
   ]
  },
  {
   "cell_type": "markdown",
   "metadata": {},
   "source": [
    "La salida es `False` porque la palabra no está en mayúscula. Las letras mayúsculas y minúsculas son caracteres distintos."
   ]
  },
  {
   "cell_type": "code",
   "execution_count": 35,
   "metadata": {},
   "outputs": [
    {
     "data": {
      "text/plain": [
       "True"
      ]
     },
     "execution_count": 35,
     "metadata": {},
     "output_type": "execute_result"
    }
   ],
   "source": [
    "ER_quote.startswith('Great')"
   ]
  },
  {
   "cell_type": "markdown",
   "metadata": {},
   "source": [
    "Es importante mencionar que no es necesario que coincidamos con el personaje hasta que lleguemos al espacio en blanco."
   ]
  },
  {
   "cell_type": "code",
   "execution_count": 36,
   "metadata": {},
   "outputs": [
    {
     "data": {
      "text/plain": [
       "True"
      ]
     },
     "execution_count": 36,
     "metadata": {},
     "output_type": "execute_result"
    }
   ],
   "source": [
    "ER_quote.startswith('Gre')"
   ]
  },
  {
   "cell_type": "markdown",
   "metadata": {},
   "source": [
    "El último método de cadena que mencionaremos es ** `split ()` **: devuelve una ** lista ** de todas las palabras en una cadena. También podemos definir un separador y dividir nuestra cadena de acuerdo con ese separador, y opcionalmente podemos limitar el número de divisiones a `num`.\n",
    "\n",
    "*Sintaxis:*\n",
    "\n",
    "`str.split (separator, num)`"
   ]
  },
  {
   "cell_type": "code",
   "execution_count": 37,
   "metadata": {},
   "outputs": [
    {
     "name": "stdout",
     "output_type": "stream",
     "text": [
      "['Everybody', 'is', 'a', 'genius.', 'But', 'if', 'you', 'judge', 'a', 'fish', 'by', 'its', 'ability', 'to', 'climb', 'a', 'tree,', 'it', 'will', 'live', 'its', 'whole', 'life', 'believing', 'that', 'it', 'is', 'stupid.']\n"
     ]
    }
   ],
   "source": [
    "print(AE_quote.split())"
   ]
  },
  {
   "cell_type": "code",
   "execution_count": 38,
   "metadata": {},
   "outputs": [
    {
     "name": "stdout",
     "output_type": "stream",
     "text": [
      "['Great', 'minds', 'discuss', 'ideas;', 'average', 'minds', 'discuss', 'events;', 'small', 'minds', 'discuss', 'people.']\n"
     ]
    }
   ],
   "source": [
    "print(ER_quote.split())"
   ]
  },
  {
   "cell_type": "markdown",
   "metadata": {},
   "source": [
    "Vamos a dividir el `ER_quote` por un personaje diferente, un punto y coma:"
   ]
  },
  {
   "cell_type": "code",
   "execution_count": 39,
   "metadata": {},
   "outputs": [
    {
     "name": "stdout",
     "output_type": "stream",
     "text": [
      "['Great minds discuss ideas', ' average minds discuss events', ' small minds discuss people.']\n"
     ]
    }
   ],
   "source": [
    " print(ER_quote.split(';'))"
   ]
  },
  {
   "cell_type": "markdown",
   "metadata": {},
   "source": [
    "##### Pensar...\n",
    "\n",
    "¿Notan algo nuevo en la salida de las llamadas `print()`?\n",
    "¿Cuáles son esos `[]`?"
   ]
  },
  {
   "cell_type": "markdown",
   "metadata": {},
   "source": [
    "## Juega con listas de Python\n",
    "\n",
    "Los corchetes de arriba indican una ** lista ** de Python. Una lista es un tipo de datos integrado que consiste en una secuencia de valores, por ejemplo, números o cadenas. Las listas funcionan de muchas maneras de manera similar a las cadenas: sus elementos están numerados a partir de cero, la función `len ()` da el número de elementos, se pueden manipular con notación de división, y así sucesivamente.\n",
    "\n",
    "La forma más fácil de crear una lista es incluir una secuencia de valores separados por comas entre corchetes:"
   ]
  },
  {
   "cell_type": "code",
   "execution_count": 40,
   "metadata": {},
   "outputs": [
    {
     "data": {
      "text/plain": [
       "[1, 4, 7, 9]"
      ]
     },
     "execution_count": 40,
     "metadata": {},
     "output_type": "execute_result"
    }
   ],
   "source": [
    "# A list of integers \n",
    "[1, 4, 7, 9]"
   ]
  },
  {
   "cell_type": "code",
   "execution_count": 41,
   "metadata": {},
   "outputs": [
    {
     "data": {
      "text/plain": [
       "['apple', 'banana', 'orange']"
      ]
     },
     "execution_count": 41,
     "metadata": {},
     "output_type": "execute_result"
    }
   ],
   "source": [
    "# A list of strings\n",
    "['apple', 'banana', 'orange']"
   ]
  },
  {
   "cell_type": "code",
   "execution_count": 42,
   "metadata": {},
   "outputs": [
    {
     "data": {
      "text/plain": [
       "[2, 'apple', 4.5, [5, 10]]"
      ]
     },
     "execution_count": 42,
     "metadata": {},
     "output_type": "execute_result"
    }
   ],
   "source": [
    "# A list with different element types\n",
    "[2, 'apple', 4.5, [5, 10]]"
   ]
  },
  {
   "cell_type": "markdown",
   "metadata": {},
   "source": [
    "En el último ejemplo de lista, el último elemento de la lista es en realidad _otra lista_. ¡Sí! podemos hacer eso por completo\n",
    "\n",
    "También podemos asignar listas a nombres de variables, por ejemplo:"
   ]
  },
  {
   "cell_type": "code",
   "execution_count": 43,
   "metadata": {
    "collapsed": true
   },
   "outputs": [],
   "source": [
    "integers = [1, 2, 3, 4, 5]\n",
    "fruits = ['apple', 'banana', 'orange']"
   ]
  },
  {
   "cell_type": "code",
   "execution_count": 44,
   "metadata": {},
   "outputs": [
    {
     "name": "stdout",
     "output_type": "stream",
     "text": [
      "[1, 2, 3, 4, 5]\n"
     ]
    }
   ],
   "source": [
    "print(integers)"
   ]
  },
  {
   "cell_type": "code",
   "execution_count": 45,
   "metadata": {},
   "outputs": [
    {
     "name": "stdout",
     "output_type": "stream",
     "text": [
      "['apple', 'banana', 'orange']\n"
     ]
    }
   ],
   "source": [
    "print(fruits)"
   ]
  },
  {
   "cell_type": "code",
   "execution_count": 46,
   "metadata": {
    "collapsed": true
   },
   "outputs": [],
   "source": [
    "new_list = [integers, fruits]"
   ]
  },
  {
   "cell_type": "code",
   "execution_count": 47,
   "metadata": {},
   "outputs": [
    {
     "name": "stdout",
     "output_type": "stream",
     "text": [
      "[[1, 2, 3, 4, 5], ['apple', 'banana', 'orange']]\n"
     ]
    }
   ],
   "source": [
    "print(new_list)"
   ]
  },
  {
   "cell_type": "markdown",
   "metadata": {},
   "source": [
    "Tenga en cuenta que esta `new_list` tiene solo 2 elementos. Podemos verificarlo con la función `len ()`:"
   ]
  },
  {
   "cell_type": "code",
   "execution_count": 48,
   "metadata": {},
   "outputs": [
    {
     "data": {
      "text/plain": [
       "2"
      ]
     },
     "execution_count": 48,
     "metadata": {},
     "output_type": "execute_result"
    }
   ],
   "source": [
    "len(new_list)"
   ]
  },
  {
   "cell_type": "markdown",
   "metadata": {},
   "source": [
    "Cada elemento de `new_list` es, por supuesto, otra lista.\n",
    "Al igual que con las cadenas, accedemos a los elementos de la lista con índices y notación de división. El primer elemento de `new_list` es la lista de enteros del 1 al 5, mientras que el segundo elemento es la lista de tres nombres de frutas."
   ]
  },
  {
   "cell_type": "code",
   "execution_count": 49,
   "metadata": {},
   "outputs": [
    {
     "data": {
      "text/plain": [
       "[1, 2, 3, 4, 5]"
      ]
     },
     "execution_count": 49,
     "metadata": {},
     "output_type": "execute_result"
    }
   ],
   "source": [
    "new_list[0]"
   ]
  },
  {
   "cell_type": "code",
   "execution_count": 50,
   "metadata": {},
   "outputs": [
    {
     "data": {
      "text/plain": [
       "['apple', 'banana', 'orange']"
      ]
     },
     "execution_count": 50,
     "metadata": {},
     "output_type": "execute_result"
    }
   ],
   "source": [
    "new_list[1]"
   ]
  },
  {
   "cell_type": "code",
   "execution_count": 51,
   "metadata": {},
   "outputs": [
    {
     "data": {
      "text/plain": [
       "['apple', 'banana']"
      ]
     },
     "execution_count": 51,
     "metadata": {},
     "output_type": "execute_result"
    }
   ],
   "source": [
    "# Accessing the first two elements of the list fruits\n",
    "fruits[0:2]"
   ]
  },
  {
   "cell_type": "markdown",
   "metadata": {},
   "source": [
    "##### Ejercicios:\n",
    "\n",
    "1. De la lista `enteros`, tome la porción` [2, 3, 4] `y luego` [4, 5] `.\n",
    "2. Crea tu propia lista y diseña un ejercicio para agarrar rebanadas, trabajando con tus compañeros de clase."
   ]
  },
  {
   "cell_type": "markdown",
   "metadata": {},
   "source": [
    "### Agregar elementos a una lista\n",
    "\n",
    "Podemos agregar elementos a una lista usando el método ** append () **: agrega el objeto que pasamos a la lista existente. Por ejemplo, para agregar el elemento 6 a nuestra lista `enteros`, podemos hacer:"
   ]
  },
  {
   "cell_type": "code",
   "execution_count": 52,
   "metadata": {
    "collapsed": true
   },
   "outputs": [],
   "source": [
    "integers.append(6)"
   ]
  },
  {
   "cell_type": "markdown",
   "metadata": {},
   "source": [
    "Comprobemos que la lista `entera 'ahora tiene un 6 al final:"
   ]
  },
  {
   "cell_type": "code",
   "execution_count": 53,
   "metadata": {},
   "outputs": [
    {
     "name": "stdout",
     "output_type": "stream",
     "text": [
      "[1, 2, 3, 4, 5, 6]\n"
     ]
    }
   ],
   "source": [
    "print(integers)"
   ]
  },
  {
   "cell_type": "markdown",
   "metadata": {},
   "source": [
    "### Lista de miembros\n",
    "\n",
    "¡Comprobar la membresía de la lista en Python parece bastante similar al inglés sencillo!\n",
    "\n",
    "*Sintaxis*\n",
    "\n",
    "Para verificar si un elemento está ** en ** una lista:\n",
    "\n",
    "`elemento en la lista`\n",
    "\n",
    "Para verificar si un elemento ** no está en ** una lista:\n",
    "\n",
    "`elemento no en la lista`"
   ]
  },
  {
   "cell_type": "code",
   "execution_count": 54,
   "metadata": {},
   "outputs": [
    {
     "data": {
      "text/plain": [
       "False"
      ]
     },
     "execution_count": 54,
     "metadata": {},
     "output_type": "execute_result"
    }
   ],
   "source": [
    "'strawberry' in fruits"
   ]
  },
  {
   "cell_type": "code",
   "execution_count": 55,
   "metadata": {},
   "outputs": [
    {
     "data": {
      "text/plain": [
       "True"
      ]
     },
     "execution_count": 55,
     "metadata": {},
     "output_type": "execute_result"
    }
   ],
   "source": [
    "'strawberry' not in fruits"
   ]
  },
  {
   "cell_type": "markdown",
   "metadata": {},
   "source": [
    "##### Ejercicios\n",
    "\n",
    "1. Agregue dos frutas diferentes a la lista `fruits`.\n",
    "2. Comprueba si `'mango'` está en tu nueva lista` fruits`.\n",
    "3. Dada la lista `alist = [1, 2, 3, '4', [5, 'six'], [7]]` ejecuta lo siguiente en celdas separadas y analiza la salida con tus compañeros de clase:\n",
    "\n",
    "```Python\n",
    "   4 en alista\n",
    "   5 en alista\n",
    "   7 en alista\n",
    "   [7] en alista\n",
    "```"
   ]
  },
  {
   "cell_type": "markdown",
   "metadata": {},
   "source": [
    "### Modificar elementos de una lista\n",
    "\n",
    "No solo podemos agregar elementos a una lista, también podemos modificar un elemento específico.\n",
    "Reutilicemos la lista del ejercicio anterior y reemplacemos algunos elementos."
   ]
  },
  {
   "cell_type": "code",
   "execution_count": 56,
   "metadata": {
    "collapsed": true
   },
   "outputs": [],
   "source": [
    "alist = [1, 2, 3, '4', [5, 'six'], [7]]"
   ]
  },
  {
   "cell_type": "markdown",
   "metadata": {},
   "source": [
    "Podemos encontrar la posición de un cierto elemento con el método `index ()`, al igual que con las cadenas. Por ejemplo, si queremos saber dónde está el elemento `'4'`, podemos hacer:"
   ]
  },
  {
   "cell_type": "code",
   "execution_count": 57,
   "metadata": {},
   "outputs": [
    {
     "data": {
      "text/plain": [
       "3"
      ]
     },
     "execution_count": 57,
     "metadata": {},
     "output_type": "execute_result"
    }
   ],
   "source": [
    "alist.index('4')"
   ]
  },
  {
   "cell_type": "code",
   "execution_count": 58,
   "metadata": {},
   "outputs": [
    {
     "data": {
      "text/plain": [
       "'4'"
      ]
     },
     "execution_count": 58,
     "metadata": {},
     "output_type": "execute_result"
    }
   ],
   "source": [
    "alist[3]"
   ]
  },
  {
   "cell_type": "markdown",
   "metadata": {},
   "source": [
    "Vamos a reemplazarlo con el valor entero `4`:"
   ]
  },
  {
   "cell_type": "code",
   "execution_count": 59,
   "metadata": {
    "collapsed": true
   },
   "outputs": [],
   "source": [
    "alist[3] = 4"
   ]
  },
  {
   "cell_type": "code",
   "execution_count": 60,
   "metadata": {},
   "outputs": [
    {
     "data": {
      "text/plain": [
       "[1, 2, 3, 4, [5, 'six'], [7]]"
      ]
     },
     "execution_count": 60,
     "metadata": {},
     "output_type": "execute_result"
    }
   ],
   "source": [
    "alist"
   ]
  },
  {
   "cell_type": "code",
   "execution_count": 61,
   "metadata": {},
   "outputs": [
    {
     "data": {
      "text/plain": [
       "True"
      ]
     },
     "execution_count": 61,
     "metadata": {},
     "output_type": "execute_result"
    }
   ],
   "source": [
    "4 in alist"
   ]
  },
  {
   "cell_type": "markdown",
   "metadata": {},
   "source": [
    "##### Ejercicio\n",
    "Reemplace el último elemento de `a list` con algo diferente."
   ]
  },
  {
   "cell_type": "markdown",
   "metadata": {},
   "source": [
    "Poder modificar elementos en una lista es una \"propiedad\" de las listas de Python; otros objetos Python que veremos más adelante en el curso también se comportan así, pero no todos los objetos Python. Por ejemplo, no puede modificar elementos en una cadena. Si lo intentamos, Python se quejará.\n",
    "\n",
    "¡Multa! Vamos a intentarlo:"
   ]
  },
  {
   "cell_type": "code",
   "execution_count": 62,
   "metadata": {
    "collapsed": true
   },
   "outputs": [],
   "source": [
    "string = 'This is a string.'"
   ]
  },
  {
   "cell_type": "markdown",
   "metadata": {},
   "source": [
    "Supongamos que queremos reemplazar el período ('.') Por un signo de exclamación ('!'). ¿Podemos simplemente modificar este elemento de cadena?"
   ]
  },
  {
   "cell_type": "code",
   "execution_count": 63,
   "metadata": {},
   "outputs": [
    {
     "data": {
      "text/plain": [
       "'.'"
      ]
     },
     "execution_count": 63,
     "metadata": {},
     "output_type": "execute_result"
    }
   ],
   "source": [
    "string[-1]"
   ]
  },
  {
   "cell_type": "code",
   "execution_count": 64,
   "metadata": {},
   "outputs": [
    {
     "ename": "TypeError",
     "evalue": "'str' object does not support item assignment",
     "output_type": "error",
     "traceback": [
      "\u001b[0;31m---------------------------------------------------------------------------\u001b[0m",
      "\u001b[0;31mTypeError\u001b[0m                                 Traceback (most recent call last)",
      "\u001b[0;32m<ipython-input-64-dbf68e37fb66>\u001b[0m in \u001b[0;36m<module>\u001b[0;34m()\u001b[0m\n\u001b[0;32m----> 1\u001b[0;31m \u001b[0mstring\u001b[0m\u001b[0;34m[\u001b[0m\u001b[0;34m-\u001b[0m\u001b[0;36m1\u001b[0m\u001b[0;34m]\u001b[0m \u001b[0;34m=\u001b[0m \u001b[0;34m'!'\u001b[0m\u001b[0;34m\u001b[0m\u001b[0m\n\u001b[0m",
      "\u001b[0;31mTypeError\u001b[0m: 'str' object does not support item assignment"
     ]
    }
   ],
   "source": [
    "string[-1] = '!'"
   ]
  },
  {
   "cell_type": "markdown",
   "metadata": {},
   "source": [
    "¡Te lo dije! Python confirma que no podemos cambiar los elementos de una cadena por asignación de elemento."
   ]
  },
  {
   "cell_type": "markdown",
   "metadata": {},
   "source": [
    "## Siguiente: cadenas y listas en acción\n",
    "\n",
    "Ha aprendido muchas cosas sobre cadenas y listas en esta lección, y probablemente esté ansioso por ver cómo aplicarlo a una situación realista. Creamos un [ejemplo completo](http://nbviewer.jupyter.org/github/engineersCode/EngComp1_offtheground/blob/master/notebooks_en/3_Example_play_with_MAEbulletin.ipynb) en un cuaderno separado para mostrarle el poder de Python con los datos de texto.\n",
    "\n",
    "Pero antes de saltar, deberíamos presentarle las potentes ideas de ** iteration ** y ** conditionals ** en Python."
   ]
  },
  {
   "cell_type": "markdown",
   "metadata": {},
   "source": [
    "### Iteración con declaraciones `for`\n",
    "\n",
    "La idea de _iteration_ (en inglés simple) es repetir un proceso varias veces. Si tiene alguna experiencia en programación con otro lenguaje (como C o Java, por ejemplo), puede tener una idea de cómo crear iteraciones con sentencias `for`. Pero estos son un poco diferentes en Python, como puede leer en la [documentación](https://docs.python.org/3/tutorial/controlflow.html#for-statements).\n",
    "\n",
    "Una instrucción Python `for` itera sobre los elementos de una secuencia, naturalmente. Digamos que tiene una lista llamada `frutas` que contiene una secuencia de cadenas con nombres de fruta; puedes escribir una declaración como\n",
    "\n",
    "```Python\n",
    "para fruta en frutas:\n",
    "```\n",
    "hacer algo con cada elemento de la lista.\n",
    "\n",
    "Aquí, por primera vez, encontraremos una característica distintiva del lenguaje Python: agrupando por ** sangría **. Para delimitar _what_ Python debe hacer con cada `fruta` en la lista de` fruits`, colocamos las siguientes declaraciones _indented_ desde la izquierda.\n",
    "\n",
    "¿Cuánto sangrar? Esta es una pregunta de estilo, y todos tienen una preferencia: dos espacios, cuatro espacios, una sola pestaña ... todos son válidos: ¡pero elija uno y sea consecuente!\n",
    "\n",
    "Usemos cuatro espacios:"
   ]
  },
  {
   "cell_type": "code",
   "execution_count": 65,
   "metadata": {},
   "outputs": [
    {
     "name": "stdout",
     "output_type": "stream",
     "text": [
      "Eat your apple\n",
      "Eat your banana\n",
      "Eat your orange\n",
      "Eat your cherry\n",
      "Eat your mandarin\n"
     ]
    }
   ],
   "source": [
    "fruits = ['apple', 'banana', 'orange', 'cherry', 'mandarin']\n",
    "\n",
    "for fruit in fruits:\n",
    "    print(\"Eat your\", fruit)"
   ]
  },
  {
   "cell_type": "markdown",
   "metadata": {},
   "source": [
    "##### Presta atención:\n",
    "\n",
    "* la instrucción `for` termina con dos puntos,`: `\n",
    "* la variable `fruit` está implícitamente definida en la declaración` for`\n",
    "* `fruit` toma el valor (cadena) de cada elemento de la lista` fruits`, en orden\n",
    "* la sentencia sangrienta `print()` se ejecuta para cada valor de `fruit`\n",
    "* una vez que Python se queda sin 'fruits', se detiene\n",
    "* ¡no necesitamos saber con anticipación cuántos elementos hay en la lista!"
   ]
  },
  {
   "cell_type": "markdown",
   "metadata": {},
   "source": [
    "##### Pregunta desafiante:\n",
    "\n",
    "- ¿Cuál es el valor de la variable `fruit` después de ejecutar la instrucción` for` anterior? Discute con tu vecino. (Confirma tu conjetura en una celda de código)."
   ]
  },
  {
   "cell_type": "markdown",
   "metadata": {},
   "source": [
    "Una función muy útil para usar con declaraciones `for` es **` enumerate () `**: agrega un contador que puede usar como índice mientras se ejecuta su iteración. Para usarlo, define implícitamente _two_ variables en la instrucción `for`: el contador y el valor de la secuencia que se itera.\n",
    "\n",
    "Estudia el siguiente bloque de código:"
   ]
  },
  {
   "cell_type": "code",
   "execution_count": 66,
   "metadata": {},
   "outputs": [
    {
     "name": "stdout",
     "output_type": "stream",
     "text": [
      "['Sam', 'Zoe', 'Naty', 'Gil', 'Tom']\n"
     ]
    }
   ],
   "source": [
    "names = ['sam', 'zoe', 'naty', 'gil', 'tom']\n",
    "\n",
    "for i, name in enumerate(names):\n",
    "    names[i] = name.capitalize()\n",
    "print(names)"
   ]
  },
  {
   "cell_type": "markdown",
   "metadata": {},
   "source": [
    "##### Pregunta desafiante:\n",
    "\n",
    "- ¿Cuál es el valor de la variable `name` después de ejecutar la instrucción` for` anterior? Discute con tu vecino. (Confirma tu conjetura en una celda de código)."
   ]
  },
  {
   "cell_type": "markdown",
   "metadata": {},
   "source": [
    "##### Ejercicio:\n",
    "\n",
    "Supongamos que tenemos una lista de listas (a.k.a., a _nested_ list), como se muestra a continuación:\n",
    "```Python\n",
    "nombres completos = [['sam', 'jones'], ['zoe', 'smith'], ['joe', 'cheek'], ['tom', 'perez']]\n",
    "```\n",
    "Escriba un código que cree dos listas simples: una con los primeros nombres, otra con los apellidos de la lista anidada arriba, pero en mayúscula.\n",
    "\n",
    "Para comenzar, necesita crear dos listas _empty_ utilizando los corchetes con nada dentro. Hemos hecho eso por ti a continuación. _Hint_: ¡Usa el método de lista `append ()`!"
   ]
  },
  {
   "cell_type": "code",
   "execution_count": 67,
   "metadata": {
    "collapsed": true
   },
   "outputs": [],
   "source": [
    "fullnames = [ ['sam','jones'], ['zoe','smith'],['joe','cheek'],['tom','perez'] ]\n",
    "firstnames = []\n",
    "lastnames = []\n",
    "\n",
    "# Write your code here"
   ]
  },
  {
   "cell_type": "markdown",
   "metadata": {},
   "source": [
    "### Condicionales con declaraciones `if`\n",
    "\n",
    "Algunas veces necesitamos la habilidad de verificar condiciones y cambiar el comportamiento de nuestro programa dependiendo de la condición. Lo logramos con una instrucción `if`, que puede tomar una de tres formas."
   ]
  },
  {
   "cell_type": "markdown",
   "metadata": {},
   "source": [
    "(1) ** Si ** declaración por sí mismo:"
   ]
  },
  {
   "cell_type": "code",
   "execution_count": 68,
   "metadata": {},
   "outputs": [
    {
     "name": "stdout",
     "output_type": "stream",
     "text": [
      "a is bigger than b\n"
     ]
    }
   ],
   "source": [
    "a = 8 \n",
    "b = 3\n",
    "\n",
    "if a > b:\n",
    "    print('a is bigger than b')"
   ]
  },
  {
   "cell_type": "markdown",
   "metadata": {},
   "source": [
    "(2) declaración ** If-else **:"
   ]
  },
  {
   "cell_type": "code",
   "execution_count": 69,
   "metadata": {
    "collapsed": true
   },
   "outputs": [],
   "source": [
    "# We pick a number, but you can change it\n",
    "x = 1547"
   ]
  },
  {
   "cell_type": "code",
   "execution_count": 70,
   "metadata": {},
   "outputs": [
    {
     "name": "stdout",
     "output_type": "stream",
     "text": [
      "Your number is a multiple of 17.\n"
     ]
    }
   ],
   "source": [
    "if x % 17 == 0: \n",
    "    print('Your number is a multiple of 17.')\n",
    "else:\n",
    "    print('Your number is not a multiple of 17.')"
   ]
  },
  {
   "cell_type": "markdown",
   "metadata": {},
   "source": [
    "* Nota: * El `%` representa una operación de módulo: da el resto de la división del primer argumento por el segundo"
   ]
  },
  {
   "cell_type": "markdown",
   "metadata": {},
   "source": [
    "* Sugerencia: * Puede descomentar esta siguiente celda y aprender un buen truco para pedirle al usuario que inserte un número. Puede usar esto en lugar de asignar un valor específico a `x` arriba."
   ]
  },
  {
   "cell_type": "code",
   "execution_count": 71,
   "metadata": {
    "collapsed": true
   },
   "outputs": [],
   "source": [
    "#x = float(input('Insert your number: '))"
   ]
  },
  {
   "cell_type": "markdown",
   "metadata": {},
   "source": [
    "(3) ** declaración If-elif-else **:"
   ]
  },
  {
   "cell_type": "code",
   "execution_count": 72,
   "metadata": {},
   "outputs": [
    {
     "name": "stdout",
     "output_type": "stream",
     "text": [
      "a is smaller than b\n"
     ]
    }
   ],
   "source": [
    "a = 3\n",
    "b = 5\n",
    "\n",
    "if a > b:\n",
    "    print('a is bigger than b')\n",
    "elif a < b:\n",
    "    print('a is smaller than b')\n",
    "else:\n",
    "    print('a is equal to b')"
   ]
  },
  {
   "cell_type": "markdown",
   "metadata": {},
   "source": [
    "* Nota: * Podemos tener tantas líneas `elif` como queramos."
   ]
  },
  {
   "cell_type": "markdown",
   "metadata": {},
   "source": [
    "##### Ejercicio\n",
    "\n",
    "Usando declaraciones `if`,` elif` y `else` escribe un código donde eliges un número de 4 dígitos, si es divisible entre 2 y 3, imprimes: 'Tu número no solo es divisible por 2 y 3 sino también por 6 '. Si es divisible por 2, imprime: 'Tu número es divisible por 2'. Si es divisible por 3, imprime: 'Tu número es divisible por 3'. Cualquier otra opción, imprime: 'Tu número no es divisible por 2, 3 o 6'"
   ]
  },
  {
   "cell_type": "markdown",
   "metadata": {},
   "source": [
    "## Lo que hemos aprendido\n",
    "\n",
    "* Cómo usar el entorno de Jupyter.\n",
    "* Jugar con cadenas: acceder a valores, cortar y métodos de cadena.\n",
    "* Jugar con listas: acceder a valores, cortar y enumerar métodos.\n",
    "* Iteración con declaraciones `for`.\n",
    "* Condicionales con declaraciones `if`."
   ]
  },
  {
   "cell_type": "markdown",
   "metadata": {},
   "source": [
    "## Referencias\n",
    "\n",
    "1. [Conceptos básicos del cuaderno: editor modal](http://jupyter-notebook.readthedocs.io/en/latest/examples/Notebook/Notebook%20Basics.html)\n",
    "2. [\"Indices señalan los elementos,\"](https://blog.nelhage.com/2015/08/indices-point-between-elements/) publicación de blog de Nelson Elhage (2015).\n",
    "3. _Python para todos: explorando datos usando Python 3_ (2016). Charles R. Severance. [PDF disponible](http://do1.dr-chuck.com/pythonlearn/EN_us/pythonlearn.pdf)\n",
    "4. _Piense en Python: cómo pensar como un científico de la computación_ (2012). Allen Downey. Green Tea Press. [PDF disponible](http://greenteapress.com/thinkpython/thinkpython.pdf)"
   ]
  },
  {
   "cell_type": "code",
   "execution_count": 73,
   "metadata": {},
   "outputs": [
    {
     "data": {
      "text/html": [
       "<link href=\"https://fonts.googleapis.com/css?family=Merriweather:300,300i,400,400i,700,700i,900,900i\" rel=\"stylesheet\">\n",
       "<link href=\"https://fonts.googleapis.com/css?family=Source+Sans+Pro:300,300i,400,400i,700,700i\" rel=\"stylesheet\">\n",
       "<link href='http://fonts.googleapis.com/css?family=Source+Code+Pro:300,400' rel='stylesheet' type='text/css'>\n",
       "<style>\n",
       "\n",
       "@font-face {\n",
       "    font-family: \"Computer Modern\";\n",
       "    src: url('http://mirrors.ctan.org/fonts/cm-unicode/fonts/otf/cmunss.otf');\n",
       "}\n",
       "\n",
       "\n",
       "#notebook_panel { /* main background */\n",
       "    background: rgb(245,245,245);\n",
       "}\n",
       "\n",
       "div.cell { /* set cell width */\n",
       "    width: 800px;\n",
       "}\n",
       "\n",
       "div #notebook { /* centre the content */\n",
       "    background: #fff; /* white background for content */\n",
       "    width: 1000px;\n",
       "    margin: auto;\n",
       "    padding-left: 0em;\n",
       "}\n",
       "\n",
       "#notebook li { /* More space between bullet points */\n",
       "margin-top:0.8em;\n",
       "}\n",
       "\n",
       "/* draw border around running cells */\n",
       "div.cell.border-box-sizing.code_cell.running { \n",
       "    border: 1px solid #111;\n",
       "}\n",
       "\n",
       "/* Put a solid color box around each cell and its output, visually linking them*/\n",
       "div.cell.code_cell {\n",
       "    background-color: rgb(256,256,256); \n",
       "    border-radius: 0px; \n",
       "    padding: 0.5em;\n",
       "    margin-left:1em;\n",
       "    margin-top: 1em;\n",
       "}\n",
       "\n",
       "\n",
       "div.text_cell_render{\n",
       "    font-family: 'Source Sans Pro', sans-serif;\n",
       "    line-height: 140%;\n",
       "    font-size: 110%;\n",
       "    width:680px;\n",
       "    margin-left:auto;\n",
       "    margin-right:auto;\n",
       "}\n",
       "\n",
       "/* Formatting for header cells */\n",
       ".text_cell_render h1 {\n",
       "    font-family: 'Merriweather', serif;\n",
       "    font-style:regular;\n",
       "    font-weight: bold;    \n",
       "    font-size: 250%;\n",
       "    line-height: 100%;\n",
       "    color: #004065;\n",
       "    margin-bottom: 1em;\n",
       "    margin-top: 0.5em;\n",
       "    display: block;\n",
       "}\t\n",
       ".text_cell_render h2 {\n",
       "    font-family: 'Merriweather', serif;\n",
       "    font-weight: bold; \n",
       "    font-size: 180%;\n",
       "    line-height: 100%;\n",
       "    color: #0096d6;\n",
       "    margin-bottom: 0.5em;\n",
       "    margin-top: 0.5em;\n",
       "    display: block;\n",
       "}\t\n",
       "\n",
       ".text_cell_render h3 {\n",
       "    font-family: 'Merriweather', serif;\n",
       "\tfont-size: 150%;\n",
       "    margin-top:12px;\n",
       "    margin-bottom: 3px;\n",
       "    font-style: regular;\n",
       "    color: #008367;\n",
       "}\n",
       "\n",
       ".text_cell_render h4 {    /*Use this for captions*/\n",
       "    font-family: 'Merriweather', serif;\n",
       "    font-weight: 300; \n",
       "    font-size: 100%;\n",
       "    line-height: 120%;\n",
       "    text-align: center;\n",
       "    margin-top: 1em;\n",
       "    margin-bottom: 2em;\n",
       "    font-style: regular;\n",
       "}\n",
       "\n",
       ".text_cell_render h5 {  /*Use this for small titles*/\n",
       "    font-family: 'Source Sans Pro', sans-serif;\n",
       "    font-weight: regular;\n",
       "    font-size: 130%;\n",
       "    color: #e31937;\n",
       "    font-style: italic;\n",
       "    margin-bottom: .5em;\n",
       "    margin-top: 1em;\n",
       "    display: block;\n",
       "}\n",
       "\n",
       ".text_cell_render h6 { /*use this for copyright note*/\n",
       "    font-family: 'Source Code Pro', sans-serif;\n",
       "    font-weight: 300;\n",
       "    font-size: 9pt;\n",
       "    line-height: 100%;\n",
       "    color: grey;\n",
       "    margin-bottom: 1px;\n",
       "    margin-top: 1px;\n",
       "}\n",
       "\n",
       "    .CodeMirror{\n",
       "            font-family: \"Source Code Pro\";\n",
       "\t\t\tfont-size: 90%;\n",
       "    }\n",
       "/*    .prompt{\n",
       "        display: None;\n",
       "    }*/\n",
       "\t\n",
       "    \n",
       "    .warning{\n",
       "        color: rgb( 240, 20, 20 )\n",
       "        }  \n",
       "</style>\n",
       "<script>\n",
       "    MathJax.Hub.Config({\n",
       "                        TeX: {\n",
       "                           extensions: [\"AMSmath.js\"], \n",
       "                           equationNumbers: { autoNumber: \"AMS\", useLabelIds: true}\n",
       "                           },\n",
       "                tex2jax: {\n",
       "                    inlineMath: [ ['$','$'], [\"\\\\(\",\"\\\\)\"] ],\n",
       "                    displayMath: [ ['$$','$$'], [\"\\\\[\",\"\\\\]\"] ]\n",
       "                },\n",
       "                displayAlign: 'center', // Change this to 'center' to center equations.\n",
       "                \"HTML-CSS\": {\n",
       "                    styles: {'.MathJax_Display': {\"margin\": 4}}\n",
       "                }\n",
       "        });\n",
       "</script>\n"
      ],
      "text/plain": [
       "<IPython.core.display.HTML object>"
      ]
     },
     "execution_count": 73,
     "metadata": {},
     "output_type": "execute_result"
    }
   ],
   "source": [
    "# Execute this cell to load the notebook's style sheet, then ignore it\n",
    "from IPython.core.display import HTML\n",
    "css_file = '../style/custom.css'\n",
    "HTML(open(css_file, \"r\").read())"
   ]
  }
 ],
 "metadata": {
  "kernelspec": {
   "display_name": "Python 3",
   "language": "python",
   "name": "python3"
  },
  "language_info": {
   "codemirror_mode": {
    "name": "ipython",
    "version": 3
   },
   "file_extension": ".py",
   "mimetype": "text/x-python",
   "name": "python",
   "nbconvert_exporter": "python",
   "pygments_lexer": "ipython3",
   "version": "3.6.4"
  },
  "widgets": {
   "state": {},
   "version": "1.1.2"
  }
 },
 "nbformat": 4,
 "nbformat_minor": 2
}
