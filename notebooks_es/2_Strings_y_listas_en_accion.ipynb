{
 "cells": [
  {
   "cell_type": "markdown",
   "metadata": {},
   "source": [
    "###### Contenido bajo licencia Creative Commons Attribution CC-BY 4.0, código bajo licencia BSD 3-Clause © 2017 L.A. Barba, N.C. Clementi"
   ]
  },
  {
   "cell_type": "markdown",
   "metadata": {},
   "source": [
    "# Jugando con datos en Jupyter\n",
    "\n",
    "Esta es la segunda lección de nuestro curso en _\"Cálculos Computacionales en Ingeniería\"_. En la primera lección, [_Interactuando con Python_](./1_Interactuando_con_Python.ipynb), usamos **IPython**, el shell interactivo de Python. Es genial escribir expresiones de Python de una sola línea y obtener los resultados de forma interactiva. Sin embargo, aunque no lo creas, ¡hay cosas más increíbles!\n",
    "\n",
    "En esta lección, continuarás usando Python para jugar con datos, pero lo harás en un **Jupyter Notebook**. Esta misma lección está escrita en un Jupyter Notebook. ¿Listo? No te arrependirás."
   ]
  },
  {
   "cell_type": "markdown",
   "metadata": {},
   "source": [
    "## ¿Qué es Jupyter?\n",
    "\n",
    "Jupyter es un conjunto de herramientas de código abierto para la informática interactiva y exploratoria. Trabajarás directamente en tu navegador web, que se convierte en la interfaz de usuario a través de la cual Jupyter te proporciona un explorador de archivos (el _dashboard_) y un documento: el **notebook**.\n",
    "\n",
    "Un Jupyter Notebook puede contener: entrada y salida de código, texto con formato, imágenes, videos, bonitas ecuaciones matemáticas y mucho más. El código de la computadora es completamente _ejecutable_, lo que significa que puede ejecutar el código, directamente en el documento, y obtener la salida de ese código en el navegador. Esta forma interactiva de computación, mezclada con la narrativa multimedia, permite contar una historia (incluso de manera individual y personal) con súperpoderes computacionales."
   ]
  },
  {
   "cell_type": "markdown",
   "metadata": {},
   "source": [
    "## Trabajar en Jupyter\n",
    "\n",
    "Varias cosas te parecerán contraintuitivas al principio. Por ejemplo, la mayoría de las personas están acostumbradas a iniciar aplicaciones en sus computadoras haciendo clic en algún ícono: esto es lo primero que se debe \"desaprender\". Jupyter se lanza desde la _línea de comando_ (como cuando lanzaste IPython). Además, tenemos dos tipos de contenido: código y texto (markdown), que se manejan de forma un poco diferente. El hecho de que el navegador sea una interfaz para un motor de cómputo (llamado \"kernel\") lleva a un mantenimiento interno adicional (como cerrar el kernel). ¡Pero te acostumbrarás bastante rápido!"
   ]
  },
  {
   "cell_type": "markdown",
   "metadata": {},
   "source": [
    "### Iniciando Jupyter\n",
    "\n",
    "La forma estándar de iniciar Jupyter es escribir en la interfaz de línea de comandos:\n",
    "\n",
    "`jupyter notebook`\n",
    "\n",
    "Presiona enter y ... ¡listo!\n",
    "Después de un breve tiempo de configuración, tu navegador predeterminado se abrirá con la aplicación Jupyter. Debería ser similar a la siguiente captura de pantalla, pero es posible que se vea una lista distinta de archivos y carpetas, según la ubicación de tu computadora.\n",
    "\n",
    "##### Nota:\n",
    "\n",
    "No cierres la ventana del terminal que lanzó Jupyter mientras todavía está trabajando en Jupyter. Si necesitas hacer otras tareas en la línea de comando, abre una nueva ventana de terminal.\n",
    "\n",
    "---\n",
    "\n",
    "Para iniciar un nuevo Jupyter Notebook, haz clic en la esquina superior derecha, donde dice **Nuevo** o **New**, y selecciona `Python 3`. Deberías tener algo similar a la siguiente captura de pantalla:\n",
    "\n",
    "<img src = \"../images/jupyter-main.png\" style = \"width: 800px;\" />\n",
    "\n",
    "#### Captura de pantalla del dashboard de Jupyter, abierto en el navegador.\n",
    "\n",
    "---\n",
    "\n",
    "Aparecerá una nueva pestaña en tu navegador web y verás un notebook vacío, con una sola línea de entrada, esperando que ingreses algún código, como en la siguiente captura de pantalla:\n",
    "\n",
    "<img src = \"../images/create_notebook.png\" style = \"width: 800px;\" />\n",
    "\n",
    "#### Captura de pantalla que muestra cómo crear un nuevo cuaderno.\n",
    "\n",
    "---\n",
    "\n",
    "\n",
    "El notebook se abre de manera predeterminada con una sola celda de código vacía. Intenta escribir allí un código Python y ejecútalo presionando `[shift] + [enter]`.\n",
    "\n",
    "<img src = \"../images/new_notebook.png\" style = \"width: 800px;\" />\n",
    "\n",
    "#### Captura de pantalla que muestra un nuevo cuaderno vacío.\n"
   ]
  },
  {
   "cell_type": "markdown",
   "metadata": {},
   "source": [
    "### Celdas de notebook\n",
    "\n",
    "El cuaderno Jupyter usa _celdas_ (_cells_), que corresponden a bloques que pueden contener fragmentos de texto y código. Cualquier contenido de texto se ingresa en una celda *Markdown*: contiene texto que puede formatear con marcadores simples para obtener encabezados, negrita, cursiva, viñetas, hipervínculos y más.\n",
    "\n",
    "Markdown es fácil de aprender, consulte la sintaxis en la página web [\"Daring Fireball\"](https://daringfireball.net/projects/markdown/syntax) (por John Gruber). Algunos consejos:\n",
    "\n",
    "* Para crear un título, usa `#` para comenzar la línea: `# Título`\n",
    "* Para crear el siguiente encabezado, use `##` (y así sucesivamente): `## Subtítulo`\n",
    "* Para poner en cursiva una palabra o frase, enciérrelo en asteriscos (o con líneas inferiores): `*cursiva*` o `_cursiva_`\n",
    "* Para que sea negrita, enciérrelo con dos asteriscos: `**en negrita**`\n",
    "* Para hacer un hipervínculo, use corchetes cuadrados y redondos: `[texto para el enlace](url del enlace)`\n",
    "\n",
    "El contenido de código ejecutable se ingresa en celdas de código. Usaremos el kernel de IPython (\"kernel\" es el nombre utilizado para el motor de computación), pero debes saber que Jupyter puede utilizarse con muchos lenguajes de computación diferentes. Es in-cre-í-ble.\n",
    "\n",
    "Una celda de código te mostrará un espacio para ingresar código:\n",
    "\n",
    "`In []:`\n",
    "\n",
    "Una vez que agregues código y lo ejecutes, Jupyter agregará un número de identificación a la celda de entrada, y producirá una salida marcada así:\n",
    "\n",
    "`Out [1]:`\n",
    "\n",
    "##### Un poco de historia:\n",
    "\n",
    "Markdown fue co-creado por el legendario pero trágico [Aaron Swartz](https://es.wikipedia.org/wiki/Aaron_Swartz). El documental biográfico sobre él se llama [The Internet's Own Boy\"](https://en.wikipedia.org/wiki/The_Internet%27s_Own_Boy)   y puedes verlo en YouTube o Netflix. ¡Recomendado!"
   ]
  },
  {
   "cell_type": "markdown",
   "metadata": {},
   "source": [
    "### Computación interactiva en el cuaderno\n",
    "\n",
    "Observa los iconos en el menú de Jupyter como se muestran en las capturas de pantalla anteriores de este notebook. El primer ícono a la izquierda (un disquete de los antiguos) es para guardar el notebook. Puedes agregar una nueva celda presionando el gran botón **+**. Además existen los los botones cortar, copiar y pegar. Las flechas son para mover la celda actual hacia arriba o hacia abajo. Existe un botón para \"ejecutar\" una celda de código (ejecutar el código), el icono cuadrado significa \"detener\" y la flecha circular para \"reiniciar\" el kernel del notebook (si el cálculo está tomando demasiado tiempo, por ejemplo). Además, se puede seleccionar el tipo de celda: código o texto markdown (u otros que puedes ignorar por ahora).\n",
    "\n",
    "Puedes probar una celda de código escribiendo algunas operaciones aritméticas. Como vimos en nuestra primera lección, los operadores de Python son:\n",
    "```python\n",
    "    + - * / ** % //\n",
    "```\n",
    "\n",
    "Existe la suma, la resta, la multiplicación y la división. Los últimos tres operadores son _exponente_ (elevar a la potencia), _módulo_ (divide y devuelve el resto) y _división entera_.\n",
    "\n",
    "Tecleando `[shift] + [enter]` se ejecutará la celda y obtendrás la salida en una nueva línea, etiquetada como `Out [1]`. La numeración aumenta cada vez que ejecuta una celda.\n",
    "\n",
    "##### ¡Inténtalo!\n",
    "\n",
    "Agrega una celda con el botón más, ingresa algunas operaciones, y utiliza `[shift] + [enter]` para ejecutar."
   ]
  },
  {
   "cell_type": "code",
   "execution_count": null,
   "metadata": {},
   "outputs": [],
   "source": []
  },
  {
   "cell_type": "markdown",
   "metadata": {},
   "source": [
    "Todo lo que hicimos usando IPython lo podemos hacer en celdas de código dentro de un Jupyter notebook. Prueba algunas de las cosas que aprendimos en la lección 1:"
   ]
  },
  {
   "cell_type": "code",
   "execution_count": null,
   "metadata": {},
   "outputs": [],
   "source": [
    "print(\"¡Hola mundo!\")"
   ]
  },
  {
   "cell_type": "code",
   "execution_count": null,
   "metadata": {},
   "outputs": [],
   "source": [
    "x = 2**8\n",
    "x < 64"
   ]
  },
  {
   "cell_type": "markdown",
   "metadata": {},
   "source": [
    "### Modo de edición y modo de comando\n",
    "\n",
    "Una vez que haces click en una celda del notebook para seleccionarla, puedes interactuar con ella de dos maneras o _modos_. Más adelante, si revisas este material nuevamente y en mayor profundidad, puedes leer más sobre esto en la referencia número 1 al final de este notebook.\n",
    "\n",
    "**Modo de edición:**\n",
    "\n",
    "* Ingresamos **al modo de edición** presionando 'Enter' o haciendo doble clic en la celda.\n",
    "\n",
    "* Sabemos que estamos en este modo cuando vemos un borde de celda verde y un mensaje en el área de la celda.\n",
    "\n",
    "* Cuando estamos en modo de edición, podemos escribir en la celda, como un editor de texto normal, tanto para código como para texto markdown.\n",
    "\n",
    "\n",
    "**Modo de comando:**\n",
    "\n",
    "* Ingresamos en **modo de comando** presionando `Esc` o haciendo clic fuera del área de la celda.\n",
    "\n",
    "* Sabemos que estamos en este modo cuando vemos un borde de celda gris con un margen azul izquierdo.\n",
    "\n",
    "* En este modo, ciertas teclas permiten utilizar atajos de teclado (accesos directos) para ayudar con acciones comunes.\n",
    "\n",
    "Puede encontrar una lista de los accesos directos seleccionando `Help->Keyboard Shortcuts` (`Ayuda-> Atajos de teclado`) desde la barra de menú del notebook. Puedes continuar con esto más adelante, pero se vuelve más útil cuanto más usas Jupyter. ¡Siempre es más eficiente conocer atajos de teclado!"
   ]
  },
  {
   "cell_type": "markdown",
   "metadata": {},
   "source": [
    "### Cómo cerrar el kernel y salir\n",
    "\n",
    "Cerrar la pestaña del navegador donde has estado trabajando en un notebook no \"cierra\" inmediatamente el kernel. A veces necesitas hacer un poco de limpieza antes.\n",
    "\n",
    "Una vez que cierres un notebook, verás en la aplicación Jupyter principal que el archivo del notebook tiene un símbolo con un libro verde al lado. Deberías hacer click en el cuadro a la izquierda de ese símbolo, y luego hacer clic donde dice **Shutdown** o **Apagar**. No necesitas hacer esto todo el tiempo, pero si tienes varios notebooks abiertos, permite disminuir los recursos utilizados.\n",
    "\n",
    "Del mismo modo, Jupyter aún se está ejecutando incluso después de cerrar la pestaña del navegador que tiene abierto Jupyter. Para salir de la aplicación Jupyter, debe ir al terminal de comando que se utilizó para abrir Jupyter, y hacer `[Ctrl] + [c]` para salir."
   ]
  },
  {
   "cell_type": "markdown",
   "metadata": {},
   "source": [
    "### Nbviewer\n",
    "\n",
    "[Nbviewer](http://nbviewer.jupyter.org/) es un servicio web gratuito que le permite compartir versiones estáticas de notebooks, como si se tratara de una página web. Si un archivo de computadora portátil está disponible públicamente en la web, puede verlo ingresando su URL en la página web de nbviewer y presionando el botón **Go!**. El notebook se representará como una página estática: los visitantes podrán leer todo, pero no podrán interactuar con el código."
   ]
  },
  {
   "cell_type": "markdown",
   "metadata": {},
   "source": [
    "## Juega con strings en Python\n",
    "\n",
    "Sigamos jugando con strings o cadenas de texto, pero ahora trabajaremos en un Jupyter Notebook (en lugar de IPython). Te recomendamos que abras un nuevo notebook limpio para seguir los ejemplos de esta lección y escribas los comandos que ve. Escribe tu mismo, letra a letra, todos los comandos que quieras probar. Si sólo copias y pegas, ahorrarás tiempo, pero aprenderás poco y retendrás aún menos. ¡Tipea todo!"
   ]
  },
  {
   "cell_type": "code",
   "execution_count": null,
   "metadata": {},
   "outputs": [],
   "source": [
    "str_1 = 'hola'\n",
    "str_2 = 'mundo'"
   ]
  },
  {
   "cell_type": "markdown",
   "metadata": {},
   "source": [
    "Recuerde que podemos concatenar (\"unir\") los strings, por ejemplo:"
   ]
  },
  {
   "cell_type": "code",
   "execution_count": null,
   "metadata": {},
   "outputs": [],
   "source": [
    "new_string = str_1 + str_2\n",
    "print(new_string)"
   ]
  },
  {
   "cell_type": "markdown",
   "metadata": {},
   "source": [
    "¿Qué ocurre si queremos agregar un espacio que separa `hola` from `mundo`? Añadimos directamente la cadena `' '` en el medio de las dos variables. Un espacio es un carácter de texto (NdlT: se llama character en inglés, abreviado char para los amigos)."
   ]
  },
  {
   "cell_type": "code",
   "execution_count": null,
   "metadata": {},
   "outputs": [],
   "source": [
    "my_string = str_1 + ' ' + str_2\n",
    "print(my_string)"
   ]
  },
  {
   "cell_type": "markdown",
   "metadata": {},
   "source": [
    "##### Ejercicio:\n",
    "\n",
    "Crea una nueva variable de cadena que agrega tres signos de admiración al final de `my_string`."
   ]
  },
  {
   "cell_type": "markdown",
   "metadata": {
    "collapsed": true
   },
   "source": [
    "### Indexación\n",
    "\n",
    "Podemos acceder a cada carácter de texto por separado en una cadena de texto (o incluso, un trozo continuo de la misma) usando _índices_: enteros que denotan la posición del carácter en la cadena de texto. Los índices van entre corchetes, tocando el nombre de la variable a la derecha. Por ejemplo, para acceder al primer elemento de `new_string`, debemos ingresar` new_string[0]`. ¡Sí! en Python comenzamos a contar desde 0 (y hace mucho sentido)."
   ]
  },
  {
   "cell_type": "code",
   "execution_count": null,
   "metadata": {},
   "outputs": [],
   "source": [
    "my_string[0]"
   ]
  },
  {
   "cell_type": "code",
   "execution_count": null,
   "metadata": {},
   "outputs": [],
   "source": [
    "#Si queremos el tercer elemento:\n",
    "my_string[2]"
   ]
  },
  {
   "cell_type": "markdown",
   "metadata": {},
   "source": [
    "Es posible que hayas notado que en la celda de arriba tenemos una línea antes del código que comienza con el signo `#`. Esa línea parece ser ignorada por Python: ¿sabes por qué?\n",
    "\n",
    "Es un **comentario**: cuando quieras comentar su código de Python, coloca un `#` delante del comentario. Por ejemplo:"
   ]
  },
  {
   "cell_type": "code",
   "execution_count": null,
   "metadata": {},
   "outputs": [],
   "source": [
    "my_string[1] #así accedemos al segundo elemento del string"
   ]
  },
  {
   "cell_type": "markdown",
   "metadata": {},
   "source": [
    "¿Cómo sabemos el índice del último elemento en la cadena?\n",
    "\n",
    "Python tiene una función incorporada llamada `len()` (abreviación de length, que significa largo o longitud en inglés) que proporciona la información sobre la longitud de un objeto:"
   ]
  },
  {
   "cell_type": "code",
   "execution_count": null,
   "metadata": {},
   "outputs": [],
   "source": [
    "len(my_string)"
   ]
  },
  {
   "cell_type": "markdown",
   "metadata": {},
   "source": [
    "¡Estupendo! Ahora sabemos que `my_string` tiene diez caracteres. ¿Qué sucede si ingresamos este número como índice?"
   ]
  },
  {
   "cell_type": "code",
   "execution_count": null,
   "metadata": {},
   "outputs": [],
   "source": [
    "my_string[10]"
   ]
  },
  {
   "cell_type": "markdown",
   "metadata": {},
   "source": [
    "Oops. Tenemos un error: ¿por qué? La longitud de `my_string` es diez. Pero el número entero 10 no funciona como un índice. Si esperabas obtener el último elemento, es porque olvidaste que Python comienza a contar desde cero. No te preocupes: lleva un tiempo acostumbrarse.\n",
    "\n",
    "El mensaje de error dice que el índice está fuera de rango: esto es porque el índice del _último elemento_ siempre será: `len (cadena) - 1`. En nuestro caso, ese número es 9. Probémoslo."
   ]
  },
  {
   "cell_type": "code",
   "execution_count": null,
   "metadata": {},
   "outputs": [],
   "source": [
    "my_string[9]"
   ]
  },
  {
   "cell_type": "markdown",
   "metadata": {},
   "source": [
    "Python también ofrece una forma inteligente y elegante de obtener el último elemento, por lo que no es necesario calcular la longitud y restar uno: se puede utilizar simplemente un `-1` para el índice. ¿Cómo no enamorarse de esta característica?:"
   ]
  },
  {
   "cell_type": "code",
   "execution_count": null,
   "metadata": {},
   "outputs": [],
   "source": [
    "my_string[-1]"
   ]
  },
  {
   "cell_type": "markdown",
   "metadata": {},
   "source": [
    "¿Qué pasa si usamos un `-2` como índice?"
   ]
  },
  {
   "cell_type": "code",
   "execution_count": null,
   "metadata": {},
   "outputs": [],
   "source": [
    "my_string[-2]"
   ]
  },
  {
   "cell_type": "markdown",
   "metadata": {},
   "source": [
    "Obtenemos la letra `d` del string `hola mundo`. ¡Python es tan inteligente que puede contar hacia atrás!"
   ]
  },
  {
   "cell_type": "markdown",
   "metadata": {},
   "source": [
    "### Cortar cadenas\n",
    "\n",
    "A veces, queremos obtener más de un elemento: es posible que deseemos una sección de la cadena. Lo hacemos utilizando la notación de _slicing_ (corte) entre corchetes. Para esto se usa `[inicio:fin]`, donde `inicio` es el índice para comenzar el corte, y `fin` es el índice (no incluido) para terminar el corte. Por ejemplo, para tomar la palabra `hola` de nuestra cadena utilizamos:"
   ]
  },
  {
   "cell_type": "code",
   "execution_count": null,
   "metadata": {},
   "outputs": [],
   "source": [
    "my_string[0:4]"
   ]
  },
  {
   "cell_type": "markdown",
   "metadata": {},
   "source": [
    "Puedes omitir el índice `inicio` si desea cortar desde el principio de la cadena, y puedes omitir el `fin` si deseas llegar hasta el final de la cadena. Por ejemplo, si queremos tomar la palabra `'mundo'` de ` my_string`, podríamos hacer lo siguiente:"
   ]
  },
  {
   "cell_type": "code",
   "execution_count": null,
   "metadata": {},
   "outputs": [],
   "source": [
    "my_string[5:]"
   ]
  },
  {
   "cell_type": "markdown",
   "metadata": {},
   "source": [
    "Una forma útil de visualizar segmentos es imaginar que los índices apuntan a los espacios _entre_ caracteres en la cadena. De esta forma, cuando escriba `my_string[i]`, se estaría refiriendo al \"carácter a la derecha de `i` \"(Referencia 2).\n",
    "\n",
    "Mira el diagrama a continuación (NdlT: Engineer significa ingeniero en inglés). Comenzamos a contar a cero; la letra `g` está a la derecha del índice 2. Entonces, si queremos obtener la subcadena `'gin'` de `'engineer'`, necesitamos `[inicio:fin] = [2:5]`.\n",
    "\n",
    "<img src = \"../images/slicing.png\" style = \"width: 400px;\" />"
   ]
  },
  {
   "cell_type": "markdown",
   "metadata": {
    "collapsed": true
   },
   "source": [
    "¡Inténtalo tú mismo!"
   ]
  },
  {
   "cell_type": "code",
   "execution_count": null,
   "metadata": {},
   "outputs": [],
   "source": [
    "# Definir un string\n",
    "eng_string = 'engineer'\n",
    "\n",
    "# Obtener el sub-string 'gin'\n",
    "eng_string[2:5] # O equivalentemente, eng_string[2:-3]"
   ]
  },
  {
   "cell_type": "markdown",
   "metadata": {},
   "source": [
    "##### Ejercicios:\n",
    "\n",
    "1. Define una cadena de texto llamada `'banana'` e imprime la primera y última `'a'`.\n",
    "2. Usando el mismo string, obtén las 2 combinaciones posibles que corresponden a la palabra \"ana\" e imprímelas.\n",
    "3. Crea tu propio ejercicio de slicing y pídales a sus compañeros que lo intenten (trabajar en grupos de 3)."
   ]
  },
  {
   "cell_type": "markdown",
   "metadata": {},
   "source": [
    "Las siguientes líneas contienen las soluciones; para revelar la respuesta, selecciona las líneas con el mouse:\n",
    " \n",
    "Ejercicio de solución 1:\n",
    "\n",
    "<span style = \"color: white\"> b = 'banana' </span>\n",
    "\n",
    "<span style = \"color: white\"> print (b [1]) </span>\n",
    "\n",
    "<span style = \"color: white\"> print (b [-1]) </span>\n",
    "\n",
    "\n",
    "Ejercicio de solución 2:\n",
    "\n",
    "<span style = \"color: white\"> print (b [1: 4]) </span>\n",
    "\n",
    "<span style = \"color: white\"> print (b [3:]) </span>"
   ]
  },
  {
   "cell_type": "markdown",
   "metadata": {},
   "source": [
    "### ¿Qué más podemos hacer con las cadenas?\n",
    "\n",
    "Python tiene muchas funciones útiles para cadenas. Aprenderás algunas de ellos en esta sección. Un detalle técnico: en Python, algunas funciones están asociadas a una clase particular de objetos (por ejemplo, strings). La palabra **método**  (method) se usa en este caso, y tenemos una nueva forma de llamarlos: el operador de punto. Es un poco contra-intuitivo que el nombre del método viene después del punto, mientras que el nombre del objeto en particular en el que actúa es lo primero. Así, por ejemplo, tendríamos:  `mystring.method()`.\n",
    "\n",
    "Si tiene curiosidad acerca de los muchos métodos disponibles para strings, puedes ir a la sección \"Métodos de strings incorporados\" en este [tutorial](https://www.tutorialspoint.com/python3/python_strings.htm).\n",
    "\n",
    "Usaremos una cita de Albert Einstein como en un string y aplicaremos algunos métodos de cadena útiles para ejemplificar."
   ]
  },
  {
   "cell_type": "code",
   "execution_count": null,
   "metadata": {},
   "outputs": [],
   "source": [
    "# Everybody is a genius. But if you judge a fish by its ability to climb a tree, \n",
    "# it will live its whole life believing that it is stupid\n",
    "\n",
    "AE_quote = \"Todas las personas son genios. Pero si juzgas a un pez por su habilidad de trepar un árbol, creerá toda su vida que es un idiota.\""
   ]
  },
  {
   "cell_type": "markdown",
   "metadata": {},
   "source": [
    "El método **`count()`** retorna el número de ocurrencias de un substring determinado en un rango. Los argumentos para el rango son opcionales.\n",
    "\n",
    "*Sintaxis:*\n",
    "\n",
    "`str.count(substr, inicio, fin)`\n",
    "\n",
    "Aquí, `inicio` y `fin` son enteros que indican los índices donde comenzar y finalizar el conteo del string `substr`. Por ejemplo, si queremos saber cuántas letras `'e'` tenemos en toda la cadena, podemos hacer:"
   ]
  },
  {
   "cell_type": "code",
   "execution_count": null,
   "metadata": {},
   "outputs": [],
   "source": [
    "AE_quote.count('e')"
   ]
  },
  {
   "cell_type": "markdown",
   "metadata": {},
   "source": [
    "Si queremos saber cuántos de esos carácteres `'e'` están en el rango `[0:20]`, hacemos:"
   ]
  },
  {
   "cell_type": "code",
   "execution_count": null,
   "metadata": {},
   "outputs": [],
   "source": [
    "AE_quote.count('e', 0, 20) # O equivalentemente, AE_quote[:20].count('e')"
   ]
  },
  {
   "cell_type": "markdown",
   "metadata": {},
   "source": [
    "Podemos buscar cadenas más complejas, por ejemplo:"
   ]
  },
  {
   "cell_type": "code",
   "execution_count": null,
   "metadata": {},
   "outputs": [],
   "source": [
    "AE_quote.count('un')"
   ]
  },
  {
   "cell_type": "markdown",
   "metadata": {},
   "source": [
    "El método **find()** nos dice si un string `substr` ocurre en la cadena en la que estamos aplicando el método. Los argumentos para el rango son opcionales.\n",
    "\n",
    "*Sintaxis:*\n",
    "\n",
    "`str.find (substr, inicio, fin)`\n",
    "\n",
    "Donde `inicio` y `fin` son índices que indican dónde comenzar y terminar el slicing para aplicar el método `find()`.\n",
    "\n",
    "Si la cadena `substr` está en la cadena original, el método `find()` devolverá el índice donde comienza la subcadena, de lo contrario devolverá `-1`.\n",
    "\n",
    "Por ejemplo, busquemos la palabra `\"pez\"` en la cita de Albert Einstein."
   ]
  },
  {
   "cell_type": "code",
   "execution_count": null,
   "metadata": {},
   "outputs": [],
   "source": [
    "AE_quote.find('pez')"
   ]
  },
  {
   "cell_type": "markdown",
   "metadata": {},
   "source": [
    "Si conocemos la longitud (largo) del substring, ahora podemos aplicar la notación de corte para hallar la palabra `\"pez\"`."
   ]
  },
  {
   "cell_type": "code",
   "execution_count": null,
   "metadata": {},
   "outputs": [],
   "source": [
    "len('pez')"
   ]
  },
  {
   "cell_type": "code",
   "execution_count": null,
   "metadata": {},
   "outputs": [],
   "source": [
    "AE_quote[51: 51 + len('pez')]"
   ]
  },
  {
   "cell_type": "markdown",
   "metadata": {},
   "source": [
    "O equivalentemente"
   ]
  },
  {
   "cell_type": "code",
   "execution_count": null,
   "metadata": {},
   "outputs": [],
   "source": [
    "s = 'pez'\n",
    "i = AE_quote.find(s)\n",
    "AE_quote[i: i + len(s)]"
   ]
  },
  {
   "cell_type": "markdown",
   "metadata": {},
   "source": [
    "Veamos qué sucede cuando tratamos de buscar una cadena que no está en la cita."
   ]
  },
  {
   "cell_type": "code",
   "execution_count": null,
   "metadata": {},
   "outputs": [],
   "source": [
    "AE_quote.find('PEZ')"
   ]
  },
  {
   "cell_type": "markdown",
   "metadata": {},
   "source": [
    "Devuelve `-1` ... pero cuidado, ¡eso no significa que la posición esté al final de la cadena original! Si leemos la [documentación](https://docs.python.org/3/library/stdtypes.html#string-methods), confirmamos que un valor devuelto de `-1` indica que la subcadena que estamos buscar _no está en la cadena_ en la que estamos buscando.\n",
    "\n",
    "Un método similar es **`index()`**: funciona como el método `find()`, pero genera un error si no se encuentra la cadena que estamos buscando.\n",
    "\n",
    "*Sintaxis:*\n",
    "\n",
    "`str.index(substr, start, end)`\n",
    "\n",
    "¡Por eso siempre es importante verificar la documentación!"
   ]
  },
  {
   "cell_type": "code",
   "execution_count": null,
   "metadata": {},
   "outputs": [],
   "source": [
    "AE_quote.index('pez')"
   ]
  },
  {
   "cell_type": "code",
   "execution_count": null,
   "metadata": {},
   "outputs": [],
   "source": [
    "AE_quote.index('PEZ')"
   ]
  },
  {
   "cell_type": "markdown",
   "metadata": {},
   "source": [
    "En el ejemplo anterior, usamos la función `len()` para calcular la longitud de la cadena `'pez'`, y usamos el resultado para calcular el índice final. Sin embargo, si la cadena es demasiado larga, tener una línea que calcule la longitud puede ser inconveniente o puede hacer que su código parezca desordenado. Para evitar esto, podemos usar los métodos `find()` o `index()` para calcular la posición final. En el ejemplo de \"pez\", podríamos buscar el índice de la palabra \"por\" (la palabra que sigue a \"pez\") y restar 1 de ese índice para obtener el índice que corresponde al espacio correcto después de `'fish'`. ¡Hay muchas formas de hacer slicing de cadenas de texto, sólo limitadas por tu imaginación!\n",
    "\n",
    "##### Nota:\n",
    "Recuerde que el índice final no es inclusivo, por lo que queremos el índice del espacio que sigue al string `'pez'`."
   ]
  },
  {
   "cell_type": "code",
   "execution_count": null,
   "metadata": {},
   "outputs": [],
   "source": [
    "idx_ini = AE_quote.index('pez')\n",
    "idx_fin = AE_quote.index('por') - 1    # Se resta 1 para obtener el indice correcto del espacio después de pez."
   ]
  },
  {
   "cell_type": "code",
   "execution_count": null,
   "metadata": {},
   "outputs": [],
   "source": [
    "AE_quote[idx_ini:idx_fin]"
   ]
  },
  {
   "cell_type": "markdown",
   "metadata": {},
   "source": [
    "##### Ejercicios:\n",
    "\n",
    "1. Usa el método `count()` para contar cuántas letras '`a'` están en `AE_quote`?\n",
    "2. Usando el mismo método, ¿cuántas letras aisladas `'a'` están en `AE_quote`?\n",
    "3. Usa el método `index ()` para encontrar la posición de las palabras `'genio'`,`'juzgas'` y `'árbol'` en `AE_quote`.\n",
    "4. Con la sintaxis de corte, extrae las palabras del ejercicio 3 de `AE_quote`."
   ]
  },
  {
   "cell_type": "markdown",
   "metadata": {},
   "source": [
    "Existen otros dos métodos de cadena resultan útiles cuando se trabaja con textos y se necesita limpiar, separar o categorizar partes del texto.\n",
    "\n",
    "Para demostrarlos, vamos a trabajar con una cadena diferente, una cita de Eleanor Roosevelt:"
   ]
  },
  {
   "cell_type": "code",
   "execution_count": null,
   "metadata": {},
   "outputs": [],
   "source": [
    "# Great minds discuss ideas; average minds discuss events; small minds discuss people.\n",
    "ER_quote = \"   Grandes mentes discuten sobre ideas; mentes promedio discuten sobre eventos; mentes pequeñas discuten sobre personas.  \""
   ]
  },
  {
   "cell_type": "markdown",
   "metadata": {},
   "source": [
    "Ten en cuenta que la cadena de texto que definimos anteriormente contiene espacios en blanco adicionales al principio y al final. En este caso, fue realizado a propósito, pero a menudo hay espacios extra molestos cuando leemos texto de un archivo (quizás debido a la sangría de un párrafo).\n",
    "\n",
    "Las cadenas tienen un método que nos permite deshacernos de esos espacios en blanco adicionales.\n",
    "\n",
    "El método **`strip()`** devuelve una copia de la cadena de texto en la que se eliminan todos los caracteres dados como argumento desde el principio y el final de la cadena.\n",
    "\n",
    "*Sintaxis:*\n",
    "\n",
    "`str.strip ([chars])`\n",
    "\n",
    "El argumento predeterminado es el carácter de espacio. Por ejemplo, si queremos eliminar los espacios en blanco en `ER_quote` y guardar el resultado en `ER_quote`, podemos hacer:"
   ]
  },
  {
   "cell_type": "code",
   "execution_count": null,
   "metadata": {},
   "outputs": [],
   "source": [
    "ER_quote = ER_quote.strip()"
   ]
  },
  {
   "cell_type": "code",
   "execution_count": null,
   "metadata": {},
   "outputs": [],
   "source": [
    "ER_quote"
   ]
  },
  {
   "cell_type": "markdown",
   "metadata": {},
   "source": [
    "Supongamos que quieres quitar el período al final; podrías hacer lo siguiente:\n",
    "\n",
    "`ER_quote = ER_quote.strip('.')`\n",
    "\n",
    "Pero si no queremos mantener los cambios en nuestra variable de cadena, no sobrescribimos la variable como hicimos anteriormente. Veamos cómo se ve:"
   ]
  },
  {
   "cell_type": "code",
   "execution_count": null,
   "metadata": {},
   "outputs": [],
   "source": [
    "ER_quote.strip('.')"
   ]
  },
  {
   "cell_type": "markdown",
   "metadata": {},
   "source": [
    "Verifique la variable de cadena para confirmar que no cambió (todavía tiene el punto al final):"
   ]
  },
  {
   "cell_type": "code",
   "execution_count": null,
   "metadata": {},
   "outputs": [],
   "source": [
    "ER_quote"
   ]
  },
  {
   "cell_type": "markdown",
   "metadata": {},
   "source": [
    "Otro método útil es **`startswith()`**, para averiguar si una cadena comienza con un cierto carácter.\n",
    "Más adelante en esta lección veremos un ejemplo más interesante; pero por ahora, solo \"verifiquemos\" si nuestra cadena comienza con la palabra \"genial\"."
   ]
  },
  {
   "cell_type": "code",
   "execution_count": null,
   "metadata": {},
   "outputs": [],
   "source": [
    "ER_quote.startswith('grandes')"
   ]
  },
  {
   "cell_type": "markdown",
   "metadata": {},
   "source": [
    "La salida es `False` porque la palabra no está en mayúscula. Las letras mayúsculas y minúsculas son caracteres distintos."
   ]
  },
  {
   "cell_type": "code",
   "execution_count": null,
   "metadata": {},
   "outputs": [],
   "source": [
    "ER_quote.startswith('Grandes')"
   ]
  },
  {
   "cell_type": "markdown",
   "metadata": {},
   "source": [
    "Es importante mencionar que no es necesario que coincidamos con la primera palabra, sino con una combinación arbitraria de caracteres."
   ]
  },
  {
   "cell_type": "code",
   "execution_count": null,
   "metadata": {},
   "outputs": [],
   "source": [
    "ER_quote.startswith('Gra')"
   ]
  },
  {
   "cell_type": "markdown",
   "metadata": {},
   "source": [
    "El último método de cadena que mencionaremos es **`split()`**: devuelve una **lista** de todas las palabras en una cadena. También podemos definir un separador y dividir nuestra cadena de acuerdo con ese separador, y opcionalmente podemos limitar el número de divisiones a `num`.\n",
    "\n",
    "*Sintaxis:*\n",
    "\n",
    "`str.split(separator, num)`"
   ]
  },
  {
   "cell_type": "code",
   "execution_count": null,
   "metadata": {},
   "outputs": [],
   "source": [
    "print(AE_quote.split())"
   ]
  },
  {
   "cell_type": "code",
   "execution_count": null,
   "metadata": {},
   "outputs": [],
   "source": [
    "print(ER_quote.split())"
   ]
  },
  {
   "cell_type": "markdown",
   "metadata": {},
   "source": [
    "Vamos a dividir el `ER_quote` utilizando un carácter distinto, un punto y coma (`;`):"
   ]
  },
  {
   "cell_type": "code",
   "execution_count": null,
   "metadata": {},
   "outputs": [],
   "source": [
    " print(ER_quote.split(';'))"
   ]
  },
  {
   "cell_type": "markdown",
   "metadata": {},
   "source": [
    "##### Reflexionando...\n",
    "\n",
    "¿Notan algo nuevo en la salida de las llamadas `print()`?\n",
    "¿Que significan esos paréntesis cuadrados, `[]`?"
   ]
  },
  {
   "cell_type": "markdown",
   "metadata": {},
   "source": [
    "## Juega con listas de Python\n",
    "\n",
    "Los corchetes o paréntesis cuadrados indican una **lista** de Python. Una lista es un tipo de datos que ya viene en Python que consiste en una secuencia de valores, por ejemplo, números o strings. Las listas funcionan de manera similar a las cadenas de texto: sus elementos están numerados a partir de cero, la función `len()` regresa el número de elementos, se pueden manipular con notación de slicing, y así sucesivamente.\n",
    "\n",
    "La forma más fácil de crear una lista es incluir una secuencia de valores separados por comas entre corchetes:"
   ]
  },
  {
   "cell_type": "code",
   "execution_count": null,
   "metadata": {},
   "outputs": [],
   "source": [
    "# A list of integers \n",
    "[1, 4, 7, 9]"
   ]
  },
  {
   "cell_type": "code",
   "execution_count": null,
   "metadata": {},
   "outputs": [],
   "source": [
    "# A list of strings\n",
    "['manzana', 'banana', 'naranja']"
   ]
  },
  {
   "cell_type": "code",
   "execution_count": null,
   "metadata": {},
   "outputs": [],
   "source": [
    "# A list with different element types\n",
    "[2, 'manzana', 4.5, [5, 10]]"
   ]
  },
  {
   "cell_type": "markdown",
   "metadata": {},
   "source": [
    "En este último ejemplo, el último elemento de la lista es en realidad _otra lista_. ¡Sí! No hay problema. Una lista puede contener elementos de cualquier tipo.\n",
    "\n",
    "También podemos asignar listas a nombres de variables, por ejemplo:"
   ]
  },
  {
   "cell_type": "code",
   "execution_count": null,
   "metadata": {},
   "outputs": [],
   "source": [
    "integers = [1, 2, 3, 4, 5]\n",
    "fruits = ['manzana', 'banana', 'naranja']"
   ]
  },
  {
   "cell_type": "code",
   "execution_count": null,
   "metadata": {},
   "outputs": [],
   "source": [
    "print(integers)"
   ]
  },
  {
   "cell_type": "code",
   "execution_count": null,
   "metadata": {},
   "outputs": [],
   "source": [
    "print(fruits)"
   ]
  },
  {
   "cell_type": "code",
   "execution_count": null,
   "metadata": {},
   "outputs": [],
   "source": [
    "new_list = [integers, fruits]"
   ]
  },
  {
   "cell_type": "code",
   "execution_count": null,
   "metadata": {},
   "outputs": [],
   "source": [
    "print(new_list)"
   ]
  },
  {
   "cell_type": "markdown",
   "metadata": {},
   "source": [
    "Ten en cuenta que esta `new_list` tiene sólo 2 elementos. Podemos verificarlo con la función `len()`:"
   ]
  },
  {
   "cell_type": "code",
   "execution_count": null,
   "metadata": {},
   "outputs": [],
   "source": [
    "len(new_list)"
   ]
  },
  {
   "cell_type": "markdown",
   "metadata": {},
   "source": [
    "Cada elemento de `new_list` es, por supuesto, otra lista.\n",
    "Al igual que con las cadenas, accedemos a los elementos de la lista con índices y notación de slicing. El primer elemento de `new_list` es la lista de enteros del 1 al 5, mientras que el segundo elemento es la lista de tres nombres de frutas."
   ]
  },
  {
   "cell_type": "code",
   "execution_count": null,
   "metadata": {},
   "outputs": [],
   "source": [
    "new_list[0]"
   ]
  },
  {
   "cell_type": "code",
   "execution_count": null,
   "metadata": {},
   "outputs": [],
   "source": [
    "new_list[1]"
   ]
  },
  {
   "cell_type": "code",
   "execution_count": null,
   "metadata": {},
   "outputs": [],
   "source": [
    "# Accessing the first two elements of the list fruits\n",
    "fruits[0:2]"
   ]
  },
  {
   "cell_type": "markdown",
   "metadata": {},
   "source": [
    "##### Ejercicios:\n",
    "\n",
    "1. De la lista `enteros`, toma la sub-lista `[2, 3, 4]` y luego `[4, 5]`.\n",
    "2. Crea tu propia lista y diseña un ejercicio para agarrar slices, trabajando con tus compañeros de clase."
   ]
  },
  {
   "cell_type": "markdown",
   "metadata": {},
   "source": [
    "### Agregar elementos a una lista\n",
    "\n",
    "Podemos agregar elementos a una lista usando el método **append()**: agrega un objeto que pasamos a una lista existente. Por ejemplo, para agregar el elemento 6 a nuestra lista `integers`, podemos hacer:"
   ]
  },
  {
   "cell_type": "code",
   "execution_count": null,
   "metadata": {},
   "outputs": [],
   "source": [
    "integers.append(6)"
   ]
  },
  {
   "cell_type": "markdown",
   "metadata": {},
   "source": [
    "Comprobemos que la lista ahora tiene un 6 al final:"
   ]
  },
  {
   "cell_type": "code",
   "execution_count": null,
   "metadata": {},
   "outputs": [],
   "source": [
    "print(integers)"
   ]
  },
  {
   "cell_type": "markdown",
   "metadata": {},
   "source": [
    "### Lista de miembros\n",
    "\n",
    "¡Comprobar la pertenencia a una lista en Python es bastante similar al idioma inglés!\n",
    "\n",
    "*Sintaxis*\n",
    "\n",
    "Para verificar si un elemento está **en** una lista usamos `in`:\n",
    "\n",
    "`elemento in lista`\n",
    "\n",
    "Para verificar si un elemento **no está en** una lista usamos `not in`:\n",
    "\n",
    "`elemento not in lista`"
   ]
  },
  {
   "cell_type": "code",
   "execution_count": null,
   "metadata": {},
   "outputs": [],
   "source": [
    "'fresa' in fruits"
   ]
  },
  {
   "cell_type": "code",
   "execution_count": null,
   "metadata": {},
   "outputs": [],
   "source": [
    "'fresa' not in fruits"
   ]
  },
  {
   "cell_type": "markdown",
   "metadata": {},
   "source": [
    "##### Ejercicios\n",
    "\n",
    "1. Agrega dos frutas diferentes a la lista `fruits`.\n",
    "2. Comprueba si `'mango'` está en tu nueva lista` fruits`.\n",
    "3. Dada la lista `lista = [1, 2, 3, '4', [5, 'seis'], [7]]` ejecuta lo siguiente en celdas separadas y analiza el resultado con tus compañeros de clase:\n",
    "\n",
    "```Python\n",
    "4 in lista\n",
    "5 in lista\n",
    "7 in lista\n",
    "[7] in lista\n",
    "```"
   ]
  },
  {
   "cell_type": "markdown",
   "metadata": {},
   "source": [
    "### Modificar elementos de una lista\n",
    "\n",
    "No sólo podemos agregar elementos a una lista, también podemos modificar un elemento específico.\n",
    "Reutilicemos la lista del ejercicio anterior y reemplacemos algunos elementos."
   ]
  },
  {
   "cell_type": "code",
   "execution_count": null,
   "metadata": {},
   "outputs": [],
   "source": [
    "lista = [1, 2, 3, '4', [5, 'seis'], [7]]"
   ]
  },
  {
   "cell_type": "markdown",
   "metadata": {},
   "source": [
    "Podemos encontrar la posición de un cierto elemento con el método `index()`, al igual que con las cadenas. Por ejemplo, si queremos saber dónde está el elemento `'4'`, podemos hacer:"
   ]
  },
  {
   "cell_type": "code",
   "execution_count": null,
   "metadata": {},
   "outputs": [],
   "source": [
    "lista.index('4')"
   ]
  },
  {
   "cell_type": "code",
   "execution_count": null,
   "metadata": {},
   "outputs": [],
   "source": [
    "lista[3]"
   ]
  },
  {
   "cell_type": "markdown",
   "metadata": {},
   "source": [
    "Vamos a reemplazarlo con el valor entero `4`:"
   ]
  },
  {
   "cell_type": "code",
   "execution_count": null,
   "metadata": {},
   "outputs": [],
   "source": [
    "lista[3] = 4"
   ]
  },
  {
   "cell_type": "code",
   "execution_count": null,
   "metadata": {},
   "outputs": [],
   "source": [
    "lista"
   ]
  },
  {
   "cell_type": "code",
   "execution_count": null,
   "metadata": {},
   "outputs": [],
   "source": [
    "4 in lista"
   ]
  },
  {
   "cell_type": "markdown",
   "metadata": {},
   "source": [
    "##### Ejercicio\n",
    "Reemplaza el último elemento de `lista` con algo diferente."
   ]
  },
  {
   "cell_type": "markdown",
   "metadata": {},
   "source": [
    "Poder modificar elementos en una lista es una \"propiedad\" de las listas de Python; otros objetos Python que veremos más adelante en el curso también se comportan así, pero no todos los objetos Python. Por ejemplo, no puede modificar elementos en un string. Si lo intentamos, Python se quejará.\n",
    "\n",
    "¡No importa! Vamos a intentarlo. Uno de los principios de computación es comprobar e intentar cosas, aunque no funcionen:"
   ]
  },
  {
   "cell_type": "code",
   "execution_count": null,
   "metadata": {},
   "outputs": [],
   "source": [
    "string = 'Esto es un string.'"
   ]
  },
  {
   "cell_type": "markdown",
   "metadata": {},
   "source": [
    "Supongamos que queremos reemplazar el período ('.') Por un signo de exclamación ('!'). ¿Podemos modificar directamente este elemento de cadena?"
   ]
  },
  {
   "cell_type": "code",
   "execution_count": null,
   "metadata": {},
   "outputs": [],
   "source": [
    "string[-1]"
   ]
  },
  {
   "cell_type": "code",
   "execution_count": null,
   "metadata": {},
   "outputs": [],
   "source": [
    "string[-1] = '!'"
   ]
  },
  {
   "cell_type": "markdown",
   "metadata": {},
   "source": [
    "¡Te lo dije! Python confirma que no podemos cambiar los elementos de una cadena por asignación de elemento."
   ]
  },
  {
   "cell_type": "markdown",
   "metadata": {},
   "source": [
    "## Cadenas y listas en acción\n",
    "\n",
    "Has aprendido muchas cosas sobre cadenas de texto y listas en esta lección, y probablemente estás ansioso por ver cómo aplicarlo a una situación realista. Creamos un [ejemplo completo](./3_Jugando_con_archivo_de_cursos.ipynb) en un notebook separado para mostrar el poder de Python con los datos de texto.\n",
    "\n",
    "Pero antes de avanzar a eso, deberíamos presentarle las potentes ideas de **iteración** y **condicionales** en Python."
   ]
  },
  {
   "cell_type": "markdown",
   "metadata": {},
   "source": [
    "### Iteración con  `for`\n",
    "\n",
    "La idea de _iteración_ es básicamente repetir un proceso varias veces. Si tienes experiencia en programación con otro idioma (como C o Java, por ejemplo), puedes tener una idea de cómo crear iteraciones con sentencias `for`. Pero estos son un poco diferentes en Python, como puede leer en la [documentación](https://docs.python.org/3/tutorial/controlflow.html#for-statements).\n",
    "\n",
    "En Python, la instrucción `for` itera sobre los elementos de una secuencia. Digamos que se tiene una lista llamada `fruits` que contiene cadenas de texto con nombres de fruta. Puedes escribir una ciclo for de la siguiente forma:\n",
    "\n",
    "```Python\n",
    "for fruit in fruits:\n",
    "```\n",
    "hacer algo con cada elemento de la lista.\n",
    "\n",
    "Aquí, por primera vez, encontraremos una característica distintiva del lenguaje Python: agrupanción por **indentación**. Para delimitar _qué_ Python debe hacer con cada `fruit` en la lista de` fruits`, colocamos las siguientes declaraciones _indentadas_ desde la izquierda.\n",
    "\n",
    "¿Cuánto indentar? Esta es una pregunta de estilo, y todos tienen una preferencia: dos espacios, cuatro espacios, una sola tabulación... todos son válidos: ¡lo importante es elegir un estilo y ser consecuente! De la misma manera, el código resulta más legible si escribirmos los nombres de las variables en inglés.\n",
    "\n",
    "Usemos cuatro espacios:"
   ]
  },
  {
   "cell_type": "code",
   "execution_count": null,
   "metadata": {},
   "outputs": [],
   "source": [
    "fruits = ['manzana', 'banana', 'naranja', 'cereza', 'mandarina']\n",
    "\n",
    "for fruit in fruits:\n",
    "    print(\"Come tu\", fruit)"
   ]
  },
  {
   "cell_type": "markdown",
   "metadata": {},
   "source": [
    "##### Presta atención:\n",
    "\n",
    "* La instrucción `for` termina con dos puntos,`: `\n",
    "* La variable `fruit` está implícitamente definida en la declaración` for`\n",
    "* `fruit` tomará el valor de cada elemento de la lista` fruits`, en orden\n",
    "* La sentencia indentada `print()` se ejecuta para cada valor de `fruit`\n",
    "* Una vez que Python se queda sin frutas ('fruits'), se detiene\n",
    "* ¡No necesitamos saber con anticipación cuántos elementos hay en la lista!"
   ]
  },
  {
   "cell_type": "markdown",
   "metadata": {},
   "source": [
    "##### Pregunta desafiante:\n",
    "\n",
    "- ¿Cuál es el valor de la variable `fruit` después de ejecutar la instrucción` for` anterior? Discute con tu vecino. (Confirma tu conjetura en una celda de código)."
   ]
  },
  {
   "cell_type": "markdown",
   "metadata": {},
   "source": [
    "Una función muy útil para usar con declaraciones `for` es **` enumerate () `**: agrega un contador que puede usar como índice mientras se ejecuta su iteración. Para usarlo, define implícitamente _dos_ variables en la instrucción `for`: el contador y el valor de la secuencia que se itera.\n",
    "\n",
    "Estudia el siguiente bloque de código:"
   ]
  },
  {
   "cell_type": "code",
   "execution_count": null,
   "metadata": {},
   "outputs": [],
   "source": [
    "names = ['sam', 'zoe', 'naty', 'gil', 'tom']\n",
    "\n",
    "for i, name in enumerate(names):\n",
    "    names[i] = name.capitalize()\n",
    "print(names)"
   ]
  },
  {
   "cell_type": "markdown",
   "metadata": {},
   "source": [
    "##### Pregunta desafiante:\n",
    "\n",
    "- ¿Cuál es el valor de la variable `name` después de ejecutar la instrucción` for` anterior? Discute con tu vecino. (Confirma tu conjetura en una celda de código)."
   ]
  },
  {
   "cell_type": "markdown",
   "metadata": {},
   "source": [
    "##### Ejercicio:\n",
    "\n",
    "Supongamos que tenemos una lista de listas (a.k.a., una _nested list_ o lista anidada), como se muestra a continuación:\n",
    "```Python\n",
    "fullnames = [['sam', 'jones'], \n",
    "             ['zoe', 'smith'], \n",
    "             ['joe', 'cheek'], \n",
    "             ['tom', 'perez']]\n",
    "```\n",
    "\n",
    "Escriba un código que cree dos listas simples: una con los primeros nombres, otra con los apellidos de la lista anidada arriba, pero en mayúscula.\n",
    "\n",
    "Para comenzar, necesita crear dos listas _vacías_ utilizando los corchetes pero sin contenido. Hemos hecho eso para tí a continuación. _Pista_: ¡Usa el método de lista `append()`!"
   ]
  },
  {
   "cell_type": "code",
   "execution_count": null,
   "metadata": {},
   "outputs": [],
   "source": [
    "fullnames = [ ['sam','jones'], ['zoe','smith'],['joe','cheek'],['tom','perez'] ]\n",
    "firstnames = []\n",
    "lastnames = []\n",
    "\n",
    "# Write your code here"
   ]
  },
  {
   "cell_type": "markdown",
   "metadata": {},
   "source": [
    "### Condicionales con declaraciones `if`\n",
    "\n",
    "Muchas veces necesitamos la habilidad de verificar condiciones y cambiar el comportamiento de nuestro programa dependiendo de la condición. Lo logramos con una instrucción `if`, que puede tomar una de tres formas."
   ]
  },
  {
   "cell_type": "markdown",
   "metadata": {},
   "source": [
    "(1) **If**: Condicional \"si sucede algo\":"
   ]
  },
  {
   "cell_type": "code",
   "execution_count": null,
   "metadata": {},
   "outputs": [],
   "source": [
    "a = 8 \n",
    "b = 3\n",
    "\n",
    "if a > b:\n",
    "    print('a es mayor que b')"
   ]
  },
  {
   "cell_type": "markdown",
   "metadata": {},
   "source": [
    "(2) **if-else**: Condicional \"si esto sino esto otro\": "
   ]
  },
  {
   "cell_type": "code",
   "execution_count": null,
   "metadata": {},
   "outputs": [],
   "source": [
    "# Definimos un número\n",
    "x = 1547"
   ]
  },
  {
   "cell_type": "code",
   "execution_count": null,
   "metadata": {},
   "outputs": [],
   "source": [
    "if x % 17 == 0: \n",
    "    print('Tu numero es multiplo de 17.')\n",
    "else:\n",
    "    print('Tu numero no es multiplo de 17.')"
   ]
  },
  {
   "cell_type": "markdown",
   "metadata": {},
   "source": [
    "*Nota:* El `%` representa una operación de módulo: da el resto de la división del primer argumento por el segundo"
   ]
  },
  {
   "cell_type": "markdown",
   "metadata": {},
   "source": [
    "*Sugerencia:* Puedes descomentar la siguiente celda y aprender un buen truco para pedirle al usuario que inserte un número. Puedes usar esto en lugar de asignar un valor específico a `x`."
   ]
  },
  {
   "cell_type": "code",
   "execution_count": null,
   "metadata": {},
   "outputs": [],
   "source": [
    "#x = float(input('Insert your number: '))"
   ]
  },
  {
   "cell_type": "markdown",
   "metadata": {},
   "source": [
    "(3) **If-elif-else**: Multiples condicionales:"
   ]
  },
  {
   "cell_type": "code",
   "execution_count": null,
   "metadata": {},
   "outputs": [],
   "source": [
    "a = 3\n",
    "b = 5\n",
    "\n",
    "if a > b:\n",
    "    print('a es mayor a b')\n",
    "elif a < b:\n",
    "    print('a es menor a b')\n",
    "else:\n",
    "    print('a es igual a b')"
   ]
  },
  {
   "cell_type": "markdown",
   "metadata": {},
   "source": [
    "*Nota:* Podemos tener tantos condicionales del tipo `elif` como sea necesario."
   ]
  },
  {
   "cell_type": "markdown",
   "metadata": {},
   "source": [
    "##### Ejercicio\n",
    "\n",
    "Usando declaraciones `if`,` elif` y `else` escribe un código donde eliges un número de 4 dígitos, si es divisible entre 2 y 3, imprimes: 'Tu número no solo es divisible por 2 y 3 sino también por 6 '. Si es divisible por 2, imprime: 'Tu número es divisible por 2'. Si es divisible por 3, imprime: 'Tu número es divisible por 3'. Cualquier otra opción, imprime: 'Tu número no es divisible por 2, 3 o 6'"
   ]
  },
  {
   "cell_type": "markdown",
   "metadata": {},
   "source": [
    "## Lo que hemos aprendido\n",
    "\n",
    "* Cómo usar el entorno de Jupyter y un notebook.\n",
    "* Jugar con strings: acceder a valores, cortar (slicing) y métodos de strings.\n",
    "* Jugar con listas: acceder a valores, cortar y enumerar métodos de listas.\n",
    "* Iteración con declaraciones `for`.\n",
    "* Condicionales con declaraciones `if`."
   ]
  },
  {
   "cell_type": "markdown",
   "metadata": {},
   "source": [
    "## Referencias\n",
    "\n",
    "1. [Conceptos básicos del notebook: editor](http://jupyter-notebook.readthedocs.io/en/latest/examples/Notebook/Notebook%20Basics.html) (En inglés).\n",
    "2. [\"Índices de puntos entre los elementos\"](https://blog.nelhage.com/2015/08/indices-point-between-elements/) publicación de blog de Nelson Elhage (2015, en inglés).\n",
    "3. _Python para todos: explora datos usando Python 3_ (2016). Charles R. Severance. [PDF disponible](http://do1.dr-chuck.com/pythonlearn/EN_us/pythonlearn.pdf) (en inglés).\n",
    "4. _Piense en Python: cómo pensar como un científico de la computación_ (2012). Allen Downey. Green Tea Press. [PDF disponible](http://greenteapress.com/thinkpython/thinkpython.pdf) (en inglés)."
   ]
  },
  {
   "cell_type": "code",
   "execution_count": 1,
   "metadata": {},
   "outputs": [
    {
     "data": {
      "text/html": [
       "<link href=\"https://fonts.googleapis.com/css?family=Merriweather:300,300i,400,400i,700,700i,900,900i\" rel='stylesheet' >\n",
       "<link href=\"https://fonts.googleapis.com/css?family=Source+Sans+Pro:300,300i,400,400i,700,700i\" rel='stylesheet' >\n",
       "<link href='http://fonts.googleapis.com/css?family=Source+Code+Pro:300,400' rel='stylesheet' >\n",
       "<style>\n",
       "\n",
       "@font-face {\n",
       "    font-family: \"Computer Modern\";\n",
       "    src: url('http://mirrors.ctan.org/fonts/cm-unicode/fonts/otf/cmunss.otf');\n",
       "}\n",
       "\n",
       "\n",
       "#notebook_panel { /* main background */\n",
       "    background: rgb(245,245,245);\n",
       "}\n",
       "\n",
       "div.cell { /* set cell width */\n",
       "    width: 800px;\n",
       "}\n",
       "\n",
       "div #notebook { /* centre the content */\n",
       "    background: #fff; /* white background for content */\n",
       "    width: 1000px;\n",
       "    margin: auto;\n",
       "    padding-left: 0em;\n",
       "}\n",
       "\n",
       "#notebook li { /* More space between bullet points */\n",
       "margin-top:0.5em;\n",
       "}\n",
       "\n",
       "/* draw border around running cells */\n",
       "div.cell.border-box-sizing.code_cell.running { \n",
       "    border: 1px solid #111;\n",
       "}\n",
       "\n",
       "/* Put a solid color box around each cell and its output, visually linking them*/\n",
       "div.cell.code_cell {\n",
       "    background-color: rgb(256,256,256); \n",
       "    border-radius: 0px; \n",
       "    padding: 0.5em;\n",
       "    margin-left:1em;\n",
       "    margin-top: 1em;\n",
       "}\n",
       "\n",
       "\n",
       "div.text_cell_render{\n",
       "    font-family: 'Source Sans Pro', sans-serif;\n",
       "    line-height: 140%;\n",
       "    font-size: 110%;\n",
       "    width:680px;\n",
       "    margin-left:auto;\n",
       "    margin-right:auto;\n",
       "}\n",
       "\n",
       "/* Formatting for header cells */\n",
       ".text_cell_render h1 {\n",
       "    font-family: 'Merriweather', serif;\n",
       "    font-style:regular;\n",
       "    font-weight: bold;    \n",
       "    font-size: 250%;\n",
       "    line-height: 100%;\n",
       "    color: #004065;\n",
       "    margin-bottom: 1em;\n",
       "    margin-top: 0.5em;\n",
       "    display: block;\n",
       "}\t\n",
       ".text_cell_render h2 {\n",
       "    font-family: 'Merriweather', serif;\n",
       "    font-weight: bold; \n",
       "    font-size: 180%;\n",
       "    line-height: 100%;\n",
       "    color: #0096d6;\n",
       "    margin-bottom: 0.5em;\n",
       "    margin-top: 0.5em;\n",
       "    display: block;\n",
       "}\t\n",
       "\n",
       ".text_cell_render h3 {\n",
       "    font-family: 'Merriweather', serif;\n",
       "\tfont-size: 150%;\n",
       "    margin-top:12px;\n",
       "    margin-bottom: 3px;\n",
       "    font-style: regular;\n",
       "    color: #008367;\n",
       "}\n",
       "\n",
       ".text_cell_render h4 {    /*Use this for captions*/\n",
       "    font-family: 'Merriweather', serif;\n",
       "    font-weight: 300; \n",
       "    font-size: 100%;\n",
       "    line-height: 120%;\n",
       "    text-align: left;\n",
       "    width:500px;\n",
       "    margin-top: 1em;\n",
       "    margin-bottom: 2em;\n",
       "    margin-left: 80pt;\n",
       "    font-style: regular;\n",
       "}\n",
       "\n",
       ".text_cell_render h5 {  /*Use this for small titles*/\n",
       "    font-family: 'Source Sans Pro', sans-serif;\n",
       "    font-weight: regular;\n",
       "    font-size: 130%;\n",
       "    color: #e31937;\n",
       "    font-style: italic;\n",
       "    margin-bottom: .5em;\n",
       "    margin-top: 1em;\n",
       "    display: block;\n",
       "}\n",
       "\n",
       ".text_cell_render h6 { /*use this for copyright note*/\n",
       "    font-family: 'Source Code Pro', sans-serif;\n",
       "    font-weight: 300;\n",
       "    font-size: 9pt;\n",
       "    line-height: 100%;\n",
       "    color: grey;\n",
       "    margin-bottom: 1px;\n",
       "    margin-top: 1px;\n",
       "}\n",
       "\n",
       "    .CodeMirror{\n",
       "            font-family: \"Source Code Pro\";\n",
       "\t\t\tfont-size: 90%;\n",
       "    }\n",
       "/*    .prompt{\n",
       "        display: None;\n",
       "    }*/\n",
       "\t\n",
       "    \n",
       "    .warning{\n",
       "        color: rgb( 240, 20, 20 )\n",
       "        }  \n",
       "</style>\n",
       "<script>\n",
       "    MathJax.Hub.Config({\n",
       "                        TeX: {\n",
       "                           extensions: [\"AMSmath.js\"], \n",
       "                           equationNumbers: { autoNumber: \"AMS\", useLabelIds: true}\n",
       "                           },\n",
       "                tex2jax: {\n",
       "                    inlineMath: [ ['$','$'], [\"\\\\(\",\"\\\\)\"] ],\n",
       "                    displayMath: [ ['$$','$$'], [\"\\\\[\",\"\\\\]\"] ]\n",
       "                },\n",
       "                displayAlign: 'center', // Change this to 'center' to center equations.\n",
       "                \"HTML-CSS\": {\n",
       "                    styles: {'.MathJax_Display': {\"margin\": 4}}\n",
       "                }\n",
       "        });\n",
       "</script>\n"
      ],
      "text/plain": [
       "<IPython.core.display.HTML object>"
      ]
     },
     "execution_count": 1,
     "metadata": {},
     "output_type": "execute_result"
    }
   ],
   "source": [
    "# Ejecuta esta celda para cargar el notebook con estilo, \n",
    "# pero puedes ignorar su contenido.\n",
    "from IPython.core.display import HTML\n",
    "css_file = '../style/custom.css'\n",
    "HTML(open(css_file, \"r\").read())"
   ]
  }
 ],
 "metadata": {
  "kernelspec": {
   "display_name": "Python 3",
   "language": "python",
   "name": "python3"
  },
  "language_info": {
   "codemirror_mode": {
    "name": "ipython",
    "version": 3
   },
   "file_extension": ".py",
   "mimetype": "text/x-python",
   "name": "python",
   "nbconvert_exporter": "python",
   "pygments_lexer": "ipython3",
   "version": "3.5.2"
  },
  "widgets": {
   "state": {},
   "version": "1.1.2"
  }
 },
 "nbformat": 4,
 "nbformat_minor": 2
}
